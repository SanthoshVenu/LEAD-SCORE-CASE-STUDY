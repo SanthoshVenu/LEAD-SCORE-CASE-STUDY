{
 "cells": [
  {
   "cell_type": "code",
   "execution_count": 1,
   "metadata": {},
   "outputs": [],
   "source": [
    "import numpy as np\n",
    "import pandas as pd\n"
   ]
  },
  {
   "cell_type": "code",
   "execution_count": 2,
   "metadata": {},
   "outputs": [],
   "source": [
    "import matplotlib.pyplot as plt\n",
    "%matplotlib inline"
   ]
  },
  {
   "cell_type": "code",
   "execution_count": 3,
   "metadata": {},
   "outputs": [],
   "source": [
    "import seaborn as sns"
   ]
  },
  {
   "cell_type": "code",
   "execution_count": 4,
   "metadata": {},
   "outputs": [],
   "source": [
    "import warnings\n",
    "warnings.filterwarnings(\"ignore\", category=FutureWarning)"
   ]
  },
  {
   "cell_type": "code",
   "execution_count": 5,
   "metadata": {},
   "outputs": [
    {
     "data": {
      "text/html": [
       "<div>\n",
       "<style scoped>\n",
       "    .dataframe tbody tr th:only-of-type {\n",
       "        vertical-align: middle;\n",
       "    }\n",
       "\n",
       "    .dataframe tbody tr th {\n",
       "        vertical-align: top;\n",
       "    }\n",
       "\n",
       "    .dataframe thead th {\n",
       "        text-align: right;\n",
       "    }\n",
       "</style>\n",
       "<table border=\"1\" class=\"dataframe\">\n",
       "  <thead>\n",
       "    <tr style=\"text-align: right;\">\n",
       "      <th></th>\n",
       "      <th>Prospect ID</th>\n",
       "      <th>Lead Number</th>\n",
       "      <th>Lead Origin</th>\n",
       "      <th>Lead Source</th>\n",
       "      <th>Do Not Email</th>\n",
       "      <th>Do Not Call</th>\n",
       "      <th>Converted</th>\n",
       "      <th>TotalVisits</th>\n",
       "      <th>Total Time Spent on Website</th>\n",
       "      <th>Page Views Per Visit</th>\n",
       "      <th>...</th>\n",
       "      <th>Get updates on DM Content</th>\n",
       "      <th>Lead Profile</th>\n",
       "      <th>City</th>\n",
       "      <th>Asymmetrique Activity Index</th>\n",
       "      <th>Asymmetrique Profile Index</th>\n",
       "      <th>Asymmetrique Activity Score</th>\n",
       "      <th>Asymmetrique Profile Score</th>\n",
       "      <th>I agree to pay the amount through cheque</th>\n",
       "      <th>A free copy of Mastering The Interview</th>\n",
       "      <th>Last Notable Activity</th>\n",
       "    </tr>\n",
       "  </thead>\n",
       "  <tbody>\n",
       "    <tr>\n",
       "      <th>0</th>\n",
       "      <td>7927b2df-8bba-4d29-b9a2-b6e0beafe620</td>\n",
       "      <td>660737</td>\n",
       "      <td>API</td>\n",
       "      <td>Olark Chat</td>\n",
       "      <td>No</td>\n",
       "      <td>No</td>\n",
       "      <td>0</td>\n",
       "      <td>0.0</td>\n",
       "      <td>0</td>\n",
       "      <td>0.0</td>\n",
       "      <td>...</td>\n",
       "      <td>No</td>\n",
       "      <td>Select</td>\n",
       "      <td>Select</td>\n",
       "      <td>02.Medium</td>\n",
       "      <td>02.Medium</td>\n",
       "      <td>15.0</td>\n",
       "      <td>15.0</td>\n",
       "      <td>No</td>\n",
       "      <td>No</td>\n",
       "      <td>Modified</td>\n",
       "    </tr>\n",
       "    <tr>\n",
       "      <th>1</th>\n",
       "      <td>2a272436-5132-4136-86fa-dcc88c88f482</td>\n",
       "      <td>660728</td>\n",
       "      <td>API</td>\n",
       "      <td>Organic Search</td>\n",
       "      <td>No</td>\n",
       "      <td>No</td>\n",
       "      <td>0</td>\n",
       "      <td>5.0</td>\n",
       "      <td>674</td>\n",
       "      <td>2.5</td>\n",
       "      <td>...</td>\n",
       "      <td>No</td>\n",
       "      <td>Select</td>\n",
       "      <td>Select</td>\n",
       "      <td>02.Medium</td>\n",
       "      <td>02.Medium</td>\n",
       "      <td>15.0</td>\n",
       "      <td>15.0</td>\n",
       "      <td>No</td>\n",
       "      <td>No</td>\n",
       "      <td>Email Opened</td>\n",
       "    </tr>\n",
       "    <tr>\n",
       "      <th>2</th>\n",
       "      <td>8cc8c611-a219-4f35-ad23-fdfd2656bd8a</td>\n",
       "      <td>660727</td>\n",
       "      <td>Landing Page Submission</td>\n",
       "      <td>Direct Traffic</td>\n",
       "      <td>No</td>\n",
       "      <td>No</td>\n",
       "      <td>1</td>\n",
       "      <td>2.0</td>\n",
       "      <td>1532</td>\n",
       "      <td>2.0</td>\n",
       "      <td>...</td>\n",
       "      <td>No</td>\n",
       "      <td>Potential Lead</td>\n",
       "      <td>Mumbai</td>\n",
       "      <td>02.Medium</td>\n",
       "      <td>01.High</td>\n",
       "      <td>14.0</td>\n",
       "      <td>20.0</td>\n",
       "      <td>No</td>\n",
       "      <td>Yes</td>\n",
       "      <td>Email Opened</td>\n",
       "    </tr>\n",
       "    <tr>\n",
       "      <th>3</th>\n",
       "      <td>0cc2df48-7cf4-4e39-9de9-19797f9b38cc</td>\n",
       "      <td>660719</td>\n",
       "      <td>Landing Page Submission</td>\n",
       "      <td>Direct Traffic</td>\n",
       "      <td>No</td>\n",
       "      <td>No</td>\n",
       "      <td>0</td>\n",
       "      <td>1.0</td>\n",
       "      <td>305</td>\n",
       "      <td>1.0</td>\n",
       "      <td>...</td>\n",
       "      <td>No</td>\n",
       "      <td>Select</td>\n",
       "      <td>Mumbai</td>\n",
       "      <td>02.Medium</td>\n",
       "      <td>01.High</td>\n",
       "      <td>13.0</td>\n",
       "      <td>17.0</td>\n",
       "      <td>No</td>\n",
       "      <td>No</td>\n",
       "      <td>Modified</td>\n",
       "    </tr>\n",
       "    <tr>\n",
       "      <th>4</th>\n",
       "      <td>3256f628-e534-4826-9d63-4a8b88782852</td>\n",
       "      <td>660681</td>\n",
       "      <td>Landing Page Submission</td>\n",
       "      <td>Google</td>\n",
       "      <td>No</td>\n",
       "      <td>No</td>\n",
       "      <td>1</td>\n",
       "      <td>2.0</td>\n",
       "      <td>1428</td>\n",
       "      <td>1.0</td>\n",
       "      <td>...</td>\n",
       "      <td>No</td>\n",
       "      <td>Select</td>\n",
       "      <td>Mumbai</td>\n",
       "      <td>02.Medium</td>\n",
       "      <td>01.High</td>\n",
       "      <td>15.0</td>\n",
       "      <td>18.0</td>\n",
       "      <td>No</td>\n",
       "      <td>No</td>\n",
       "      <td>Modified</td>\n",
       "    </tr>\n",
       "  </tbody>\n",
       "</table>\n",
       "<p>5 rows × 37 columns</p>\n",
       "</div>"
      ],
      "text/plain": [
       "                            Prospect ID  Lead Number              Lead Origin  \\\n",
       "0  7927b2df-8bba-4d29-b9a2-b6e0beafe620       660737                      API   \n",
       "1  2a272436-5132-4136-86fa-dcc88c88f482       660728                      API   \n",
       "2  8cc8c611-a219-4f35-ad23-fdfd2656bd8a       660727  Landing Page Submission   \n",
       "3  0cc2df48-7cf4-4e39-9de9-19797f9b38cc       660719  Landing Page Submission   \n",
       "4  3256f628-e534-4826-9d63-4a8b88782852       660681  Landing Page Submission   \n",
       "\n",
       "      Lead Source Do Not Email Do Not Call  Converted  TotalVisits  \\\n",
       "0      Olark Chat           No          No          0          0.0   \n",
       "1  Organic Search           No          No          0          5.0   \n",
       "2  Direct Traffic           No          No          1          2.0   \n",
       "3  Direct Traffic           No          No          0          1.0   \n",
       "4          Google           No          No          1          2.0   \n",
       "\n",
       "   Total Time Spent on Website  Page Views Per Visit  ...  \\\n",
       "0                            0                   0.0  ...   \n",
       "1                          674                   2.5  ...   \n",
       "2                         1532                   2.0  ...   \n",
       "3                          305                   1.0  ...   \n",
       "4                         1428                   1.0  ...   \n",
       "\n",
       "  Get updates on DM Content    Lead Profile    City  \\\n",
       "0                        No          Select  Select   \n",
       "1                        No          Select  Select   \n",
       "2                        No  Potential Lead  Mumbai   \n",
       "3                        No          Select  Mumbai   \n",
       "4                        No          Select  Mumbai   \n",
       "\n",
       "  Asymmetrique Activity Index Asymmetrique Profile Index  \\\n",
       "0                   02.Medium                  02.Medium   \n",
       "1                   02.Medium                  02.Medium   \n",
       "2                   02.Medium                    01.High   \n",
       "3                   02.Medium                    01.High   \n",
       "4                   02.Medium                    01.High   \n",
       "\n",
       "  Asymmetrique Activity Score Asymmetrique Profile Score  \\\n",
       "0                        15.0                       15.0   \n",
       "1                        15.0                       15.0   \n",
       "2                        14.0                       20.0   \n",
       "3                        13.0                       17.0   \n",
       "4                        15.0                       18.0   \n",
       "\n",
       "  I agree to pay the amount through cheque  \\\n",
       "0                                       No   \n",
       "1                                       No   \n",
       "2                                       No   \n",
       "3                                       No   \n",
       "4                                       No   \n",
       "\n",
       "  A free copy of Mastering The Interview Last Notable Activity  \n",
       "0                                     No              Modified  \n",
       "1                                     No          Email Opened  \n",
       "2                                    Yes          Email Opened  \n",
       "3                                     No              Modified  \n",
       "4                                     No              Modified  \n",
       "\n",
       "[5 rows x 37 columns]"
      ]
     },
     "execution_count": 5,
     "metadata": {},
     "output_type": "execute_result"
    }
   ],
   "source": [
    "lead_df = pd.read_csv(r\"C:\\Users\\SANTHOSH VENUGOPAL\\Downloads\\Lead+Scoring+Case+Study\\Lead Scoring Assignment\\Leads.csv\")\n",
    "lead_df.head()"
   ]
  },
  {
   "cell_type": "code",
   "execution_count": 6,
   "metadata": {},
   "outputs": [
    {
     "data": {
      "text/plain": [
       "(9240, 37)"
      ]
     },
     "execution_count": 6,
     "metadata": {},
     "output_type": "execute_result"
    }
   ],
   "source": [
    "lead_df.shape"
   ]
  },
  {
   "cell_type": "code",
   "execution_count": 7,
   "metadata": {},
   "outputs": [
    {
     "data": {
      "text/html": [
       "<div>\n",
       "<style scoped>\n",
       "    .dataframe tbody tr th:only-of-type {\n",
       "        vertical-align: middle;\n",
       "    }\n",
       "\n",
       "    .dataframe tbody tr th {\n",
       "        vertical-align: top;\n",
       "    }\n",
       "\n",
       "    .dataframe thead th {\n",
       "        text-align: right;\n",
       "    }\n",
       "</style>\n",
       "<table border=\"1\" class=\"dataframe\">\n",
       "  <thead>\n",
       "    <tr style=\"text-align: right;\">\n",
       "      <th></th>\n",
       "      <th>Lead Number</th>\n",
       "      <th>Converted</th>\n",
       "      <th>TotalVisits</th>\n",
       "      <th>Total Time Spent on Website</th>\n",
       "      <th>Page Views Per Visit</th>\n",
       "      <th>Asymmetrique Activity Score</th>\n",
       "      <th>Asymmetrique Profile Score</th>\n",
       "    </tr>\n",
       "  </thead>\n",
       "  <tbody>\n",
       "    <tr>\n",
       "      <th>count</th>\n",
       "      <td>9240.000000</td>\n",
       "      <td>9240.000000</td>\n",
       "      <td>9103.000000</td>\n",
       "      <td>9240.000000</td>\n",
       "      <td>9103.000000</td>\n",
       "      <td>5022.000000</td>\n",
       "      <td>5022.000000</td>\n",
       "    </tr>\n",
       "    <tr>\n",
       "      <th>mean</th>\n",
       "      <td>617188.435606</td>\n",
       "      <td>0.385390</td>\n",
       "      <td>3.445238</td>\n",
       "      <td>487.698268</td>\n",
       "      <td>2.362820</td>\n",
       "      <td>14.306252</td>\n",
       "      <td>16.344883</td>\n",
       "    </tr>\n",
       "    <tr>\n",
       "      <th>std</th>\n",
       "      <td>23405.995698</td>\n",
       "      <td>0.486714</td>\n",
       "      <td>4.854853</td>\n",
       "      <td>548.021466</td>\n",
       "      <td>2.161418</td>\n",
       "      <td>1.386694</td>\n",
       "      <td>1.811395</td>\n",
       "    </tr>\n",
       "    <tr>\n",
       "      <th>min</th>\n",
       "      <td>579533.000000</td>\n",
       "      <td>0.000000</td>\n",
       "      <td>0.000000</td>\n",
       "      <td>0.000000</td>\n",
       "      <td>0.000000</td>\n",
       "      <td>7.000000</td>\n",
       "      <td>11.000000</td>\n",
       "    </tr>\n",
       "    <tr>\n",
       "      <th>25%</th>\n",
       "      <td>596484.500000</td>\n",
       "      <td>0.000000</td>\n",
       "      <td>1.000000</td>\n",
       "      <td>12.000000</td>\n",
       "      <td>1.000000</td>\n",
       "      <td>14.000000</td>\n",
       "      <td>15.000000</td>\n",
       "    </tr>\n",
       "    <tr>\n",
       "      <th>50%</th>\n",
       "      <td>615479.000000</td>\n",
       "      <td>0.000000</td>\n",
       "      <td>3.000000</td>\n",
       "      <td>248.000000</td>\n",
       "      <td>2.000000</td>\n",
       "      <td>14.000000</td>\n",
       "      <td>16.000000</td>\n",
       "    </tr>\n",
       "    <tr>\n",
       "      <th>75%</th>\n",
       "      <td>637387.250000</td>\n",
       "      <td>1.000000</td>\n",
       "      <td>5.000000</td>\n",
       "      <td>936.000000</td>\n",
       "      <td>3.000000</td>\n",
       "      <td>15.000000</td>\n",
       "      <td>18.000000</td>\n",
       "    </tr>\n",
       "    <tr>\n",
       "      <th>max</th>\n",
       "      <td>660737.000000</td>\n",
       "      <td>1.000000</td>\n",
       "      <td>251.000000</td>\n",
       "      <td>2272.000000</td>\n",
       "      <td>55.000000</td>\n",
       "      <td>18.000000</td>\n",
       "      <td>20.000000</td>\n",
       "    </tr>\n",
       "  </tbody>\n",
       "</table>\n",
       "</div>"
      ],
      "text/plain": [
       "         Lead Number    Converted  TotalVisits  Total Time Spent on Website  \\\n",
       "count    9240.000000  9240.000000  9103.000000                  9240.000000   \n",
       "mean   617188.435606     0.385390     3.445238                   487.698268   \n",
       "std     23405.995698     0.486714     4.854853                   548.021466   \n",
       "min    579533.000000     0.000000     0.000000                     0.000000   \n",
       "25%    596484.500000     0.000000     1.000000                    12.000000   \n",
       "50%    615479.000000     0.000000     3.000000                   248.000000   \n",
       "75%    637387.250000     1.000000     5.000000                   936.000000   \n",
       "max    660737.000000     1.000000   251.000000                  2272.000000   \n",
       "\n",
       "       Page Views Per Visit  Asymmetrique Activity Score  \\\n",
       "count           9103.000000                  5022.000000   \n",
       "mean               2.362820                    14.306252   \n",
       "std                2.161418                     1.386694   \n",
       "min                0.000000                     7.000000   \n",
       "25%                1.000000                    14.000000   \n",
       "50%                2.000000                    14.000000   \n",
       "75%                3.000000                    15.000000   \n",
       "max               55.000000                    18.000000   \n",
       "\n",
       "       Asymmetrique Profile Score  \n",
       "count                 5022.000000  \n",
       "mean                    16.344883  \n",
       "std                      1.811395  \n",
       "min                     11.000000  \n",
       "25%                     15.000000  \n",
       "50%                     16.000000  \n",
       "75%                     18.000000  \n",
       "max                     20.000000  "
      ]
     },
     "execution_count": 7,
     "metadata": {},
     "output_type": "execute_result"
    }
   ],
   "source": [
    "lead_df.describe()"
   ]
  },
  {
   "cell_type": "code",
   "execution_count": 8,
   "metadata": {
    "scrolled": true
   },
   "outputs": [
    {
     "name": "stdout",
     "output_type": "stream",
     "text": [
      "<class 'pandas.core.frame.DataFrame'>\n",
      "RangeIndex: 9240 entries, 0 to 9239\n",
      "Data columns (total 37 columns):\n",
      "Prospect ID                                      9240 non-null object\n",
      "Lead Number                                      9240 non-null int64\n",
      "Lead Origin                                      9240 non-null object\n",
      "Lead Source                                      9204 non-null object\n",
      "Do Not Email                                     9240 non-null object\n",
      "Do Not Call                                      9240 non-null object\n",
      "Converted                                        9240 non-null int64\n",
      "TotalVisits                                      9103 non-null float64\n",
      "Total Time Spent on Website                      9240 non-null int64\n",
      "Page Views Per Visit                             9103 non-null float64\n",
      "Last Activity                                    9137 non-null object\n",
      "Country                                          6779 non-null object\n",
      "Specialization                                   7802 non-null object\n",
      "How did you hear about X Education               7033 non-null object\n",
      "What is your current occupation                  6550 non-null object\n",
      "What matters most to you in choosing a course    6531 non-null object\n",
      "Search                                           9240 non-null object\n",
      "Magazine                                         9240 non-null object\n",
      "Newspaper Article                                9240 non-null object\n",
      "X Education Forums                               9240 non-null object\n",
      "Newspaper                                        9240 non-null object\n",
      "Digital Advertisement                            9240 non-null object\n",
      "Through Recommendations                          9240 non-null object\n",
      "Receive More Updates About Our Courses           9240 non-null object\n",
      "Tags                                             5887 non-null object\n",
      "Lead Quality                                     4473 non-null object\n",
      "Update me on Supply Chain Content                9240 non-null object\n",
      "Get updates on DM Content                        9240 non-null object\n",
      "Lead Profile                                     6531 non-null object\n",
      "City                                             7820 non-null object\n",
      "Asymmetrique Activity Index                      5022 non-null object\n",
      "Asymmetrique Profile Index                       5022 non-null object\n",
      "Asymmetrique Activity Score                      5022 non-null float64\n",
      "Asymmetrique Profile Score                       5022 non-null float64\n",
      "I agree to pay the amount through cheque         9240 non-null object\n",
      "A free copy of Mastering The Interview           9240 non-null object\n",
      "Last Notable Activity                            9240 non-null object\n",
      "dtypes: float64(4), int64(3), object(30)\n",
      "memory usage: 2.6+ MB\n"
     ]
    }
   ],
   "source": [
    "lead_df.info()"
   ]
  },
  {
   "cell_type": "markdown",
   "metadata": {},
   "source": [
    "### Altering Column Names"
   ]
  },
  {
   "cell_type": "code",
   "execution_count": 9,
   "metadata": {},
   "outputs": [
    {
     "data": {
      "text/plain": [
       "['Prospect_ID',\n",
       " 'Lead_Number',\n",
       " 'Lead_Origin',\n",
       " 'Lead_Source',\n",
       " 'Do_Not_Email',\n",
       " 'Do_Not_Call',\n",
       " 'Converted',\n",
       " 'TotalVisits',\n",
       " 'Total_Time_Spent_on_Website',\n",
       " 'Page_Views_Per_Visit',\n",
       " 'Last_Activity',\n",
       " 'Country',\n",
       " 'Specialization',\n",
       " 'How_did_you_hear_about_X_Education',\n",
       " 'What_is_your_current_occupation',\n",
       " 'What_matters_most_to_you_in_choosing_a_course',\n",
       " 'Search',\n",
       " 'Magazine',\n",
       " 'Newspaper_Article',\n",
       " 'X_Education_Forums',\n",
       " 'Newspaper',\n",
       " 'Digital_Advertisement',\n",
       " 'Through_Recommendations',\n",
       " 'Receive_More_Updates_About_Our_Courses',\n",
       " 'Tags',\n",
       " 'Lead_Quality',\n",
       " 'Update_me_on_Supply_Chain_Content',\n",
       " 'Get_updates_on_DM_Content',\n",
       " 'Lead_Profile',\n",
       " 'City',\n",
       " 'Asymmetrique_Activity_Index',\n",
       " 'Asymmetrique_Profile_Index',\n",
       " 'Asymmetrique_Activity_Score',\n",
       " 'Asymmetrique_Profile_Score',\n",
       " 'I_agree_to_pay_the_amount_through_cheque',\n",
       " 'A_free_copy_of_Mastering_The_Interview',\n",
       " 'Last_Notable_Activity']"
      ]
     },
     "execution_count": 9,
     "metadata": {},
     "output_type": "execute_result"
    }
   ],
   "source": [
    "altered_columns = []\n",
    "for i in list(lead_df.columns):\n",
    "    x=i.replace(\" \",\"_\")\n",
    "    altered_columns.append(x)\n",
    "    \n",
    "altered_columns"
   ]
  },
  {
   "cell_type": "code",
   "execution_count": 10,
   "metadata": {},
   "outputs": [
    {
     "data": {
      "text/plain": [
       "Index(['Prospect_ID', 'Lead_Number', 'Lead_Origin', 'Lead_Source',\n",
       "       'Do_Not_Email', 'Do_Not_Call', 'Converted', 'TotalVisits',\n",
       "       'Total_Time_Spent_on_Website', 'Page_Views_Per_Visit', 'Last_Activity',\n",
       "       'Country', 'Specialization', 'How_did_you_hear_about_X_Education',\n",
       "       'What_is_your_current_occupation',\n",
       "       'What_matters_most_to_you_in_choosing_a_course', 'Search', 'Magazine',\n",
       "       'Newspaper_Article', 'X_Education_Forums', 'Newspaper',\n",
       "       'Digital_Advertisement', 'Through_Recommendations',\n",
       "       'Receive_More_Updates_About_Our_Courses', 'Tags', 'Lead_Quality',\n",
       "       'Update_me_on_Supply_Chain_Content', 'Get_updates_on_DM_Content',\n",
       "       'Lead_Profile', 'City', 'Asymmetrique_Activity_Index',\n",
       "       'Asymmetrique_Profile_Index', 'Asymmetrique_Activity_Score',\n",
       "       'Asymmetrique_Profile_Score',\n",
       "       'I_agree_to_pay_the_amount_through_cheque',\n",
       "       'A_free_copy_of_Mastering_The_Interview', 'Last_Notable_Activity'],\n",
       "      dtype='object')"
      ]
     },
     "execution_count": 10,
     "metadata": {},
     "output_type": "execute_result"
    }
   ],
   "source": [
    "#Replacing the Existing columns with the Altered columns \n",
    "\n",
    "lead_df.columns = altered_columns\n",
    "lead_df.columns"
   ]
  },
  {
   "cell_type": "markdown",
   "metadata": {},
   "source": [
    "## Checking Duplicate values on PRIMARY COLUMNS"
   ]
  },
  {
   "cell_type": "code",
   "execution_count": 11,
   "metadata": {},
   "outputs": [
    {
     "data": {
      "text/plain": [
       "True"
      ]
     },
     "execution_count": 11,
     "metadata": {},
     "output_type": "execute_result"
    }
   ],
   "source": [
    "sum(lead_df.duplicated(subset = 'Prospect_ID')) == 0"
   ]
  },
  {
   "cell_type": "code",
   "execution_count": 12,
   "metadata": {},
   "outputs": [
    {
     "data": {
      "text/plain": [
       "True"
      ]
     },
     "execution_count": 12,
     "metadata": {},
     "output_type": "execute_result"
    }
   ],
   "source": [
    "sum(lead_df.duplicated(subset = 'Lead_Number')) == 0"
   ]
  },
  {
   "cell_type": "markdown",
   "metadata": {},
   "source": [
    "> Since there is no duplicate ID's present in these columns, all the customers are unique."
   ]
  },
  {
   "cell_type": "code",
   "execution_count": 13,
   "metadata": {},
   "outputs": [],
   "source": [
    "# We can drop the Prospect_Id and Lead_Number columns, as these are Primary Column comprises of Unique values\n",
    "lead_df.drop([\"Prospect_ID\",\"Lead_Number\"],1,inplace=True)"
   ]
  },
  {
   "cell_type": "code",
   "execution_count": null,
   "metadata": {},
   "outputs": [],
   "source": []
  },
  {
   "cell_type": "markdown",
   "metadata": {},
   "source": [
    "# EDA on Lead Score Dataset"
   ]
  },
  {
   "cell_type": "markdown",
   "metadata": {},
   "source": [
    "##  Missing Value Treatment"
   ]
  },
  {
   "cell_type": "code",
   "execution_count": 14,
   "metadata": {
    "scrolled": false
   },
   "outputs": [
    {
     "data": {
      "text/plain": [
       "Lead_Origin                                       0.00\n",
       "Lead_Source                                       0.39\n",
       "Do_Not_Email                                      0.00\n",
       "Do_Not_Call                                       0.00\n",
       "Converted                                         0.00\n",
       "TotalVisits                                       1.48\n",
       "Total_Time_Spent_on_Website                       0.00\n",
       "Page_Views_Per_Visit                              1.48\n",
       "Last_Activity                                     1.11\n",
       "Country                                          26.63\n",
       "Specialization                                   15.56\n",
       "How_did_you_hear_about_X_Education               23.89\n",
       "What_is_your_current_occupation                  29.11\n",
       "What_matters_most_to_you_in_choosing_a_course    29.32\n",
       "Search                                            0.00\n",
       "Magazine                                          0.00\n",
       "Newspaper_Article                                 0.00\n",
       "X_Education_Forums                                0.00\n",
       "Newspaper                                         0.00\n",
       "Digital_Advertisement                             0.00\n",
       "Through_Recommendations                           0.00\n",
       "Receive_More_Updates_About_Our_Courses            0.00\n",
       "Tags                                             36.29\n",
       "Lead_Quality                                     51.59\n",
       "Update_me_on_Supply_Chain_Content                 0.00\n",
       "Get_updates_on_DM_Content                         0.00\n",
       "Lead_Profile                                     29.32\n",
       "City                                             15.37\n",
       "Asymmetrique_Activity_Index                      45.65\n",
       "Asymmetrique_Profile_Index                       45.65\n",
       "Asymmetrique_Activity_Score                      45.65\n",
       "Asymmetrique_Profile_Score                       45.65\n",
       "I_agree_to_pay_the_amount_through_cheque          0.00\n",
       "A_free_copy_of_Mastering_The_Interview            0.00\n",
       "Last_Notable_Activity                             0.00\n",
       "dtype: float64"
      ]
     },
     "execution_count": 14,
     "metadata": {},
     "output_type": "execute_result"
    }
   ],
   "source": [
    "round((lead_df.isnull().sum()/len(lead_df.index)*100),2)"
   ]
  },
  {
   "cell_type": "code",
   "execution_count": 15,
   "metadata": {},
   "outputs": [
    {
     "data": {
      "text/html": [
       "<div>\n",
       "<style scoped>\n",
       "    .dataframe tbody tr th:only-of-type {\n",
       "        vertical-align: middle;\n",
       "    }\n",
       "\n",
       "    .dataframe tbody tr th {\n",
       "        vertical-align: top;\n",
       "    }\n",
       "\n",
       "    .dataframe thead th {\n",
       "        text-align: right;\n",
       "    }\n",
       "</style>\n",
       "<table border=\"1\" class=\"dataframe\">\n",
       "  <thead>\n",
       "    <tr style=\"text-align: right;\">\n",
       "      <th></th>\n",
       "      <th>Lead_Origin</th>\n",
       "      <th>Lead_Source</th>\n",
       "      <th>Do_Not_Email</th>\n",
       "      <th>Do_Not_Call</th>\n",
       "      <th>Converted</th>\n",
       "      <th>TotalVisits</th>\n",
       "      <th>Total_Time_Spent_on_Website</th>\n",
       "      <th>Page_Views_Per_Visit</th>\n",
       "      <th>Last_Activity</th>\n",
       "      <th>Country</th>\n",
       "      <th>...</th>\n",
       "      <th>Get_updates_on_DM_Content</th>\n",
       "      <th>Lead_Profile</th>\n",
       "      <th>City</th>\n",
       "      <th>Asymmetrique_Activity_Index</th>\n",
       "      <th>Asymmetrique_Profile_Index</th>\n",
       "      <th>Asymmetrique_Activity_Score</th>\n",
       "      <th>Asymmetrique_Profile_Score</th>\n",
       "      <th>I_agree_to_pay_the_amount_through_cheque</th>\n",
       "      <th>A_free_copy_of_Mastering_The_Interview</th>\n",
       "      <th>Last_Notable_Activity</th>\n",
       "    </tr>\n",
       "  </thead>\n",
       "  <tbody>\n",
       "    <tr>\n",
       "      <th>0</th>\n",
       "      <td>API</td>\n",
       "      <td>Olark Chat</td>\n",
       "      <td>No</td>\n",
       "      <td>No</td>\n",
       "      <td>0</td>\n",
       "      <td>0.0</td>\n",
       "      <td>0</td>\n",
       "      <td>0.0</td>\n",
       "      <td>Page Visited on Website</td>\n",
       "      <td>NaN</td>\n",
       "      <td>...</td>\n",
       "      <td>No</td>\n",
       "      <td>Select</td>\n",
       "      <td>Select</td>\n",
       "      <td>02.Medium</td>\n",
       "      <td>02.Medium</td>\n",
       "      <td>15.0</td>\n",
       "      <td>15.0</td>\n",
       "      <td>No</td>\n",
       "      <td>No</td>\n",
       "      <td>Modified</td>\n",
       "    </tr>\n",
       "    <tr>\n",
       "      <th>1</th>\n",
       "      <td>API</td>\n",
       "      <td>Organic Search</td>\n",
       "      <td>No</td>\n",
       "      <td>No</td>\n",
       "      <td>0</td>\n",
       "      <td>5.0</td>\n",
       "      <td>674</td>\n",
       "      <td>2.5</td>\n",
       "      <td>Email Opened</td>\n",
       "      <td>India</td>\n",
       "      <td>...</td>\n",
       "      <td>No</td>\n",
       "      <td>Select</td>\n",
       "      <td>Select</td>\n",
       "      <td>02.Medium</td>\n",
       "      <td>02.Medium</td>\n",
       "      <td>15.0</td>\n",
       "      <td>15.0</td>\n",
       "      <td>No</td>\n",
       "      <td>No</td>\n",
       "      <td>Email Opened</td>\n",
       "    </tr>\n",
       "    <tr>\n",
       "      <th>2</th>\n",
       "      <td>Landing Page Submission</td>\n",
       "      <td>Direct Traffic</td>\n",
       "      <td>No</td>\n",
       "      <td>No</td>\n",
       "      <td>1</td>\n",
       "      <td>2.0</td>\n",
       "      <td>1532</td>\n",
       "      <td>2.0</td>\n",
       "      <td>Email Opened</td>\n",
       "      <td>India</td>\n",
       "      <td>...</td>\n",
       "      <td>No</td>\n",
       "      <td>Potential Lead</td>\n",
       "      <td>Mumbai</td>\n",
       "      <td>02.Medium</td>\n",
       "      <td>01.High</td>\n",
       "      <td>14.0</td>\n",
       "      <td>20.0</td>\n",
       "      <td>No</td>\n",
       "      <td>Yes</td>\n",
       "      <td>Email Opened</td>\n",
       "    </tr>\n",
       "  </tbody>\n",
       "</table>\n",
       "<p>3 rows × 35 columns</p>\n",
       "</div>"
      ],
      "text/plain": [
       "               Lead_Origin     Lead_Source Do_Not_Email Do_Not_Call  \\\n",
       "0                      API      Olark Chat           No          No   \n",
       "1                      API  Organic Search           No          No   \n",
       "2  Landing Page Submission  Direct Traffic           No          No   \n",
       "\n",
       "   Converted  TotalVisits  Total_Time_Spent_on_Website  Page_Views_Per_Visit  \\\n",
       "0          0          0.0                            0                   0.0   \n",
       "1          0          5.0                          674                   2.5   \n",
       "2          1          2.0                         1532                   2.0   \n",
       "\n",
       "             Last_Activity Country  ... Get_updates_on_DM_Content  \\\n",
       "0  Page Visited on Website     NaN  ...                        No   \n",
       "1             Email Opened   India  ...                        No   \n",
       "2             Email Opened   India  ...                        No   \n",
       "\n",
       "     Lead_Profile    City Asymmetrique_Activity_Index  \\\n",
       "0          Select  Select                   02.Medium   \n",
       "1          Select  Select                   02.Medium   \n",
       "2  Potential Lead  Mumbai                   02.Medium   \n",
       "\n",
       "  Asymmetrique_Profile_Index Asymmetrique_Activity_Score  \\\n",
       "0                  02.Medium                        15.0   \n",
       "1                  02.Medium                        15.0   \n",
       "2                    01.High                        14.0   \n",
       "\n",
       "  Asymmetrique_Profile_Score I_agree_to_pay_the_amount_through_cheque  \\\n",
       "0                       15.0                                       No   \n",
       "1                       15.0                                       No   \n",
       "2                       20.0                                       No   \n",
       "\n",
       "  A_free_copy_of_Mastering_The_Interview Last_Notable_Activity  \n",
       "0                                     No              Modified  \n",
       "1                                     No          Email Opened  \n",
       "2                                    Yes          Email Opened  \n",
       "\n",
       "[3 rows x 35 columns]"
      ]
     },
     "execution_count": 15,
     "metadata": {},
     "output_type": "execute_result"
    }
   ],
   "source": [
    "lead_df.head(3)"
   ]
  },
  {
   "cell_type": "markdown",
   "metadata": {},
   "source": [
    ">We can observe that **Select** values are present in many columns. Most of the users fill the form mostly via Websites. \n",
    "By default every dropdownlist or any field, has the value **Select** if the user did not select any values from the list.\n",
    "So we can consider the **Select** as **missing values or null values**"
   ]
  },
  {
   "cell_type": "code",
   "execution_count": 16,
   "metadata": {},
   "outputs": [],
   "source": [
    "#Replacing \"Select\" with NaN\n",
    "lead_df.replace(\"Select\",np.nan,inplace=True)"
   ]
  },
  {
   "cell_type": "code",
   "execution_count": 17,
   "metadata": {},
   "outputs": [
    {
     "data": {
      "text/html": [
       "<div>\n",
       "<style scoped>\n",
       "    .dataframe tbody tr th:only-of-type {\n",
       "        vertical-align: middle;\n",
       "    }\n",
       "\n",
       "    .dataframe tbody tr th {\n",
       "        vertical-align: top;\n",
       "    }\n",
       "\n",
       "    .dataframe thead th {\n",
       "        text-align: right;\n",
       "    }\n",
       "</style>\n",
       "<table border=\"1\" class=\"dataframe\">\n",
       "  <thead>\n",
       "    <tr style=\"text-align: right;\">\n",
       "      <th></th>\n",
       "      <th>Lead_Origin</th>\n",
       "      <th>Lead_Source</th>\n",
       "      <th>Do_Not_Email</th>\n",
       "      <th>Do_Not_Call</th>\n",
       "      <th>Converted</th>\n",
       "      <th>TotalVisits</th>\n",
       "      <th>Total_Time_Spent_on_Website</th>\n",
       "      <th>Page_Views_Per_Visit</th>\n",
       "      <th>Last_Activity</th>\n",
       "      <th>Country</th>\n",
       "      <th>...</th>\n",
       "      <th>Get_updates_on_DM_Content</th>\n",
       "      <th>Lead_Profile</th>\n",
       "      <th>City</th>\n",
       "      <th>Asymmetrique_Activity_Index</th>\n",
       "      <th>Asymmetrique_Profile_Index</th>\n",
       "      <th>Asymmetrique_Activity_Score</th>\n",
       "      <th>Asymmetrique_Profile_Score</th>\n",
       "      <th>I_agree_to_pay_the_amount_through_cheque</th>\n",
       "      <th>A_free_copy_of_Mastering_The_Interview</th>\n",
       "      <th>Last_Notable_Activity</th>\n",
       "    </tr>\n",
       "  </thead>\n",
       "  <tbody>\n",
       "    <tr>\n",
       "      <th>0</th>\n",
       "      <td>API</td>\n",
       "      <td>Olark Chat</td>\n",
       "      <td>No</td>\n",
       "      <td>No</td>\n",
       "      <td>0</td>\n",
       "      <td>0.0</td>\n",
       "      <td>0</td>\n",
       "      <td>0.0</td>\n",
       "      <td>Page Visited on Website</td>\n",
       "      <td>NaN</td>\n",
       "      <td>...</td>\n",
       "      <td>No</td>\n",
       "      <td>NaN</td>\n",
       "      <td>NaN</td>\n",
       "      <td>02.Medium</td>\n",
       "      <td>02.Medium</td>\n",
       "      <td>15.0</td>\n",
       "      <td>15.0</td>\n",
       "      <td>No</td>\n",
       "      <td>No</td>\n",
       "      <td>Modified</td>\n",
       "    </tr>\n",
       "    <tr>\n",
       "      <th>1</th>\n",
       "      <td>API</td>\n",
       "      <td>Organic Search</td>\n",
       "      <td>No</td>\n",
       "      <td>No</td>\n",
       "      <td>0</td>\n",
       "      <td>5.0</td>\n",
       "      <td>674</td>\n",
       "      <td>2.5</td>\n",
       "      <td>Email Opened</td>\n",
       "      <td>India</td>\n",
       "      <td>...</td>\n",
       "      <td>No</td>\n",
       "      <td>NaN</td>\n",
       "      <td>NaN</td>\n",
       "      <td>02.Medium</td>\n",
       "      <td>02.Medium</td>\n",
       "      <td>15.0</td>\n",
       "      <td>15.0</td>\n",
       "      <td>No</td>\n",
       "      <td>No</td>\n",
       "      <td>Email Opened</td>\n",
       "    </tr>\n",
       "    <tr>\n",
       "      <th>2</th>\n",
       "      <td>Landing Page Submission</td>\n",
       "      <td>Direct Traffic</td>\n",
       "      <td>No</td>\n",
       "      <td>No</td>\n",
       "      <td>1</td>\n",
       "      <td>2.0</td>\n",
       "      <td>1532</td>\n",
       "      <td>2.0</td>\n",
       "      <td>Email Opened</td>\n",
       "      <td>India</td>\n",
       "      <td>...</td>\n",
       "      <td>No</td>\n",
       "      <td>Potential Lead</td>\n",
       "      <td>Mumbai</td>\n",
       "      <td>02.Medium</td>\n",
       "      <td>01.High</td>\n",
       "      <td>14.0</td>\n",
       "      <td>20.0</td>\n",
       "      <td>No</td>\n",
       "      <td>Yes</td>\n",
       "      <td>Email Opened</td>\n",
       "    </tr>\n",
       "  </tbody>\n",
       "</table>\n",
       "<p>3 rows × 35 columns</p>\n",
       "</div>"
      ],
      "text/plain": [
       "               Lead_Origin     Lead_Source Do_Not_Email Do_Not_Call  \\\n",
       "0                      API      Olark Chat           No          No   \n",
       "1                      API  Organic Search           No          No   \n",
       "2  Landing Page Submission  Direct Traffic           No          No   \n",
       "\n",
       "   Converted  TotalVisits  Total_Time_Spent_on_Website  Page_Views_Per_Visit  \\\n",
       "0          0          0.0                            0                   0.0   \n",
       "1          0          5.0                          674                   2.5   \n",
       "2          1          2.0                         1532                   2.0   \n",
       "\n",
       "             Last_Activity Country  ... Get_updates_on_DM_Content  \\\n",
       "0  Page Visited on Website     NaN  ...                        No   \n",
       "1             Email Opened   India  ...                        No   \n",
       "2             Email Opened   India  ...                        No   \n",
       "\n",
       "     Lead_Profile    City Asymmetrique_Activity_Index  \\\n",
       "0             NaN     NaN                   02.Medium   \n",
       "1             NaN     NaN                   02.Medium   \n",
       "2  Potential Lead  Mumbai                   02.Medium   \n",
       "\n",
       "  Asymmetrique_Profile_Index Asymmetrique_Activity_Score  \\\n",
       "0                  02.Medium                        15.0   \n",
       "1                  02.Medium                        15.0   \n",
       "2                    01.High                        14.0   \n",
       "\n",
       "  Asymmetrique_Profile_Score I_agree_to_pay_the_amount_through_cheque  \\\n",
       "0                       15.0                                       No   \n",
       "1                       15.0                                       No   \n",
       "2                       20.0                                       No   \n",
       "\n",
       "  A_free_copy_of_Mastering_The_Interview Last_Notable_Activity  \n",
       "0                                     No              Modified  \n",
       "1                                     No          Email Opened  \n",
       "2                                    Yes          Email Opened  \n",
       "\n",
       "[3 rows x 35 columns]"
      ]
     },
     "execution_count": 17,
     "metadata": {},
     "output_type": "execute_result"
    }
   ],
   "source": [
    "lead_df.head(3)"
   ]
  },
  {
   "cell_type": "code",
   "execution_count": 18,
   "metadata": {},
   "outputs": [
    {
     "data": {
      "text/plain": [
       "Lead_Origin                                       0.00\n",
       "Lead_Source                                       0.39\n",
       "Do_Not_Email                                      0.00\n",
       "Do_Not_Call                                       0.00\n",
       "Converted                                         0.00\n",
       "TotalVisits                                       1.48\n",
       "Total_Time_Spent_on_Website                       0.00\n",
       "Page_Views_Per_Visit                              1.48\n",
       "Last_Activity                                     1.11\n",
       "Country                                          26.63\n",
       "Specialization                                   36.58\n",
       "How_did_you_hear_about_X_Education               78.46\n",
       "What_is_your_current_occupation                  29.11\n",
       "What_matters_most_to_you_in_choosing_a_course    29.32\n",
       "Search                                            0.00\n",
       "Magazine                                          0.00\n",
       "Newspaper_Article                                 0.00\n",
       "X_Education_Forums                                0.00\n",
       "Newspaper                                         0.00\n",
       "Digital_Advertisement                             0.00\n",
       "Through_Recommendations                           0.00\n",
       "Receive_More_Updates_About_Our_Courses            0.00\n",
       "Tags                                             36.29\n",
       "Lead_Quality                                     51.59\n",
       "Update_me_on_Supply_Chain_Content                 0.00\n",
       "Get_updates_on_DM_Content                         0.00\n",
       "Lead_Profile                                     74.19\n",
       "City                                             39.71\n",
       "Asymmetrique_Activity_Index                      45.65\n",
       "Asymmetrique_Profile_Index                       45.65\n",
       "Asymmetrique_Activity_Score                      45.65\n",
       "Asymmetrique_Profile_Score                       45.65\n",
       "I_agree_to_pay_the_amount_through_cheque          0.00\n",
       "A_free_copy_of_Mastering_The_Interview            0.00\n",
       "Last_Notable_Activity                             0.00\n",
       "dtype: float64"
      ]
     },
     "execution_count": 18,
     "metadata": {},
     "output_type": "execute_result"
    }
   ],
   "source": [
    "round((lead_df.isnull().sum()/len(lead_df.index)*100),2)"
   ]
  },
  {
   "cell_type": "code",
   "execution_count": 19,
   "metadata": {},
   "outputs": [
    {
     "data": {
      "text/plain": [
       "(9240, 35)"
      ]
     },
     "execution_count": 19,
     "metadata": {},
     "output_type": "execute_result"
    }
   ],
   "source": [
    "lead_df.shape"
   ]
  },
  {
   "cell_type": "code",
   "execution_count": 20,
   "metadata": {},
   "outputs": [],
   "source": [
    "#From the above Missing values data, we can surely say that data with more than 45% of data missing will not make much impact \n",
    "#even after we impute them with any values\n",
    "# So we can confidently remove these columns\n",
    "\n",
    "cols=lead_df.columns\n",
    "\n",
    "for i in cols:\n",
    "    if((100*(lead_df[i].isnull().sum()/len(lead_df.index))) >= 45):\n",
    "        lead_df.drop(i, 1, inplace = True)"
   ]
  },
  {
   "cell_type": "code",
   "execution_count": 21,
   "metadata": {
    "scrolled": true
   },
   "outputs": [
    {
     "data": {
      "text/plain": [
       "Lead_Origin                                       0.00\n",
       "Lead_Source                                       0.39\n",
       "Do_Not_Email                                      0.00\n",
       "Do_Not_Call                                       0.00\n",
       "Converted                                         0.00\n",
       "TotalVisits                                       1.48\n",
       "Total_Time_Spent_on_Website                       0.00\n",
       "Page_Views_Per_Visit                              1.48\n",
       "Last_Activity                                     1.11\n",
       "Country                                          26.63\n",
       "Specialization                                   36.58\n",
       "What_is_your_current_occupation                  29.11\n",
       "What_matters_most_to_you_in_choosing_a_course    29.32\n",
       "Search                                            0.00\n",
       "Magazine                                          0.00\n",
       "Newspaper_Article                                 0.00\n",
       "X_Education_Forums                                0.00\n",
       "Newspaper                                         0.00\n",
       "Digital_Advertisement                             0.00\n",
       "Through_Recommendations                           0.00\n",
       "Receive_More_Updates_About_Our_Courses            0.00\n",
       "Tags                                             36.29\n",
       "Update_me_on_Supply_Chain_Content                 0.00\n",
       "Get_updates_on_DM_Content                         0.00\n",
       "City                                             39.71\n",
       "I_agree_to_pay_the_amount_through_cheque          0.00\n",
       "A_free_copy_of_Mastering_The_Interview            0.00\n",
       "Last_Notable_Activity                             0.00\n",
       "dtype: float64"
      ]
     },
     "execution_count": 21,
     "metadata": {},
     "output_type": "execute_result"
    }
   ],
   "source": [
    "round((lead_df.isnull().sum()/len(lead_df.index)*100),2)"
   ]
  },
  {
   "cell_type": "code",
   "execution_count": null,
   "metadata": {},
   "outputs": [],
   "source": []
  },
  {
   "cell_type": "markdown",
   "metadata": {},
   "source": [
    "## Univariate Analysis"
   ]
  },
  {
   "cell_type": "markdown",
   "metadata": {},
   "source": [
    "# Categorical Variable Analysis"
   ]
  },
  {
   "cell_type": "markdown",
   "metadata": {},
   "source": [
    " ### Country"
   ]
  },
  {
   "cell_type": "code",
   "execution_count": 22,
   "metadata": {},
   "outputs": [
    {
     "data": {
      "text/plain": [
       "count      6779\n",
       "unique       38\n",
       "top       India\n",
       "freq       6492\n",
       "Name: Country, dtype: object"
      ]
     },
     "execution_count": 22,
     "metadata": {},
     "output_type": "execute_result"
    }
   ],
   "source": [
    "lead_df.Country.describe()"
   ]
  },
  {
   "cell_type": "code",
   "execution_count": 23,
   "metadata": {
    "scrolled": true
   },
   "outputs": [
    {
     "data": {
      "image/png": "[encoded data removed]",
      "text/plain": [
       "<Figure size 720x360 with 1 Axes>"
      ]
     },
     "metadata": {
      "needs_background": "light"
     },
     "output_type": "display_data"
    }
   ],
   "source": [
    "fig, axs = plt.subplots(figsize=(10,5))\n",
    "sns.countplot(lead_df.Country)\n",
    "plt.xticks(rotation=90)\n",
    "plt.show()"
   ]
  },
  {
   "cell_type": "code",
   "execution_count": 24,
   "metadata": {
    "scrolled": true
   },
   "outputs": [
    {
     "data": {
      "text/plain": [
       "count      9240\n",
       "unique       38\n",
       "top       India\n",
       "freq       8953\n",
       "Name: Country, dtype: object"
      ]
     },
     "execution_count": 24,
     "metadata": {},
     "output_type": "execute_result"
    }
   ],
   "source": [
    "# Here as we see that country India has the highest frequency of Occurance. So we can impute the missing values with \"INDIA\"\n",
    "lead_df.Country = lead_df.Country.replace(np.nan,\"India\")\n",
    "lead_df.Country.describe()"
   ]
  },
  {
   "cell_type": "code",
   "execution_count": 25,
   "metadata": {},
   "outputs": [],
   "source": [
    "# Since country has more than 95% of the data in the column as \"INDIA\" we can get effective insights from this column\n",
    "#So we can drop this column\n",
    "lead_df.drop(\"Country\",1,inplace=True)"
   ]
  },
  {
   "cell_type": "code",
   "execution_count": 26,
   "metadata": {},
   "outputs": [
    {
     "name": "stdout",
     "output_type": "stream",
     "text": [
      "<class 'pandas.core.frame.DataFrame'>\n",
      "RangeIndex: 9240 entries, 0 to 9239\n",
      "Data columns (total 27 columns):\n",
      "Lead_Origin                                      9240 non-null object\n",
      "Lead_Source                                      9204 non-null object\n",
      "Do_Not_Email                                     9240 non-null object\n",
      "Do_Not_Call                                      9240 non-null object\n",
      "Converted                                        9240 non-null int64\n",
      "TotalVisits                                      9103 non-null float64\n",
      "Total_Time_Spent_on_Website                      9240 non-null int64\n",
      "Page_Views_Per_Visit                             9103 non-null float64\n",
      "Last_Activity                                    9137 non-null object\n",
      "Specialization                                   5860 non-null object\n",
      "What_is_your_current_occupation                  6550 non-null object\n",
      "What_matters_most_to_you_in_choosing_a_course    6531 non-null object\n",
      "Search                                           9240 non-null object\n",
      "Magazine                                         9240 non-null object\n",
      "Newspaper_Article                                9240 non-null object\n",
      "X_Education_Forums                               9240 non-null object\n",
      "Newspaper                                        9240 non-null object\n",
      "Digital_Advertisement                            9240 non-null object\n",
      "Through_Recommendations                          9240 non-null object\n",
      "Receive_More_Updates_About_Our_Courses           9240 non-null object\n",
      "Tags                                             5887 non-null object\n",
      "Update_me_on_Supply_Chain_Content                9240 non-null object\n",
      "Get_updates_on_DM_Content                        9240 non-null object\n",
      "City                                             5571 non-null object\n",
      "I_agree_to_pay_the_amount_through_cheque         9240 non-null object\n",
      "A_free_copy_of_Mastering_The_Interview           9240 non-null object\n",
      "Last_Notable_Activity                            9240 non-null object\n",
      "dtypes: float64(2), int64(2), object(23)\n",
      "memory usage: 1.9+ MB\n"
     ]
    }
   ],
   "source": [
    "lead_df.info()"
   ]
  },
  {
   "cell_type": "markdown",
   "metadata": {},
   "source": [
    "### Specialization"
   ]
  },
  {
   "cell_type": "code",
   "execution_count": 27,
   "metadata": {},
   "outputs": [
    {
     "data": {
      "text/plain": [
       "NaN                                  3380\n",
       "Finance Management                    976\n",
       "Human Resource Management             848\n",
       "Marketing Management                  838\n",
       "Operations Management                 503\n",
       "Business Administration               403\n",
       "IT Projects Management                366\n",
       "Supply Chain Management               349\n",
       "Banking, Investment And Insurance     338\n",
       "Media and Advertising                 203\n",
       "Travel and Tourism                    203\n",
       "International Business                178\n",
       "Healthcare Management                 159\n",
       "Hospitality Management                114\n",
       "E-COMMERCE                            112\n",
       "Retail Management                     100\n",
       "Rural and Agribusiness                 73\n",
       "E-Business                             57\n",
       "Services Excellence                    40\n",
       "Name: Specialization, dtype: int64"
      ]
     },
     "execution_count": 27,
     "metadata": {},
     "output_type": "execute_result"
    }
   ],
   "source": [
    "lead_df.Specialization.value_counts(dropna=False)"
   ]
  },
  {
   "cell_type": "code",
   "execution_count": 28,
   "metadata": {},
   "outputs": [],
   "source": [
    " # Here when we think in a Buisneess logic view, we cannot  impute the max frequency values. Every person has a unique Specilization,\n",
    "# Persons specilization cannot be null too.So we can include all the null values under \"Other Specilizations\".\n",
    "lead_df.Specialization = lead_df.Specialization.replace(np.nan,\"Other Specialization\")"
   ]
  },
  {
   "cell_type": "code",
   "execution_count": 29,
   "metadata": {},
   "outputs": [],
   "source": [
    "# We can also shrink the management into a single entity\n",
    "lead_df['Specialization'] = lead_df['Specialization'].replace(['Finance Management','Human Resource Management',\n",
    "                                                           'Marketing Management','Operations Management',\n",
    "                                                           'IT Projects Management','Supply Chain Management',\n",
    "                                                    'Healthcare Management','Hospitality Management',\n",
    "                                                           'Retail Management'] ,'Management_Specializations')  "
   ]
  },
  {
   "cell_type": "code",
   "execution_count": 30,
   "metadata": {},
   "outputs": [
    {
     "data": {
      "text/plain": [
       "count                           9240\n",
       "unique                            11\n",
       "top       Management_Specializations\n",
       "freq                            4253\n",
       "Name: Specialization, dtype: object"
      ]
     },
     "execution_count": 30,
     "metadata": {},
     "output_type": "execute_result"
    }
   ],
   "source": [
    "lead_df.Specialization.describe()\n"
   ]
  },
  {
   "cell_type": "code",
   "execution_count": 31,
   "metadata": {
    "scrolled": true
   },
   "outputs": [
    {
     "data": {
      "image/png": "[encoded data removed]",
      "text/plain": [
       "<Figure size 1080x360 with 1 Axes>"
      ]
     },
     "metadata": {
      "needs_background": "light"
     },
     "output_type": "display_data"
    }
   ],
   "source": [
    "plt.figure(figsize=(15,5))\n",
    "Spec_plot=sns.countplot(\"Specialization\", data=lead_df,hue=\"Converted\")\n",
    "Spec_plot.set_xticklabels(Spec_plot.get_xticklabels(),rotation=90)\n",
    "plt.show()"
   ]
  },
  {
   "cell_type": "markdown",
   "metadata": {},
   "source": [
    "> Specification is a Significant column. It has good contribution to the overall data"
   ]
  },
  {
   "cell_type": "markdown",
   "metadata": {},
   "source": [
    "### Current Occupation"
   ]
  },
  {
   "cell_type": "code",
   "execution_count": 32,
   "metadata": {},
   "outputs": [
    {
     "data": {
      "text/plain": [
       "count           6550\n",
       "unique             6\n",
       "top       Unemployed\n",
       "freq            5600\n",
       "Name: What_is_your_current_occupation, dtype: object"
      ]
     },
     "execution_count": 32,
     "metadata": {},
     "output_type": "execute_result"
    }
   ],
   "source": [
    "lead_df.What_is_your_current_occupation.describe()"
   ]
  },
  {
   "cell_type": "code",
   "execution_count": 33,
   "metadata": {},
   "outputs": [
    {
     "data": {
      "image/png": "[encoded data removed]",
      "text/plain": [
       "<Figure size 432x288 with 1 Axes>"
      ]
     },
     "metadata": {
      "needs_background": "light"
     },
     "output_type": "display_data"
    }
   ],
   "source": [
    "sns.countplot(\"What_is_your_current_occupation\",data=lead_df)\n",
    "plt.xticks(rotation = 90)\n",
    "plt.show()"
   ]
  },
  {
   "cell_type": "code",
   "execution_count": 34,
   "metadata": {},
   "outputs": [
    {
     "data": {
      "text/plain": [
       "count           9240\n",
       "unique             6\n",
       "top       Unemployed\n",
       "freq            8290\n",
       "Name: What_is_your_current_occupation, dtype: object"
      ]
     },
     "execution_count": 34,
     "metadata": {},
     "output_type": "execute_result"
    }
   ],
   "source": [
    "# Here majority is Unemployed category.\n",
    "# We cannot create a new category for this, as it of no use.\n",
    "#So, we can fill the Null values with Unemployed\n",
    "lead_df.What_is_your_current_occupation = lead_df.What_is_your_current_occupation.replace(np.nan,\"Unemployed\")\n",
    "lead_df.What_is_your_current_occupation.describe()"
   ]
  },
  {
   "cell_type": "code",
   "execution_count": 35,
   "metadata": {
    "scrolled": true
   },
   "outputs": [
    {
     "data": {
      "image/png": "[encoded data removed]",
      "text/plain": [
       "<Figure size 1080x360 with 1 Axes>"
      ]
     },
     "metadata": {
      "needs_background": "light"
     },
     "output_type": "display_data"
    }
   ],
   "source": [
    "plt.figure(figsize=(15,5))\n",
    "Occ_plot=sns.countplot(\"What_is_your_current_occupation\", data=lead_df,hue=\"Converted\")\n",
    "Occ_plot.set_xticklabels(Occ_plot.get_xticklabels(),rotation=90)\n",
    "plt.show()"
   ]
  },
  {
   "cell_type": "markdown",
   "metadata": {},
   "source": [
    "### Inference\n",
    "1. Unemployeed has nearly 50% chance for being converted and Working personal had higher chance to get converted\n",
    "2. This column is Significant"
   ]
  },
  {
   "cell_type": "markdown",
   "metadata": {},
   "source": [
    "### What matter most of you choosing a course"
   ]
  },
  {
   "cell_type": "code",
   "execution_count": 36,
   "metadata": {},
   "outputs": [
    {
     "data": {
      "text/plain": [
       "count                        6531\n",
       "unique                          3\n",
       "top       Better Career Prospects\n",
       "freq                         6528\n",
       "Name: What_matters_most_to_you_in_choosing_a_course, dtype: object"
      ]
     },
     "execution_count": 36,
     "metadata": {},
     "output_type": "execute_result"
    }
   ],
   "source": [
    "lead_df.What_matters_most_to_you_in_choosing_a_course.describe()"
   ]
  },
  {
   "cell_type": "code",
   "execution_count": 37,
   "metadata": {},
   "outputs": [
    {
     "data": {
      "image/png": "[encoded data removed]",
      "text/plain": [
       "<Figure size 432x288 with 1 Axes>"
      ]
     },
     "metadata": {
      "needs_background": "light"
     },
     "output_type": "display_data"
    }
   ],
   "source": [
    "sns.countplot(\"What_matters_most_to_you_in_choosing_a_course\",data=lead_df,hue=\"Converted\")\n",
    "plt.xticks(rotation = 90)\n",
    "plt.show()"
   ]
  },
  {
   "cell_type": "code",
   "execution_count": 38,
   "metadata": {},
   "outputs": [
    {
     "data": {
      "text/plain": [
       "count                        9240\n",
       "unique                          3\n",
       "top       Better Career Prospects\n",
       "freq                         9237\n",
       "Name: What_matters_most_to_you_in_choosing_a_course, dtype: object"
      ]
     },
     "execution_count": 38,
     "metadata": {},
     "output_type": "execute_result"
    }
   ],
   "source": [
    "# We can proceed with filling the Nan values with the \"Better Career Prospects\" because of its Max Occurance\n",
    "\n",
    "lead_df.What_matters_most_to_you_in_choosing_a_course = lead_df.What_matters_most_to_you_in_choosing_a_course.replace(np.nan,\"Better Career Prospects\")\n",
    "lead_df.What_matters_most_to_you_in_choosing_a_course.describe()"
   ]
  },
  {
   "cell_type": "code",
   "execution_count": 39,
   "metadata": {},
   "outputs": [
    {
     "data": {
      "text/plain": [
       "Better Career Prospects      9237\n",
       "Flexibility & Convenience       2\n",
       "Other                           1\n",
       "Name: What_matters_most_to_you_in_choosing_a_course, dtype: int64"
      ]
     },
     "execution_count": 39,
     "metadata": {},
     "output_type": "execute_result"
    }
   ],
   "source": [
    "lead_df['What_matters_most_to_you_in_choosing_a_course'].value_counts(dropna=False)"
   ]
  },
  {
   "cell_type": "code",
   "execution_count": 40,
   "metadata": {},
   "outputs": [],
   "source": [
    "# Better Career Prospects is the Monopoly here as we saw India in the country column.\n",
    "# So we can drop this column \n",
    "lead_df.drop(\"What_matters_most_to_you_in_choosing_a_course\",1,inplace=True)"
   ]
  },
  {
   "cell_type": "markdown",
   "metadata": {},
   "source": [
    "### Tags"
   ]
  },
  {
   "cell_type": "code",
   "execution_count": 41,
   "metadata": {},
   "outputs": [
    {
     "data": {
      "text/plain": [
       "count                                    5887\n",
       "unique                                     26\n",
       "top       Will revert after reading the email\n",
       "freq                                     2072\n",
       "Name: Tags, dtype: object"
      ]
     },
     "execution_count": 41,
     "metadata": {},
     "output_type": "execute_result"
    }
   ],
   "source": [
    "lead_df.Tags.describe()"
   ]
  },
  {
   "cell_type": "code",
   "execution_count": 42,
   "metadata": {},
   "outputs": [
    {
     "data": {
      "image/png": "[encoded data removed]",
      "text/plain": [
       "<Figure size 432x288 with 1 Axes>"
      ]
     },
     "metadata": {
      "needs_background": "light"
     },
     "output_type": "display_data"
    }
   ],
   "source": [
    "sns.countplot(\"Tags\",data=lead_df)\n",
    "plt.xticks(rotation = 90)\n",
    "plt.show()"
   ]
  },
  {
   "cell_type": "code",
   "execution_count": 43,
   "metadata": {},
   "outputs": [
    {
     "data": {
      "text/plain": [
       "count             9240\n",
       "unique              27\n",
       "top       Not Provided\n",
       "freq              3353\n",
       "Name: Tags, dtype: object"
      ]
     },
     "execution_count": 43,
     "metadata": {},
     "output_type": "execute_result"
    }
   ],
   "source": [
    "# Filling the null values with \"Will revert after reading the email\"because of its Max Occurance\n",
    "lead_df.Tags = lead_df.Tags.replace(np.nan,\"Not Provided\")\n",
    "lead_df.Tags.describe()"
   ]
  },
  {
   "cell_type": "code",
   "execution_count": 44,
   "metadata": {},
   "outputs": [
    {
     "data": {
      "image/png": "[encoded data removed]",
      "text/plain": [
       "<Figure size 1080x360 with 1 Axes>"
      ]
     },
     "metadata": {
      "needs_background": "light"
     },
     "output_type": "display_data"
    }
   ],
   "source": [
    "plt.figure(figsize=(15,5))\n",
    "Tag_plot=sns.countplot(\"Tags\", data=lead_df,hue=\"Converted\")\n",
    "Tag_plot.set_xticklabels(Tag_plot.get_xticklabels(),rotation=90)\n",
    "plt.show()"
   ]
  },
  {
   "cell_type": "code",
   "execution_count": 45,
   "metadata": {},
   "outputs": [],
   "source": [
    "# We can shrink the less contributing values in the column under a Single values\n",
    "lead_df['Tags'] = lead_df['Tags'].replace(['In confusion whether part time or DLP', 'in touch with EINS','Diploma holder (Not Eligible)',\n",
    "                                     'Approached upfront','Graduation in progress','number not provided', 'opp hangup','Still Thinking',\n",
    "                                    'Lost to Others','Shall take in the next coming month','Lateral student','Interested in Next batch',\n",
    "                                    'Recognition issue (DEC approval)','Want to take admission but has financial problems',\n",
    "                                    'University not recognized','switched off',\n",
    "                                      'Already a student',\n",
    "                                       'Not doing further education',\n",
    "                                       'invalid number',\n",
    "                                       'wrong number given',\n",
    "                                       'Interested  in full time MBA'], 'Other_Tags')\n"
   ]
  },
  {
   "cell_type": "code",
   "execution_count": 46,
   "metadata": {
    "scrolled": true
   },
   "outputs": [
    {
     "data": {
      "image/png": "[encoded data removed]",
      "text/plain": [
       "<Figure size 1080x360 with 1 Axes>"
      ]
     },
     "metadata": {
      "needs_background": "light"
     },
     "output_type": "display_data"
    }
   ],
   "source": [
    "plt.figure(figsize=(15,5))\n",
    "Tag_plot=sns.countplot(\"Tags\", data=lead_df,hue=\"Converted\")\n",
    "Tag_plot.set_xticklabels(Tag_plot.get_xticklabels(),rotation=90)\n",
    "plt.show()"
   ]
  },
  {
   "cell_type": "markdown",
   "metadata": {},
   "source": [
    "### Inference\n",
    "1. People who tagged with **\"Will Revert afer reading the email\"** mostly get converted\n",
    "2. \"Closed by Horizon\" had more than 99% chances of being converted"
   ]
  },
  {
   "cell_type": "markdown",
   "metadata": {},
   "source": [
    "### City"
   ]
  },
  {
   "cell_type": "code",
   "execution_count": 47,
   "metadata": {},
   "outputs": [
    {
     "data": {
      "text/plain": [
       "count       5571\n",
       "unique         6\n",
       "top       Mumbai\n",
       "freq        3222\n",
       "Name: City, dtype: object"
      ]
     },
     "execution_count": 47,
     "metadata": {},
     "output_type": "execute_result"
    }
   ],
   "source": [
    "lead_df.City.describe()"
   ]
  },
  {
   "cell_type": "code",
   "execution_count": 48,
   "metadata": {},
   "outputs": [
    {
     "data": {
      "image/png": "[encoded data removed]",
      "text/plain": [
       "<Figure size 432x288 with 1 Axes>"
      ]
     },
     "metadata": {
      "needs_background": "light"
     },
     "output_type": "display_data"
    }
   ],
   "source": [
    "sns.countplot(\"City\",data=lead_df)\n",
    "plt.xticks(rotation = 90)\n",
    "plt.show()"
   ]
  },
  {
   "cell_type": "code",
   "execution_count": 49,
   "metadata": {},
   "outputs": [
    {
     "data": {
      "text/plain": [
       "count       9240\n",
       "unique         6\n",
       "top       Mumbai\n",
       "freq        6891\n",
       "Name: City, dtype: object"
      ]
     },
     "execution_count": 49,
     "metadata": {},
     "output_type": "execute_result"
    }
   ],
   "source": [
    "# Filling the null values with \"Mumbai\"because it dominates the city column. So, its safe that, it wont make much difference\n",
    "lead_df.City = lead_df.City.replace(np.nan,\"Mumbai\")\n",
    "lead_df.City.describe()"
   ]
  },
  {
   "cell_type": "code",
   "execution_count": 50,
   "metadata": {},
   "outputs": [
    {
     "data": {
      "image/png": "[encoded data removed]",
      "text/plain": [
       "<Figure size 1080x360 with 1 Axes>"
      ]
     },
     "metadata": {
      "needs_background": "light"
     },
     "output_type": "display_data"
    }
   ],
   "source": [
    "plt.figure(figsize=(15,5))\n",
    "City_plot=sns.countplot(\"City\", data=lead_df,hue=\"Converted\")\n",
    "City_plot.set_xticklabels(City_plot.get_xticklabels(),rotation=90)\n",
    "plt.show()"
   ]
  },
  {
   "cell_type": "markdown",
   "metadata": {},
   "source": [
    "### Inference\n",
    "1. About 60% of people in Mumbai gets converted\n",
    "2. City column is significant"
   ]
  },
  {
   "cell_type": "markdown",
   "metadata": {},
   "source": [
    "> In **LeadSourceTotalVisits, Page_View_Per_Visit,Last_Activity** columns, we have only less missing values. So that we can remove these rows \n"
   ]
  },
  {
   "cell_type": "code",
   "execution_count": 51,
   "metadata": {},
   "outputs": [],
   "source": [
    "# Removing the rows in the above mentioned columns which has less than 2% missing values \n",
    "lead_df.dropna(inplace = True)"
   ]
  },
  {
   "cell_type": "code",
   "execution_count": 52,
   "metadata": {},
   "outputs": [
    {
     "data": {
      "text/plain": [
       "Lead_Origin                                 0.0\n",
       "Lead_Source                                 0.0\n",
       "Do_Not_Email                                0.0\n",
       "Do_Not_Call                                 0.0\n",
       "Converted                                   0.0\n",
       "TotalVisits                                 0.0\n",
       "Total_Time_Spent_on_Website                 0.0\n",
       "Page_Views_Per_Visit                        0.0\n",
       "Last_Activity                               0.0\n",
       "Specialization                              0.0\n",
       "What_is_your_current_occupation             0.0\n",
       "Search                                      0.0\n",
       "Magazine                                    0.0\n",
       "Newspaper_Article                           0.0\n",
       "X_Education_Forums                          0.0\n",
       "Newspaper                                   0.0\n",
       "Digital_Advertisement                       0.0\n",
       "Through_Recommendations                     0.0\n",
       "Receive_More_Updates_About_Our_Courses      0.0\n",
       "Tags                                        0.0\n",
       "Update_me_on_Supply_Chain_Content           0.0\n",
       "Get_updates_on_DM_Content                   0.0\n",
       "City                                        0.0\n",
       "I_agree_to_pay_the_amount_through_cheque    0.0\n",
       "A_free_copy_of_Mastering_The_Interview      0.0\n",
       "Last_Notable_Activity                       0.0\n",
       "dtype: float64"
      ]
     },
     "execution_count": 52,
     "metadata": {},
     "output_type": "execute_result"
    }
   ],
   "source": [
    "round((lead_df.isnull().sum()/len(lead_df.index)*100),2)"
   ]
  },
  {
   "cell_type": "code",
   "execution_count": 53,
   "metadata": {},
   "outputs": [
    {
     "data": {
      "text/plain": [
       "(9074, 26)"
      ]
     },
     "execution_count": 53,
     "metadata": {},
     "output_type": "execute_result"
    }
   ],
   "source": [
    "lead_df.shape"
   ]
  },
  {
   "cell_type": "markdown",
   "metadata": {},
   "source": [
    "> Now data is Clean. We can further proceed to do some Categorical and Numerical data analysis for some insights"
   ]
  },
  {
   "cell_type": "markdown",
   "metadata": {},
   "source": [
    "## Lead Source"
   ]
  },
  {
   "cell_type": "code",
   "execution_count": 54,
   "metadata": {},
   "outputs": [
    {
     "data": {
      "text/plain": [
       "count       9074\n",
       "unique        21\n",
       "top       Google\n",
       "freq        2868\n",
       "Name: Lead_Source, dtype: object"
      ]
     },
     "execution_count": 54,
     "metadata": {},
     "output_type": "execute_result"
    }
   ],
   "source": [
    "lead_df.Lead_Source.describe()"
   ]
  },
  {
   "cell_type": "code",
   "execution_count": 55,
   "metadata": {},
   "outputs": [
    {
     "data": {
      "image/png": "[encoded data removed]",
      "text/plain": [
       "<Figure size 432x288 with 1 Axes>"
      ]
     },
     "metadata": {
      "needs_background": "light"
     },
     "output_type": "display_data"
    }
   ],
   "source": [
    "sns.countplot(\"Lead_Source\",data=lead_df)\n",
    "plt.xticks(rotation = 90)\n",
    "plt.show()"
   ]
  },
  {
   "cell_type": "markdown",
   "metadata": {},
   "source": [
    "> We can observe from the above graph is that,only for major companies contributes the most. So we can group other attributes under Other Category"
   ]
  },
  {
   "cell_type": "code",
   "execution_count": 56,
   "metadata": {},
   "outputs": [],
   "source": [
    "# Replacing Nan values by \"Others\"\n",
    "lead_df['Lead_Source'] = lead_df['Lead_Source'].replace(np.nan,'Others')\n"
   ]
  },
  {
   "cell_type": "code",
   "execution_count": 57,
   "metadata": {},
   "outputs": [],
   "source": [
    "# Grouping the less contributing sectors\n",
    "lead_df['Lead_Source'] = lead_df['Lead_Source'].replace('google','Google')\n",
    "lead_df['Lead_Source'] = lead_df['Lead_Source'].replace('Facebook','Social Media')\n",
    "lead_df['Lead_Source'] = lead_df['Lead_Source'].replace(['bing','Click2call','Press_Release',\n",
    "                                                     'youtubechannel','welearnblog_Home',\n",
    "                                                     'WeLearn','blog','Pay per Click Ads',\n",
    "                                                    'testone','NC_EDM'] ,'Others')  "
   ]
  },
  {
   "cell_type": "code",
   "execution_count": 58,
   "metadata": {},
   "outputs": [
    {
     "data": {
      "image/png": "[encoded data removed]",
      "text/plain": [
       "<Figure size 432x288 with 1 Axes>"
      ]
     },
     "metadata": {
      "needs_background": "light"
     },
     "output_type": "display_data"
    }
   ],
   "source": [
    "sns.countplot(\"Lead_Source\",data=lead_df,hue=\"Converted\")\n",
    "plt.xticks(rotation = 90)\n",
    "plt.show()"
   ]
  },
  {
   "cell_type": "markdown",
   "metadata": {},
   "source": [
    "### Inference\n",
    "1. People who spends most time on Google got higher chances of being converted\n",
    "2. Surprisingly **Reference** has 90% converting rate though its quantity is lower"
   ]
  },
  {
   "cell_type": "markdown",
   "metadata": {},
   "source": [
    "### Last Activity"
   ]
  },
  {
   "cell_type": "code",
   "execution_count": 59,
   "metadata": {},
   "outputs": [
    {
     "data": {
      "image/png": "[encoded data removed]",
      "text/plain": [
       "<Figure size 432x288 with 1 Axes>"
      ]
     },
     "metadata": {
      "needs_background": "light"
     },
     "output_type": "display_data"
    }
   ],
   "source": [
    "sns.countplot(\"Last_Activity\",data=lead_df,hue=\"Converted\")\n",
    "plt.xticks(rotation = 90)\n",
    "plt.show()"
   ]
  },
  {
   "cell_type": "code",
   "execution_count": 60,
   "metadata": {},
   "outputs": [],
   "source": [
    "#Replacing Nan Values with \"Others\"\n",
    "lead_df['Last_Activity'] = lead_df['Last_Activity'].replace(np.nan,'Others')\n",
    "\n",
    "#Grouping Less occured data in the column to \"Others\"\n",
    "lead_df['Last_Activity'] = lead_df['Last_Activity'].replace(['Unreachable','Unsubscribed',\n",
    "                                                        'Had a Phone Conversation', \n",
    "                                                        'Approached upfront',\n",
    "                                                        'View in browser link Clicked',       \n",
    "                                                        'Email Marked Spam',                  \n",
    "                                                        'Email Received','Resubscribed to emails',\n",
    "                                                         'Visited Booth in Tradeshow'],'Others')"
   ]
  },
  {
   "cell_type": "code",
   "execution_count": 61,
   "metadata": {},
   "outputs": [
    {
     "data": {
      "image/png": "[encoded data removed]",
      "text/plain": [
       "<Figure size 432x288 with 1 Axes>"
      ]
     },
     "metadata": {
      "needs_background": "light"
     },
     "output_type": "display_data"
    }
   ],
   "source": [
    "sns.countplot(\"Last_Activity\",data=lead_df,hue=\"Converted\")\n",
    "plt.xticks(rotation = 90)\n",
    "plt.show()"
   ]
  },
  {
   "cell_type": "markdown",
   "metadata": {},
   "source": [
    "### Inference\n",
    "1. People who had their last activity as sending sms shown higher conversion rate\n",
    "2. Email opened shows 50% conversion rate"
   ]
  },
  {
   "cell_type": "code",
   "execution_count": 62,
   "metadata": {
    "scrolled": true
   },
   "outputs": [
    {
     "data": {
      "text/plain": [
       "Lead_Origin                                 0.0\n",
       "Lead_Source                                 0.0\n",
       "Do_Not_Email                                0.0\n",
       "Do_Not_Call                                 0.0\n",
       "Converted                                   0.0\n",
       "TotalVisits                                 0.0\n",
       "Total_Time_Spent_on_Website                 0.0\n",
       "Page_Views_Per_Visit                        0.0\n",
       "Last_Activity                               0.0\n",
       "Specialization                              0.0\n",
       "What_is_your_current_occupation             0.0\n",
       "Search                                      0.0\n",
       "Magazine                                    0.0\n",
       "Newspaper_Article                           0.0\n",
       "X_Education_Forums                          0.0\n",
       "Newspaper                                   0.0\n",
       "Digital_Advertisement                       0.0\n",
       "Through_Recommendations                     0.0\n",
       "Receive_More_Updates_About_Our_Courses      0.0\n",
       "Tags                                        0.0\n",
       "Update_me_on_Supply_Chain_Content           0.0\n",
       "Get_updates_on_DM_Content                   0.0\n",
       "City                                        0.0\n",
       "I_agree_to_pay_the_amount_through_cheque    0.0\n",
       "A_free_copy_of_Mastering_The_Interview      0.0\n",
       "Last_Notable_Activity                       0.0\n",
       "dtype: float64"
      ]
     },
     "execution_count": 62,
     "metadata": {},
     "output_type": "execute_result"
    }
   ],
   "source": [
    "#Check the Null Values in All Columns:\n",
    "round(100*(lead_df.isnull().sum()/len(lead_df.index)), 2)"
   ]
  },
  {
   "cell_type": "code",
   "execution_count": 63,
   "metadata": {},
   "outputs": [],
   "source": [
    "# As we see only <2% of missing values present in the dataset, which we can remove by dropping the rows \n",
    "lead_df = lead_df.dropna()"
   ]
  },
  {
   "cell_type": "code",
   "execution_count": 64,
   "metadata": {},
   "outputs": [
    {
     "data": {
      "text/plain": [
       "Lead_Origin                                 0.0\n",
       "Lead_Source                                 0.0\n",
       "Do_Not_Email                                0.0\n",
       "Do_Not_Call                                 0.0\n",
       "Converted                                   0.0\n",
       "TotalVisits                                 0.0\n",
       "Total_Time_Spent_on_Website                 0.0\n",
       "Page_Views_Per_Visit                        0.0\n",
       "Last_Activity                               0.0\n",
       "Specialization                              0.0\n",
       "What_is_your_current_occupation             0.0\n",
       "Search                                      0.0\n",
       "Magazine                                    0.0\n",
       "Newspaper_Article                           0.0\n",
       "X_Education_Forums                          0.0\n",
       "Newspaper                                   0.0\n",
       "Digital_Advertisement                       0.0\n",
       "Through_Recommendations                     0.0\n",
       "Receive_More_Updates_About_Our_Courses      0.0\n",
       "Tags                                        0.0\n",
       "Update_me_on_Supply_Chain_Content           0.0\n",
       "Get_updates_on_DM_Content                   0.0\n",
       "City                                        0.0\n",
       "I_agree_to_pay_the_amount_through_cheque    0.0\n",
       "A_free_copy_of_Mastering_The_Interview      0.0\n",
       "Last_Notable_Activity                       0.0\n",
       "dtype: float64"
      ]
     },
     "execution_count": 64,
     "metadata": {},
     "output_type": "execute_result"
    }
   ],
   "source": [
    "#Check the Null Values in All Columns:\n",
    "round(100*(lead_df.isnull().sum()/len(lead_df.index)), 2)"
   ]
  },
  {
   "cell_type": "markdown",
   "metadata": {},
   "source": [
    "### Thats it!!!. Finally we have dealt with the missing values. We will further analyse the dataset columns for more insights\n"
   ]
  },
  {
   "cell_type": "markdown",
   "metadata": {},
   "source": [
    "## Lead Origin"
   ]
  },
  {
   "cell_type": "code",
   "execution_count": 65,
   "metadata": {},
   "outputs": [
    {
     "data": {
      "image/png": "[encoded data removed]",
      "text/plain": [
       "<Figure size 432x288 with 1 Axes>"
      ]
     },
     "metadata": {
      "needs_background": "light"
     },
     "output_type": "display_data"
    }
   ],
   "source": [
    "sns.countplot(\"Lead_Origin\",data=lead_df,hue=\"Converted\")\n",
    "plt.xticks(rotation = 90)\n",
    "plt.show()"
   ]
  },
  {
   "cell_type": "markdown",
   "metadata": {},
   "source": [
    "### Inference\n",
    "1. API and Landing Page Submission has higher lead count and they converted them with 50% probability\n",
    "2. Lead Add Form has highest conversion rate, but the count is less\n"
   ]
  },
  {
   "cell_type": "markdown",
   "metadata": {},
   "source": [
    "# Analysing Class Imbalance"
   ]
  },
  {
   "cell_type": "markdown",
   "metadata": {},
   "source": [
    "##  Do Not Call"
   ]
  },
  {
   "cell_type": "code",
   "execution_count": 66,
   "metadata": {},
   "outputs": [
    {
     "data": {
      "text/plain": [
       "No     9072\n",
       "Yes       2\n",
       "Name: Do_Not_Call, dtype: int64"
      ]
     },
     "execution_count": 66,
     "metadata": {},
     "output_type": "execute_result"
    }
   ],
   "source": [
    "lead_df.Do_Not_Call.value_counts(dropna=False)"
   ]
  },
  {
   "cell_type": "markdown",
   "metadata": {},
   "source": [
    "> Again in Do not Call Column **No**acts as a dominant. This will make higher class imbalance. So we are dropping this column"
   ]
  },
  {
   "cell_type": "markdown",
   "metadata": {},
   "source": [
    "## Do not Email"
   ]
  },
  {
   "cell_type": "code",
   "execution_count": 67,
   "metadata": {},
   "outputs": [
    {
     "data": {
      "text/plain": [
       "No     8358\n",
       "Yes     716\n",
       "Name: Do_Not_Email, dtype: int64"
      ]
     },
     "execution_count": 67,
     "metadata": {},
     "output_type": "execute_result"
    }
   ],
   "source": [
    "lead_df.Do_Not_Email.value_counts(dropna=False)"
   ]
  },
  {
   "cell_type": "markdown",
   "metadata": {},
   "source": [
    "> Same issue here(Class Imbalance). Dropping this column too"
   ]
  },
  {
   "cell_type": "markdown",
   "metadata": {},
   "source": [
    "### A_free_copy_of_Mastering_The_Interview"
   ]
  },
  {
   "cell_type": "code",
   "execution_count": 68,
   "metadata": {},
   "outputs": [
    {
     "data": {
      "text/plain": [
       "No     6186\n",
       "Yes    2888\n",
       "Name: A_free_copy_of_Mastering_The_Interview, dtype: int64"
      ]
     },
     "execution_count": 68,
     "metadata": {},
     "output_type": "execute_result"
    }
   ],
   "source": [
    "lead_df['A_free_copy_of_Mastering_The_Interview'].value_counts(dropna=False)"
   ]
  },
  {
   "cell_type": "markdown",
   "metadata": {},
   "source": [
    "## Search"
   ]
  },
  {
   "cell_type": "code",
   "execution_count": 69,
   "metadata": {
    "scrolled": true
   },
   "outputs": [
    {
     "data": {
      "text/plain": [
       "No     9060\n",
       "Yes      14\n",
       "Name: Search, dtype: int64"
      ]
     },
     "execution_count": 69,
     "metadata": {},
     "output_type": "execute_result"
    }
   ],
   "source": [
    "lead_df.Search.value_counts(dropna=False)"
   ]
  },
  {
   "cell_type": "markdown",
   "metadata": {},
   "source": [
    "## Magazine"
   ]
  },
  {
   "cell_type": "code",
   "execution_count": 70,
   "metadata": {},
   "outputs": [
    {
     "data": {
      "text/plain": [
       "No    9074\n",
       "Name: Magazine, dtype: int64"
      ]
     },
     "execution_count": 70,
     "metadata": {},
     "output_type": "execute_result"
    }
   ],
   "source": [
    "lead_df.Magazine.value_counts(dropna=False)"
   ]
  },
  {
   "cell_type": "markdown",
   "metadata": {},
   "source": [
    "## Newspaper Article"
   ]
  },
  {
   "cell_type": "code",
   "execution_count": 71,
   "metadata": {},
   "outputs": [
    {
     "data": {
      "text/plain": [
       "No     9072\n",
       "Yes       2\n",
       "Name: Newspaper_Article, dtype: int64"
      ]
     },
     "execution_count": 71,
     "metadata": {},
     "output_type": "execute_result"
    }
   ],
   "source": [
    "lead_df.Newspaper_Article.value_counts(dropna=False)"
   ]
  },
  {
   "cell_type": "markdown",
   "metadata": {},
   "source": [
    "## Newspaper"
   ]
  },
  {
   "cell_type": "code",
   "execution_count": 72,
   "metadata": {},
   "outputs": [
    {
     "data": {
      "text/plain": [
       "No     9073\n",
       "Yes       1\n",
       "Name: Newspaper, dtype: int64"
      ]
     },
     "execution_count": 72,
     "metadata": {},
     "output_type": "execute_result"
    }
   ],
   "source": [
    "lead_df.Newspaper.value_counts(dropna=False)"
   ]
  },
  {
   "cell_type": "markdown",
   "metadata": {},
   "source": [
    "## X_Education_Forums"
   ]
  },
  {
   "cell_type": "code",
   "execution_count": 73,
   "metadata": {},
   "outputs": [
    {
     "data": {
      "text/plain": [
       "No     9073\n",
       "Yes       1\n",
       "Name: X_Education_Forums, dtype: int64"
      ]
     },
     "execution_count": 73,
     "metadata": {},
     "output_type": "execute_result"
    }
   ],
   "source": [
    "lead_df.X_Education_Forums.value_counts(dropna=False)"
   ]
  },
  {
   "cell_type": "markdown",
   "metadata": {},
   "source": [
    "## Digital_Advertisement"
   ]
  },
  {
   "cell_type": "code",
   "execution_count": 74,
   "metadata": {},
   "outputs": [
    {
     "data": {
      "text/plain": [
       "No     9070\n",
       "Yes       4\n",
       "Name: Digital_Advertisement, dtype: int64"
      ]
     },
     "execution_count": 74,
     "metadata": {},
     "output_type": "execute_result"
    }
   ],
   "source": [
    "lead_df.Digital_Advertisement.value_counts(dropna=False)"
   ]
  },
  {
   "cell_type": "markdown",
   "metadata": {},
   "source": [
    "## Through_Recommendations"
   ]
  },
  {
   "cell_type": "code",
   "execution_count": 75,
   "metadata": {},
   "outputs": [
    {
     "data": {
      "text/plain": [
       "No     9067\n",
       "Yes       7\n",
       "Name: Through_Recommendations, dtype: int64"
      ]
     },
     "execution_count": 75,
     "metadata": {},
     "output_type": "execute_result"
    }
   ],
   "source": [
    "lead_df.Through_Recommendations.value_counts(dropna=False)"
   ]
  },
  {
   "cell_type": "markdown",
   "metadata": {},
   "source": [
    "## Receive_More_Updates_About_Our_Courses"
   ]
  },
  {
   "cell_type": "code",
   "execution_count": 76,
   "metadata": {},
   "outputs": [
    {
     "data": {
      "text/plain": [
       "No    9074\n",
       "Name: Receive_More_Updates_About_Our_Courses, dtype: int64"
      ]
     },
     "execution_count": 76,
     "metadata": {},
     "output_type": "execute_result"
    }
   ],
   "source": [
    "lead_df.Receive_More_Updates_About_Our_Courses.value_counts(dropna=False)"
   ]
  },
  {
   "cell_type": "markdown",
   "metadata": {},
   "source": [
    "## Update_me_on_Supply_Chain_Content"
   ]
  },
  {
   "cell_type": "code",
   "execution_count": 77,
   "metadata": {},
   "outputs": [
    {
     "data": {
      "text/plain": [
       "No    9074\n",
       "Name: Update_me_on_Supply_Chain_Content, dtype: int64"
      ]
     },
     "execution_count": 77,
     "metadata": {},
     "output_type": "execute_result"
    }
   ],
   "source": [
    "lead_df.Update_me_on_Supply_Chain_Content.value_counts(dropna=False)"
   ]
  },
  {
   "cell_type": "markdown",
   "metadata": {},
   "source": [
    "## Get_updates_on_DM_Content"
   ]
  },
  {
   "cell_type": "code",
   "execution_count": 78,
   "metadata": {},
   "outputs": [
    {
     "data": {
      "text/plain": [
       "No    9074\n",
       "Name: Get_updates_on_DM_Content, dtype: int64"
      ]
     },
     "execution_count": 78,
     "metadata": {},
     "output_type": "execute_result"
    }
   ],
   "source": [
    "lead_df.Get_updates_on_DM_Content.value_counts(dropna=False)"
   ]
  },
  {
   "cell_type": "markdown",
   "metadata": {},
   "source": [
    "## I_agree_to_pay_the_amount_through_cheque"
   ]
  },
  {
   "cell_type": "code",
   "execution_count": 79,
   "metadata": {},
   "outputs": [
    {
     "data": {
      "text/plain": [
       "No    9074\n",
       "Name: I_agree_to_pay_the_amount_through_cheque, dtype: int64"
      ]
     },
     "execution_count": 79,
     "metadata": {},
     "output_type": "execute_result"
    }
   ],
   "source": [
    "lead_df.I_agree_to_pay_the_amount_through_cheque.value_counts(dropna=False)"
   ]
  },
  {
   "cell_type": "code",
   "execution_count": null,
   "metadata": {},
   "outputs": [],
   "source": []
  },
  {
   "cell_type": "code",
   "execution_count": 80,
   "metadata": {},
   "outputs": [],
   "source": [
    "lead_df.drop([\"Do_Not_Call\",'Search','Magazine','Newspaper_Article','X_Education_Forums','Newspaper',\n",
    "                 'Digital_Advertisement','Through_Recommendations','Receive_More_Updates_About_Our_Courses',\n",
    "                 'Update_me_on_Supply_Chain_Content',\n",
    "                 'Get_updates_on_DM_Content','I_agree_to_pay_the_amount_through_cheque'],1,inplace=True)"
   ]
  },
  {
   "cell_type": "code",
   "execution_count": 81,
   "metadata": {},
   "outputs": [
    {
     "data": {
      "text/plain": [
       "(9074, 14)"
      ]
     },
     "execution_count": 81,
     "metadata": {},
     "output_type": "execute_result"
    }
   ],
   "source": [
    "lead_df.shape"
   ]
  },
  {
   "cell_type": "markdown",
   "metadata": {},
   "source": [
    "## Last Notable Activity"
   ]
  },
  {
   "cell_type": "code",
   "execution_count": 82,
   "metadata": {},
   "outputs": [
    {
     "data": {
      "image/png": "[encoded data removed]",
      "text/plain": [
       "<Figure size 432x288 with 1 Axes>"
      ]
     },
     "metadata": {
      "needs_background": "light"
     },
     "output_type": "display_data"
    }
   ],
   "source": [
    "sns.countplot(\"Last_Notable_Activity\",data=lead_df,hue=\"Converted\")\n",
    "plt.xticks(rotation = 90)\n",
    "plt.show()"
   ]
  },
  {
   "cell_type": "code",
   "execution_count": 83,
   "metadata": {},
   "outputs": [],
   "source": [
    "# Making a single entity for the less occurance datas\n",
    "\n",
    "lead_df['Last_Notable_Activity'] = lead_df['Last_Notable_Activity'].replace(['Had a Phone Conversation',\n",
    "                                                                       'Email Marked Spam',\n",
    "                                                                         'Unreachable',\n",
    "                                                                         'Unsubscribed',\n",
    "                                                                         'Email Bounced',                                                                    \n",
    "                                                                       'Resubscribed to emails',\n",
    "                                                                       'View in browser link Clicked',\n",
    "                                                                       'Approached upfront', \n",
    "                                                                       'Form Submitted on Website', \n",
    "                                                                       'Email Received'],'Other Activity')"
   ]
  },
  {
   "cell_type": "code",
   "execution_count": 84,
   "metadata": {},
   "outputs": [
    {
     "data": {
      "image/png": "[encoded data removed]",
      "text/plain": [
       "<Figure size 432x288 with 1 Axes>"
      ]
     },
     "metadata": {
      "needs_background": "light"
     },
     "output_type": "display_data"
    }
   ],
   "source": [
    "sns.countplot(\"Last_Notable_Activity\",data=lead_df,hue=\"Converted\")\n",
    "plt.xticks(rotation = 90)\n",
    "plt.show()"
   ]
  },
  {
   "cell_type": "markdown",
   "metadata": {},
   "source": [
    "### Inference\n",
    "1. Sms Sent has highest conversion rate\n",
    "2. Modified and Email opened have a moderate conversion rate"
   ]
  },
  {
   "cell_type": "code",
   "execution_count": 85,
   "metadata": {},
   "outputs": [
    {
     "data": {
      "text/plain": [
       "37.85541106458012"
      ]
     },
     "execution_count": 85,
     "metadata": {},
     "output_type": "execute_result"
    }
   ],
   "source": [
    "Converted = (sum(lead_df['Converted'])/len(lead_df['Converted'].index))*100\n",
    "Converted"
   ]
  },
  {
   "cell_type": "code",
   "execution_count": 86,
   "metadata": {},
   "outputs": [
    {
     "name": "stdout",
     "output_type": "stream",
     "text": [
      "<class 'pandas.core.frame.DataFrame'>\n",
      "Int64Index: 9074 entries, 0 to 9239\n",
      "Data columns (total 14 columns):\n",
      "Lead_Origin                               9074 non-null object\n",
      "Lead_Source                               9074 non-null object\n",
      "Do_Not_Email                              9074 non-null object\n",
      "Converted                                 9074 non-null int64\n",
      "TotalVisits                               9074 non-null float64\n",
      "Total_Time_Spent_on_Website               9074 non-null int64\n",
      "Page_Views_Per_Visit                      9074 non-null float64\n",
      "Last_Activity                             9074 non-null object\n",
      "Specialization                            9074 non-null object\n",
      "What_is_your_current_occupation           9074 non-null object\n",
      "Tags                                      9074 non-null object\n",
      "City                                      9074 non-null object\n",
      "A_free_copy_of_Mastering_The_Interview    9074 non-null object\n",
      "Last_Notable_Activity                     9074 non-null object\n",
      "dtypes: float64(2), int64(2), object(10)\n",
      "memory usage: 1.4+ MB\n"
     ]
    }
   ],
   "source": [
    "lead_df.info()"
   ]
  },
  {
   "cell_type": "code",
   "execution_count": null,
   "metadata": {},
   "outputs": [],
   "source": []
  },
  {
   "cell_type": "markdown",
   "metadata": {},
   "source": [
    "## Numerical Value Analysis"
   ]
  },
  {
   "cell_type": "markdown",
   "metadata": {},
   "source": [
    "### Pair Plot"
   ]
  },
  {
   "cell_type": "code",
   "execution_count": 87,
   "metadata": {},
   "outputs": [
    {
     "name": "stderr",
     "output_type": "stream",
     "text": [
      "C:\\Users\\SANTHOSH VENUGOPAL\\Anaconda3\\lib\\site-packages\\statsmodels\\nonparametric\\kde.py:487: RuntimeWarning: invalid value encountered in true_divide\n",
      "  binned = fast_linbin(X, a, b, gridsize) / (delta * nobs)\n",
      "C:\\Users\\SANTHOSH VENUGOPAL\\Anaconda3\\lib\\site-packages\\statsmodels\\nonparametric\\kdetools.py:34: RuntimeWarning: invalid value encountered in double_scalars\n",
      "  FAC1 = 2*(np.pi*bw/RANGE)**2\n"
     ]
    },
    {
     "data": {
      "text/plain": [
       "<seaborn.axisgrid.PairGrid at 0x1b7d3d36f60>"
      ]
     },
     "execution_count": 87,
     "metadata": {},
     "output_type": "execute_result"
    },
    {
     "data": {
      "image/png": "[encoded data removed]",
      "text/plain": [
       "<Figure size 779.75x720 with 20 Axes>"
      ]
     },
     "metadata": {
      "needs_background": "light"
     },
     "output_type": "display_data"
    }
   ],
   "source": [
    "sns.pairplot(lead_df,hue=\"Converted\")"
   ]
  },
  {
   "cell_type": "code",
   "execution_count": null,
   "metadata": {},
   "outputs": [],
   "source": []
  },
  {
   "cell_type": "markdown",
   "metadata": {},
   "source": [
    "### Correlation Plot"
   ]
  },
  {
   "cell_type": "code",
   "execution_count": 88,
   "metadata": {},
   "outputs": [
    {
     "data": {
      "text/plain": [
       "<matplotlib.axes._subplots.AxesSubplot at 0x1b7d3db0a20>"
      ]
     },
     "execution_count": 88,
     "metadata": {},
     "output_type": "execute_result"
    },
    {
     "data": {
      "image/png": "[encoded data removed]",
      "text/plain": [
       "<Figure size 720x360 with 2 Axes>"
      ]
     },
     "metadata": {
      "needs_background": "light"
     },
     "output_type": "display_data"
    }
   ],
   "source": [
    "plt.figure(figsize=(10,5))\n",
    "sns.heatmap(lead_df.corr(),annot=True)"
   ]
  },
  {
   "cell_type": "markdown",
   "metadata": {},
   "source": [
    "## Outlier Analysis"
   ]
  },
  {
   "cell_type": "code",
   "execution_count": 89,
   "metadata": {},
   "outputs": [
    {
     "data": {
      "text/html": [
       "<div>\n",
       "<style scoped>\n",
       "    .dataframe tbody tr th:only-of-type {\n",
       "        vertical-align: middle;\n",
       "    }\n",
       "\n",
       "    .dataframe tbody tr th {\n",
       "        vertical-align: top;\n",
       "    }\n",
       "\n",
       "    .dataframe thead th {\n",
       "        text-align: right;\n",
       "    }\n",
       "</style>\n",
       "<table border=\"1\" class=\"dataframe\">\n",
       "  <thead>\n",
       "    <tr style=\"text-align: right;\">\n",
       "      <th></th>\n",
       "      <th>Converted</th>\n",
       "      <th>TotalVisits</th>\n",
       "      <th>Total_Time_Spent_on_Website</th>\n",
       "      <th>Page_Views_Per_Visit</th>\n",
       "    </tr>\n",
       "  </thead>\n",
       "  <tbody>\n",
       "    <tr>\n",
       "      <th>count</th>\n",
       "      <td>9074.000000</td>\n",
       "      <td>9074.000000</td>\n",
       "      <td>9074.000000</td>\n",
       "      <td>9074.000000</td>\n",
       "    </tr>\n",
       "    <tr>\n",
       "      <th>mean</th>\n",
       "      <td>0.378554</td>\n",
       "      <td>3.456028</td>\n",
       "      <td>482.887481</td>\n",
       "      <td>2.370151</td>\n",
       "    </tr>\n",
       "    <tr>\n",
       "      <th>std</th>\n",
       "      <td>0.485053</td>\n",
       "      <td>4.858802</td>\n",
       "      <td>545.256560</td>\n",
       "      <td>2.160871</td>\n",
       "    </tr>\n",
       "    <tr>\n",
       "      <th>min</th>\n",
       "      <td>0.000000</td>\n",
       "      <td>0.000000</td>\n",
       "      <td>0.000000</td>\n",
       "      <td>0.000000</td>\n",
       "    </tr>\n",
       "    <tr>\n",
       "      <th>25%</th>\n",
       "      <td>0.000000</td>\n",
       "      <td>1.000000</td>\n",
       "      <td>11.000000</td>\n",
       "      <td>1.000000</td>\n",
       "    </tr>\n",
       "    <tr>\n",
       "      <th>50%</th>\n",
       "      <td>0.000000</td>\n",
       "      <td>3.000000</td>\n",
       "      <td>246.000000</td>\n",
       "      <td>2.000000</td>\n",
       "    </tr>\n",
       "    <tr>\n",
       "      <th>75%</th>\n",
       "      <td>1.000000</td>\n",
       "      <td>5.000000</td>\n",
       "      <td>922.750000</td>\n",
       "      <td>3.200000</td>\n",
       "    </tr>\n",
       "    <tr>\n",
       "      <th>max</th>\n",
       "      <td>1.000000</td>\n",
       "      <td>251.000000</td>\n",
       "      <td>2272.000000</td>\n",
       "      <td>55.000000</td>\n",
       "    </tr>\n",
       "  </tbody>\n",
       "</table>\n",
       "</div>"
      ],
      "text/plain": [
       "         Converted  TotalVisits  Total_Time_Spent_on_Website  \\\n",
       "count  9074.000000  9074.000000                  9074.000000   \n",
       "mean      0.378554     3.456028                   482.887481   \n",
       "std       0.485053     4.858802                   545.256560   \n",
       "min       0.000000     0.000000                     0.000000   \n",
       "25%       0.000000     1.000000                    11.000000   \n",
       "50%       0.000000     3.000000                   246.000000   \n",
       "75%       1.000000     5.000000                   922.750000   \n",
       "max       1.000000   251.000000                  2272.000000   \n",
       "\n",
       "       Page_Views_Per_Visit  \n",
       "count           9074.000000  \n",
       "mean               2.370151  \n",
       "std                2.160871  \n",
       "min                0.000000  \n",
       "25%                1.000000  \n",
       "50%                2.000000  \n",
       "75%                3.200000  \n",
       "max               55.000000  "
      ]
     },
     "execution_count": 89,
     "metadata": {},
     "output_type": "execute_result"
    }
   ],
   "source": [
    "lead_df.describe()"
   ]
  },
  {
   "cell_type": "markdown",
   "metadata": {},
   "source": [
    "> Seems like TotalVisits, Total_Time_Spent_on_Website, Page_Views_Per_Visit has outliers. Lets do the analysis part to find that"
   ]
  },
  {
   "cell_type": "markdown",
   "metadata": {},
   "source": [
    "### TotalVisits"
   ]
  },
  {
   "cell_type": "code",
   "execution_count": 90,
   "metadata": {
    "scrolled": true
   },
   "outputs": [
    {
     "data": {
      "text/plain": [
       "0.96     10.0\n",
       "0.97     11.0\n",
       "0.98     13.0\n",
       "0.99     17.0\n",
       "1.00    251.0\n",
       "Name: TotalVisits, dtype: float64"
      ]
     },
     "execution_count": 90,
     "metadata": {},
     "output_type": "execute_result"
    }
   ],
   "source": [
    "lead_df[\"TotalVisits\"].quantile([0.96,0.97,0.98,0.99,1])"
   ]
  },
  {
   "cell_type": "markdown",
   "metadata": {},
   "source": [
    "> We can remove the 100th percentile as it is the outlier"
   ]
  },
  {
   "cell_type": "code",
   "execution_count": 91,
   "metadata": {},
   "outputs": [
    {
     "data": {
      "text/plain": [
       "count    8991.000000\n",
       "mean        3.217106\n",
       "std         2.989530\n",
       "min         0.000000\n",
       "25%         1.000000\n",
       "50%         3.000000\n",
       "75%         5.000000\n",
       "max        17.000000\n",
       "Name: TotalVisits, dtype: float64"
      ]
     },
     "execution_count": 91,
     "metadata": {},
     "output_type": "execute_result"
    }
   ],
   "source": [
    "lead_df = lead_df[lead_df.TotalVisits <=17]\n",
    "lead_df.TotalVisits.describe()"
   ]
  },
  {
   "cell_type": "code",
   "execution_count": 92,
   "metadata": {},
   "outputs": [
    {
     "data": {
      "text/plain": [
       "<matplotlib.axes._subplots.AxesSubplot at 0x1b7d3e5e320>"
      ]
     },
     "execution_count": 92,
     "metadata": {},
     "output_type": "execute_result"
    },
    {
     "data": {
      "image/png": "[encoded data removed]",
      "text/plain": [
       "<Figure size 432x288 with 1 Axes>"
      ]
     },
     "metadata": {
      "needs_background": "light"
     },
     "output_type": "display_data"
    }
   ],
   "source": [
    "sns.boxplot(x=\"Converted\",y=\"TotalVisits\",data=lead_df)"
   ]
  },
  {
   "cell_type": "markdown",
   "metadata": {},
   "source": [
    "### Inference\n",
    "1. Medians are approximately same for both the cases\n"
   ]
  },
  {
   "cell_type": "markdown",
   "metadata": {},
   "source": [
    "### Total_Time_Spent_on_Website"
   ]
  },
  {
   "cell_type": "code",
   "execution_count": 93,
   "metadata": {},
   "outputs": [
    {
     "data": {
      "text/plain": [
       "0.96    1600.4\n",
       "0.97    1655.0\n",
       "0.98    1726.4\n",
       "0.99    1837.2\n",
       "1.00    2272.0\n",
       "Name: Total_Time_Spent_on_Website, dtype: float64"
      ]
     },
     "execution_count": 93,
     "metadata": {},
     "output_type": "execute_result"
    }
   ],
   "source": [
    "lead_df.Total_Time_Spent_on_Website.quantile([0.96,0.97,0.98,0.99,1])"
   ]
  },
  {
   "cell_type": "code",
   "execution_count": 94,
   "metadata": {},
   "outputs": [
    {
     "data": {
      "text/plain": [
       "<matplotlib.axes._subplots.AxesSubplot at 0x1b7d4feeb70>"
      ]
     },
     "execution_count": 94,
     "metadata": {},
     "output_type": "execute_result"
    },
    {
     "data": {
      "image/png": "[encoded data removed]",
      "text/plain": [
       "<Figure size 432x288 with 1 Axes>"
      ]
     },
     "metadata": {
      "needs_background": "light"
     },
     "output_type": "display_data"
    }
   ],
   "source": [
    "sns.boxplot(x=\"Converted\",y=\"Total_Time_Spent_on_Website\",data=lead_df)"
   ]
  },
  {
   "cell_type": "markdown",
   "metadata": {},
   "source": [
    "### Inference\n",
    "1. Person who spend more time on Website has higher conversion rate"
   ]
  },
  {
   "cell_type": "markdown",
   "metadata": {},
   "source": [
    "### Page_Views_Per_Visit"
   ]
  },
  {
   "cell_type": "code",
   "execution_count": 95,
   "metadata": {},
   "outputs": [
    {
     "data": {
      "text/plain": [
       "0.96     6.0\n",
       "0.97     7.0\n",
       "0.98     8.0\n",
       "0.99     9.0\n",
       "1.00    16.0\n",
       "Name: Page_Views_Per_Visit, dtype: float64"
      ]
     },
     "execution_count": 95,
     "metadata": {},
     "output_type": "execute_result"
    }
   ],
   "source": [
    "lead_df.Page_Views_Per_Visit.quantile([0.96,0.97,0.98,0.99,1])"
   ]
  },
  {
   "cell_type": "code",
   "execution_count": 96,
   "metadata": {},
   "outputs": [
    {
     "data": {
      "text/plain": [
       "count    8924.00000\n",
       "mean        2.27400\n",
       "std         1.89403\n",
       "min         0.00000\n",
       "25%         1.00000\n",
       "50%         2.00000\n",
       "75%         3.00000\n",
       "max         9.00000\n",
       "Name: Page_Views_Per_Visit, dtype: float64"
      ]
     },
     "execution_count": 96,
     "metadata": {},
     "output_type": "execute_result"
    }
   ],
   "source": [
    "lead_df = lead_df[lead_df.Page_Views_Per_Visit <=9]\n",
    "lead_df.Page_Views_Per_Visit.describe()"
   ]
  },
  {
   "cell_type": "code",
   "execution_count": 97,
   "metadata": {},
   "outputs": [
    {
     "data": {
      "text/plain": [
       "<matplotlib.axes._subplots.AxesSubplot at 0x1b7d505e208>"
      ]
     },
     "execution_count": 97,
     "metadata": {},
     "output_type": "execute_result"
    },
    {
     "data": {
      "image/png": "[encoded data removed]",
      "text/plain": [
       "<Figure size 432x288 with 1 Axes>"
      ]
     },
     "metadata": {
      "needs_background": "light"
     },
     "output_type": "display_data"
    }
   ],
   "source": [
    "sns.boxplot(x=\"Converted\",y=\"Page_Views_Per_Visit\",data=lead_df)"
   ]
  },
  {
   "cell_type": "markdown",
   "metadata": {},
   "source": [
    "### Inference\n",
    "1. Medians are same approximately same for both the cases"
   ]
  },
  {
   "cell_type": "code",
   "execution_count": 98,
   "metadata": {},
   "outputs": [
    {
     "data": {
      "text/plain": [
       "Lead_Origin                               0.0\n",
       "Lead_Source                               0.0\n",
       "Do_Not_Email                              0.0\n",
       "Converted                                 0.0\n",
       "TotalVisits                               0.0\n",
       "Total_Time_Spent_on_Website               0.0\n",
       "Page_Views_Per_Visit                      0.0\n",
       "Last_Activity                             0.0\n",
       "Specialization                            0.0\n",
       "What_is_your_current_occupation           0.0\n",
       "Tags                                      0.0\n",
       "City                                      0.0\n",
       "A_free_copy_of_Mastering_The_Interview    0.0\n",
       "Last_Notable_Activity                     0.0\n",
       "dtype: float64"
      ]
     },
     "execution_count": 98,
     "metadata": {},
     "output_type": "execute_result"
    }
   ],
   "source": [
    "round(100*(lead_df.isnull().sum()/len(lead_df.index)),2)"
   ]
  },
  {
   "cell_type": "markdown",
   "metadata": {},
   "source": [
    "# DATA PREPERATION"
   ]
  },
  {
   "cell_type": "markdown",
   "metadata": {},
   "source": [
    "### We  can Map the **Yes,No** values to **1 and 0**"
   ]
  },
  {
   "cell_type": "code",
   "execution_count": 99,
   "metadata": {},
   "outputs": [],
   "source": [
    "# Mapping the Binary columns \n",
    "map_list =  ['A_free_copy_of_Mastering_The_Interview','Do_Not_Email']\n",
    "\n",
    "def mapping_bin(x):\n",
    "    return x.map({\"Yes\":1,\"No\":0})\n",
    "    \n",
    "lead_df[map_list] = lead_df[map_list].apply(mapping_bin)"
   ]
  },
  {
   "cell_type": "code",
   "execution_count": 100,
   "metadata": {},
   "outputs": [
    {
     "data": {
      "text/plain": [
       "Index(['Lead_Origin', 'Lead_Source', 'Last_Activity', 'Specialization',\n",
       "       'What_is_your_current_occupation', 'Tags', 'City',\n",
       "       'Last_Notable_Activity'],\n",
       "      dtype='object')"
      ]
     },
     "execution_count": 100,
     "metadata": {},
     "output_type": "execute_result"
    }
   ],
   "source": [
    "#Fetching the categorical datatype columns\n",
    "\n",
    "category_cols= lead_df.select_dtypes(include=['object']).columns\n",
    "category_cols"
   ]
  },
  {
   "cell_type": "markdown",
   "metadata": {},
   "source": [
    "## Dummy Variable Creation\n"
   ]
  },
  {
   "cell_type": "code",
   "execution_count": 101,
   "metadata": {},
   "outputs": [
    {
     "data": {
      "text/plain": [
       "Landing Page Submission    4768\n",
       "API                        3546\n",
       "Lead Add Form               580\n",
       "Lead Import                  30\n",
       "Name: Lead_Origin, dtype: int64"
      ]
     },
     "execution_count": 101,
     "metadata": {},
     "output_type": "execute_result"
    }
   ],
   "source": [
    "lead_df.Lead_Origin.value_counts()"
   ]
  },
  {
   "cell_type": "code",
   "execution_count": 102,
   "metadata": {},
   "outputs": [
    {
     "data": {
      "text/plain": [
       "Unemployed              8027\n",
       "Working Professional     665\n",
       "Student                  203\n",
       "Other                     13\n",
       "Housewife                  9\n",
       "Businessman                7\n",
       "Name: What_is_your_current_occupation, dtype: int64"
      ]
     },
     "execution_count": 102,
     "metadata": {},
     "output_type": "execute_result"
    }
   ],
   "source": [
    "lead_df.What_is_your_current_occupation.value_counts()"
   ]
  },
  {
   "cell_type": "code",
   "execution_count": 103,
   "metadata": {},
   "outputs": [
    {
     "data": {
      "text/plain": [
       "Management_Specializations           4119\n",
       "Other Specialization                 3262\n",
       "Business Administration               390\n",
       "Banking, Investment And Insurance     325\n",
       "Media and Advertising                 197\n",
       "Travel and Tourism                    189\n",
       "International Business                171\n",
       "E-COMMERCE                            107\n",
       "Rural and Agribusiness                 70\n",
       "E-Business                             56\n",
       "Services Excellence                    38\n",
       "Name: Specialization, dtype: int64"
      ]
     },
     "execution_count": 103,
     "metadata": {},
     "output_type": "execute_result"
    }
   ],
   "source": [
    "lead_df.Specialization.value_counts()"
   ]
  },
  {
   "cell_type": "markdown",
   "metadata": {},
   "source": [
    "### Creating Dummy Variables and  Concatinating with the Original DataFrame"
   ]
  },
  {
   "cell_type": "code",
   "execution_count": 104,
   "metadata": {},
   "outputs": [],
   "source": [
    "\n",
    "\n",
    "dummy_df = pd.get_dummies(lead_df[[\"Lead_Origin\",\"What_is_your_current_occupation\",\"City\"]],drop_first=True)\n",
    "lead_df = pd.concat([lead_df,dummy_df],1)\n",
    "\n",
    "\n",
    "dummy_df = pd.get_dummies(lead_df['Specialization'], prefix  = 'Specialization')\n",
    "dummy_df = dummy_df.drop(['Specialization_Other Specialization'], 1)\n",
    "lead_df = pd.concat([lead_df, dummy_df], axis = 1)\n",
    "\n",
    "\n",
    "dummy_df = pd.get_dummies(lead_df['Lead_Source'], prefix  = 'Lead_Source')\n",
    "dummy_df = dummy_df.drop(['Lead_Source_Others'], 1)\n",
    "lead_df = pd.concat([lead_df, dummy_df], axis = 1)\n",
    "\n",
    "\n",
    "dummy_df = pd.get_dummies(lead_df['Last_Activity'], prefix  = 'Last_Activity')\n",
    "dummy_df = dummy_df.drop(['Last_Activity_Others'], 1)\n",
    "lead_df = pd.concat([lead_df, dummy_df], axis = 1)\n",
    "\n",
    "\n",
    "dummy_df = pd.get_dummies(lead_df['Tags'], prefix  = 'Tags')\n",
    "dummy_df = dummy_df.drop(['Tags_Not Provided'], 1)\n",
    "lead_df = pd.concat([lead_df, dummy_df], axis = 1)\n",
    "\n",
    "\n",
    "dummy_df = pd.get_dummies(lead_df['Last_Notable_Activity'], prefix  = 'Last_Notable_Activity')\n",
    "dummy_df = dummy_df.drop(['Last_Notable_Activity_Other Activity'], 1)\n",
    "lead_df = pd.concat([lead_df, dummy_df], axis = 1)\n",
    "\n"
   ]
  },
  {
   "cell_type": "code",
   "execution_count": 105,
   "metadata": {},
   "outputs": [
    {
     "data": {
      "text/plain": [
       "(8924, 67)"
      ]
     },
     "execution_count": 105,
     "metadata": {},
     "output_type": "execute_result"
    }
   ],
   "source": [
    "lead_df.shape"
   ]
  },
  {
   "cell_type": "code",
   "execution_count": 106,
   "metadata": {},
   "outputs": [
    {
     "data": {
      "text/plain": [
       "(8924, 59)"
      ]
     },
     "execution_count": 106,
     "metadata": {},
     "output_type": "execute_result"
    }
   ],
   "source": [
    "# Now we can drop the Original Columns,its is of no use now\n",
    "lead_df.drop(category_cols,1,inplace=True)\n",
    "lead_df.shape"
   ]
  },
  {
   "cell_type": "code",
   "execution_count": 107,
   "metadata": {
    "scrolled": true
   },
   "outputs": [
    {
     "name": "stdout",
     "output_type": "stream",
     "text": [
      "<class 'pandas.core.frame.DataFrame'>\n",
      "Int64Index: 8924 entries, 0 to 9239\n",
      "Data columns (total 59 columns):\n",
      "Do_Not_Email                                            8924 non-null int64\n",
      "Converted                                               8924 non-null int64\n",
      "TotalVisits                                             8924 non-null float64\n",
      "Total_Time_Spent_on_Website                             8924 non-null int64\n",
      "Page_Views_Per_Visit                                    8924 non-null float64\n",
      "A_free_copy_of_Mastering_The_Interview                  8924 non-null int64\n",
      "Lead_Origin_Landing Page Submission                     8924 non-null uint8\n",
      "Lead_Origin_Lead Add Form                               8924 non-null uint8\n",
      "Lead_Origin_Lead Import                                 8924 non-null uint8\n",
      "What_is_your_current_occupation_Housewife               8924 non-null uint8\n",
      "What_is_your_current_occupation_Other                   8924 non-null uint8\n",
      "What_is_your_current_occupation_Student                 8924 non-null uint8\n",
      "What_is_your_current_occupation_Unemployed              8924 non-null uint8\n",
      "What_is_your_current_occupation_Working Professional    8924 non-null uint8\n",
      "City_Other Cities                                       8924 non-null uint8\n",
      "City_Other Cities of Maharashtra                        8924 non-null uint8\n",
      "City_Other Metro Cities                                 8924 non-null uint8\n",
      "City_Thane & Outskirts                                  8924 non-null uint8\n",
      "City_Tier II Cities                                     8924 non-null uint8\n",
      "Specialization_Banking, Investment And Insurance        8924 non-null uint8\n",
      "Specialization_Business Administration                  8924 non-null uint8\n",
      "Specialization_E-Business                               8924 non-null uint8\n",
      "Specialization_E-COMMERCE                               8924 non-null uint8\n",
      "Specialization_International Business                   8924 non-null uint8\n",
      "Specialization_Management_Specializations               8924 non-null uint8\n",
      "Specialization_Media and Advertising                    8924 non-null uint8\n",
      "Specialization_Rural and Agribusiness                   8924 non-null uint8\n",
      "Specialization_Services Excellence                      8924 non-null uint8\n",
      "Specialization_Travel and Tourism                       8924 non-null uint8\n",
      "Lead_Source_Direct Traffic                              8924 non-null uint8\n",
      "Lead_Source_Google                                      8924 non-null uint8\n",
      "Lead_Source_Live Chat                                   8924 non-null uint8\n",
      "Lead_Source_Olark Chat                                  8924 non-null uint8\n",
      "Lead_Source_Organic Search                              8924 non-null uint8\n",
      "Lead_Source_Reference                                   8924 non-null uint8\n",
      "Lead_Source_Referral Sites                              8924 non-null uint8\n",
      "Lead_Source_Social Media                                8924 non-null uint8\n",
      "Lead_Source_Welingak Website                            8924 non-null uint8\n",
      "Last_Activity_Converted to Lead                         8924 non-null uint8\n",
      "Last_Activity_Email Bounced                             8924 non-null uint8\n",
      "Last_Activity_Email Link Clicked                        8924 non-null uint8\n",
      "Last_Activity_Email Opened                              8924 non-null uint8\n",
      "Last_Activity_Form Submitted on Website                 8924 non-null uint8\n",
      "Last_Activity_Olark Chat Conversation                   8924 non-null uint8\n",
      "Last_Activity_Page Visited on Website                   8924 non-null uint8\n",
      "Last_Activity_SMS Sent                                  8924 non-null uint8\n",
      "Tags_Busy                                               8924 non-null uint8\n",
      "Tags_Closed by Horizzon                                 8924 non-null uint8\n",
      "Tags_Interested in other courses                        8924 non-null uint8\n",
      "Tags_Lost to EINS                                       8924 non-null uint8\n",
      "Tags_Other_Tags                                         8924 non-null uint8\n",
      "Tags_Ringing                                            8924 non-null uint8\n",
      "Tags_Will revert after reading the email                8924 non-null uint8\n",
      "Last_Notable_Activity_Email Link Clicked                8924 non-null uint8\n",
      "Last_Notable_Activity_Email Opened                      8924 non-null uint8\n",
      "Last_Notable_Activity_Modified                          8924 non-null uint8\n",
      "Last_Notable_Activity_Olark Chat Conversation           8924 non-null uint8\n",
      "Last_Notable_Activity_Page Visited on Website           8924 non-null uint8\n",
      "Last_Notable_Activity_SMS Sent                          8924 non-null uint8\n",
      "dtypes: float64(2), int64(4), uint8(53)\n",
      "memory usage: 1.2 MB\n"
     ]
    }
   ],
   "source": [
    "lead_df.info()"
   ]
  },
  {
   "cell_type": "code",
   "execution_count": 108,
   "metadata": {
    "scrolled": true
   },
   "outputs": [
    {
     "data": {
      "text/html": [
       "<div>\n",
       "<style scoped>\n",
       "    .dataframe tbody tr th:only-of-type {\n",
       "        vertical-align: middle;\n",
       "    }\n",
       "\n",
       "    .dataframe tbody tr th {\n",
       "        vertical-align: top;\n",
       "    }\n",
       "\n",
       "    .dataframe thead th {\n",
       "        text-align: right;\n",
       "    }\n",
       "</style>\n",
       "<table border=\"1\" class=\"dataframe\">\n",
       "  <thead>\n",
       "    <tr style=\"text-align: right;\">\n",
       "      <th></th>\n",
       "      <th>Do_Not_Email</th>\n",
       "      <th>Converted</th>\n",
       "      <th>TotalVisits</th>\n",
       "      <th>Total_Time_Spent_on_Website</th>\n",
       "      <th>Page_Views_Per_Visit</th>\n",
       "      <th>A_free_copy_of_Mastering_The_Interview</th>\n",
       "      <th>Lead_Origin_Landing Page Submission</th>\n",
       "      <th>Lead_Origin_Lead Add Form</th>\n",
       "      <th>Lead_Origin_Lead Import</th>\n",
       "      <th>What_is_your_current_occupation_Housewife</th>\n",
       "      <th>...</th>\n",
       "      <th>Tags_Lost to EINS</th>\n",
       "      <th>Tags_Other_Tags</th>\n",
       "      <th>Tags_Ringing</th>\n",
       "      <th>Tags_Will revert after reading the email</th>\n",
       "      <th>Last_Notable_Activity_Email Link Clicked</th>\n",
       "      <th>Last_Notable_Activity_Email Opened</th>\n",
       "      <th>Last_Notable_Activity_Modified</th>\n",
       "      <th>Last_Notable_Activity_Olark Chat Conversation</th>\n",
       "      <th>Last_Notable_Activity_Page Visited on Website</th>\n",
       "      <th>Last_Notable_Activity_SMS Sent</th>\n",
       "    </tr>\n",
       "  </thead>\n",
       "  <tbody>\n",
       "    <tr>\n",
       "      <th>0</th>\n",
       "      <td>0</td>\n",
       "      <td>0</td>\n",
       "      <td>0.0</td>\n",
       "      <td>0</td>\n",
       "      <td>0.0</td>\n",
       "      <td>0</td>\n",
       "      <td>0</td>\n",
       "      <td>0</td>\n",
       "      <td>0</td>\n",
       "      <td>0</td>\n",
       "      <td>...</td>\n",
       "      <td>0</td>\n",
       "      <td>0</td>\n",
       "      <td>0</td>\n",
       "      <td>0</td>\n",
       "      <td>0</td>\n",
       "      <td>0</td>\n",
       "      <td>1</td>\n",
       "      <td>0</td>\n",
       "      <td>0</td>\n",
       "      <td>0</td>\n",
       "    </tr>\n",
       "    <tr>\n",
       "      <th>1</th>\n",
       "      <td>0</td>\n",
       "      <td>0</td>\n",
       "      <td>5.0</td>\n",
       "      <td>674</td>\n",
       "      <td>2.5</td>\n",
       "      <td>0</td>\n",
       "      <td>0</td>\n",
       "      <td>0</td>\n",
       "      <td>0</td>\n",
       "      <td>0</td>\n",
       "      <td>...</td>\n",
       "      <td>0</td>\n",
       "      <td>0</td>\n",
       "      <td>1</td>\n",
       "      <td>0</td>\n",
       "      <td>0</td>\n",
       "      <td>1</td>\n",
       "      <td>0</td>\n",
       "      <td>0</td>\n",
       "      <td>0</td>\n",
       "      <td>0</td>\n",
       "    </tr>\n",
       "    <tr>\n",
       "      <th>2</th>\n",
       "      <td>0</td>\n",
       "      <td>1</td>\n",
       "      <td>2.0</td>\n",
       "      <td>1532</td>\n",
       "      <td>2.0</td>\n",
       "      <td>1</td>\n",
       "      <td>1</td>\n",
       "      <td>0</td>\n",
       "      <td>0</td>\n",
       "      <td>0</td>\n",
       "      <td>...</td>\n",
       "      <td>0</td>\n",
       "      <td>0</td>\n",
       "      <td>0</td>\n",
       "      <td>1</td>\n",
       "      <td>0</td>\n",
       "      <td>1</td>\n",
       "      <td>0</td>\n",
       "      <td>0</td>\n",
       "      <td>0</td>\n",
       "      <td>0</td>\n",
       "    </tr>\n",
       "    <tr>\n",
       "      <th>3</th>\n",
       "      <td>0</td>\n",
       "      <td>0</td>\n",
       "      <td>1.0</td>\n",
       "      <td>305</td>\n",
       "      <td>1.0</td>\n",
       "      <td>0</td>\n",
       "      <td>1</td>\n",
       "      <td>0</td>\n",
       "      <td>0</td>\n",
       "      <td>0</td>\n",
       "      <td>...</td>\n",
       "      <td>0</td>\n",
       "      <td>0</td>\n",
       "      <td>1</td>\n",
       "      <td>0</td>\n",
       "      <td>0</td>\n",
       "      <td>0</td>\n",
       "      <td>1</td>\n",
       "      <td>0</td>\n",
       "      <td>0</td>\n",
       "      <td>0</td>\n",
       "    </tr>\n",
       "    <tr>\n",
       "      <th>4</th>\n",
       "      <td>0</td>\n",
       "      <td>1</td>\n",
       "      <td>2.0</td>\n",
       "      <td>1428</td>\n",
       "      <td>1.0</td>\n",
       "      <td>0</td>\n",
       "      <td>1</td>\n",
       "      <td>0</td>\n",
       "      <td>0</td>\n",
       "      <td>0</td>\n",
       "      <td>...</td>\n",
       "      <td>0</td>\n",
       "      <td>0</td>\n",
       "      <td>0</td>\n",
       "      <td>1</td>\n",
       "      <td>0</td>\n",
       "      <td>0</td>\n",
       "      <td>1</td>\n",
       "      <td>0</td>\n",
       "      <td>0</td>\n",
       "      <td>0</td>\n",
       "    </tr>\n",
       "  </tbody>\n",
       "</table>\n",
       "<p>5 rows × 59 columns</p>\n",
       "</div>"
      ],
      "text/plain": [
       "   Do_Not_Email  Converted  TotalVisits  Total_Time_Spent_on_Website  \\\n",
       "0             0          0          0.0                            0   \n",
       "1             0          0          5.0                          674   \n",
       "2             0          1          2.0                         1532   \n",
       "3             0          0          1.0                          305   \n",
       "4             0          1          2.0                         1428   \n",
       "\n",
       "   Page_Views_Per_Visit  A_free_copy_of_Mastering_The_Interview  \\\n",
       "0                   0.0                                       0   \n",
       "1                   2.5                                       0   \n",
       "2                   2.0                                       1   \n",
       "3                   1.0                                       0   \n",
       "4                   1.0                                       0   \n",
       "\n",
       "   Lead_Origin_Landing Page Submission  Lead_Origin_Lead Add Form  \\\n",
       "0                                    0                          0   \n",
       "1                                    0                          0   \n",
       "2                                    1                          0   \n",
       "3                                    1                          0   \n",
       "4                                    1                          0   \n",
       "\n",
       "   Lead_Origin_Lead Import  What_is_your_current_occupation_Housewife  ...  \\\n",
       "0                        0                                          0  ...   \n",
       "1                        0                                          0  ...   \n",
       "2                        0                                          0  ...   \n",
       "3                        0                                          0  ...   \n",
       "4                        0                                          0  ...   \n",
       "\n",
       "   Tags_Lost to EINS  Tags_Other_Tags  Tags_Ringing  \\\n",
       "0                  0                0             0   \n",
       "1                  0                0             1   \n",
       "2                  0                0             0   \n",
       "3                  0                0             1   \n",
       "4                  0                0             0   \n",
       "\n",
       "   Tags_Will revert after reading the email  \\\n",
       "0                                         0   \n",
       "1                                         0   \n",
       "2                                         1   \n",
       "3                                         0   \n",
       "4                                         1   \n",
       "\n",
       "   Last_Notable_Activity_Email Link Clicked  \\\n",
       "0                                         0   \n",
       "1                                         0   \n",
       "2                                         0   \n",
       "3                                         0   \n",
       "4                                         0   \n",
       "\n",
       "   Last_Notable_Activity_Email Opened  Last_Notable_Activity_Modified  \\\n",
       "0                                   0                               1   \n",
       "1                                   1                               0   \n",
       "2                                   1                               0   \n",
       "3                                   0                               1   \n",
       "4                                   0                               1   \n",
       "\n",
       "   Last_Notable_Activity_Olark Chat Conversation  \\\n",
       "0                                              0   \n",
       "1                                              0   \n",
       "2                                              0   \n",
       "3                                              0   \n",
       "4                                              0   \n",
       "\n",
       "   Last_Notable_Activity_Page Visited on Website  \\\n",
       "0                                              0   \n",
       "1                                              0   \n",
       "2                                              0   \n",
       "3                                              0   \n",
       "4                                              0   \n",
       "\n",
       "   Last_Notable_Activity_SMS Sent  \n",
       "0                               0  \n",
       "1                               0  \n",
       "2                               0  \n",
       "3                               0  \n",
       "4                               0  \n",
       "\n",
       "[5 rows x 59 columns]"
      ]
     },
     "execution_count": 108,
     "metadata": {},
     "output_type": "execute_result"
    }
   ],
   "source": [
    "lead_df.head()"
   ]
  },
  {
   "cell_type": "markdown",
   "metadata": {},
   "source": [
    "## Train - Test Split"
   ]
  },
  {
   "cell_type": "code",
   "execution_count": 109,
   "metadata": {},
   "outputs": [],
   "source": [
    "from sklearn.model_selection import train_test_split\n",
    "\n",
    "y = lead_df.pop(\"Converted\")\n",
    "\n",
    "X = lead_df"
   ]
  },
  {
   "cell_type": "code",
   "execution_count": 110,
   "metadata": {},
   "outputs": [],
   "source": [
    "X_train,X_test,y_train,y_test = train_test_split(X,y,train_size = 0.7,test_size = 0.3, random_state = 100)"
   ]
  },
  {
   "cell_type": "code",
   "execution_count": 111,
   "metadata": {},
   "outputs": [
    {
     "data": {
      "text/html": [
       "<div>\n",
       "<style scoped>\n",
       "    .dataframe tbody tr th:only-of-type {\n",
       "        vertical-align: middle;\n",
       "    }\n",
       "\n",
       "    .dataframe tbody tr th {\n",
       "        vertical-align: top;\n",
       "    }\n",
       "\n",
       "    .dataframe thead th {\n",
       "        text-align: right;\n",
       "    }\n",
       "</style>\n",
       "<table border=\"1\" class=\"dataframe\">\n",
       "  <thead>\n",
       "    <tr style=\"text-align: right;\">\n",
       "      <th></th>\n",
       "      <th>Do_Not_Email</th>\n",
       "      <th>TotalVisits</th>\n",
       "      <th>Total_Time_Spent_on_Website</th>\n",
       "      <th>Page_Views_Per_Visit</th>\n",
       "      <th>A_free_copy_of_Mastering_The_Interview</th>\n",
       "      <th>Lead_Origin_Landing Page Submission</th>\n",
       "      <th>Lead_Origin_Lead Add Form</th>\n",
       "      <th>Lead_Origin_Lead Import</th>\n",
       "      <th>What_is_your_current_occupation_Housewife</th>\n",
       "      <th>What_is_your_current_occupation_Other</th>\n",
       "      <th>...</th>\n",
       "      <th>Tags_Lost to EINS</th>\n",
       "      <th>Tags_Other_Tags</th>\n",
       "      <th>Tags_Ringing</th>\n",
       "      <th>Tags_Will revert after reading the email</th>\n",
       "      <th>Last_Notable_Activity_Email Link Clicked</th>\n",
       "      <th>Last_Notable_Activity_Email Opened</th>\n",
       "      <th>Last_Notable_Activity_Modified</th>\n",
       "      <th>Last_Notable_Activity_Olark Chat Conversation</th>\n",
       "      <th>Last_Notable_Activity_Page Visited on Website</th>\n",
       "      <th>Last_Notable_Activity_SMS Sent</th>\n",
       "    </tr>\n",
       "  </thead>\n",
       "  <tbody>\n",
       "    <tr>\n",
       "      <th>6676</th>\n",
       "      <td>0</td>\n",
       "      <td>3.0</td>\n",
       "      <td>1247</td>\n",
       "      <td>3.0</td>\n",
       "      <td>0</td>\n",
       "      <td>1</td>\n",
       "      <td>0</td>\n",
       "      <td>0</td>\n",
       "      <td>0</td>\n",
       "      <td>0</td>\n",
       "      <td>...</td>\n",
       "      <td>0</td>\n",
       "      <td>0</td>\n",
       "      <td>0</td>\n",
       "      <td>1</td>\n",
       "      <td>0</td>\n",
       "      <td>1</td>\n",
       "      <td>0</td>\n",
       "      <td>0</td>\n",
       "      <td>0</td>\n",
       "      <td>0</td>\n",
       "    </tr>\n",
       "    <tr>\n",
       "      <th>6138</th>\n",
       "      <td>0</td>\n",
       "      <td>4.0</td>\n",
       "      <td>816</td>\n",
       "      <td>4.0</td>\n",
       "      <td>0</td>\n",
       "      <td>1</td>\n",
       "      <td>0</td>\n",
       "      <td>0</td>\n",
       "      <td>0</td>\n",
       "      <td>0</td>\n",
       "      <td>...</td>\n",
       "      <td>0</td>\n",
       "      <td>0</td>\n",
       "      <td>0</td>\n",
       "      <td>1</td>\n",
       "      <td>0</td>\n",
       "      <td>0</td>\n",
       "      <td>0</td>\n",
       "      <td>0</td>\n",
       "      <td>0</td>\n",
       "      <td>1</td>\n",
       "    </tr>\n",
       "    <tr>\n",
       "      <th>8650</th>\n",
       "      <td>0</td>\n",
       "      <td>3.0</td>\n",
       "      <td>1128</td>\n",
       "      <td>3.0</td>\n",
       "      <td>1</td>\n",
       "      <td>1</td>\n",
       "      <td>0</td>\n",
       "      <td>0</td>\n",
       "      <td>0</td>\n",
       "      <td>0</td>\n",
       "      <td>...</td>\n",
       "      <td>0</td>\n",
       "      <td>0</td>\n",
       "      <td>0</td>\n",
       "      <td>1</td>\n",
       "      <td>0</td>\n",
       "      <td>1</td>\n",
       "      <td>0</td>\n",
       "      <td>0</td>\n",
       "      <td>0</td>\n",
       "      <td>0</td>\n",
       "    </tr>\n",
       "    <tr>\n",
       "      <th>3423</th>\n",
       "      <td>0</td>\n",
       "      <td>0.0</td>\n",
       "      <td>0</td>\n",
       "      <td>0.0</td>\n",
       "      <td>0</td>\n",
       "      <td>0</td>\n",
       "      <td>0</td>\n",
       "      <td>0</td>\n",
       "      <td>0</td>\n",
       "      <td>0</td>\n",
       "      <td>...</td>\n",
       "      <td>0</td>\n",
       "      <td>0</td>\n",
       "      <td>0</td>\n",
       "      <td>0</td>\n",
       "      <td>0</td>\n",
       "      <td>0</td>\n",
       "      <td>1</td>\n",
       "      <td>0</td>\n",
       "      <td>0</td>\n",
       "      <td>0</td>\n",
       "    </tr>\n",
       "    <tr>\n",
       "      <th>6552</th>\n",
       "      <td>0</td>\n",
       "      <td>0.0</td>\n",
       "      <td>0</td>\n",
       "      <td>0.0</td>\n",
       "      <td>0</td>\n",
       "      <td>0</td>\n",
       "      <td>0</td>\n",
       "      <td>0</td>\n",
       "      <td>0</td>\n",
       "      <td>0</td>\n",
       "      <td>...</td>\n",
       "      <td>0</td>\n",
       "      <td>0</td>\n",
       "      <td>0</td>\n",
       "      <td>0</td>\n",
       "      <td>0</td>\n",
       "      <td>1</td>\n",
       "      <td>0</td>\n",
       "      <td>0</td>\n",
       "      <td>0</td>\n",
       "      <td>0</td>\n",
       "    </tr>\n",
       "  </tbody>\n",
       "</table>\n",
       "<p>5 rows × 58 columns</p>\n",
       "</div>"
      ],
      "text/plain": [
       "      Do_Not_Email  TotalVisits  Total_Time_Spent_on_Website  \\\n",
       "6676             0          3.0                         1247   \n",
       "6138             0          4.0                          816   \n",
       "8650             0          3.0                         1128   \n",
       "3423             0          0.0                            0   \n",
       "6552             0          0.0                            0   \n",
       "\n",
       "      Page_Views_Per_Visit  A_free_copy_of_Mastering_The_Interview  \\\n",
       "6676                   3.0                                       0   \n",
       "6138                   4.0                                       0   \n",
       "8650                   3.0                                       1   \n",
       "3423                   0.0                                       0   \n",
       "6552                   0.0                                       0   \n",
       "\n",
       "      Lead_Origin_Landing Page Submission  Lead_Origin_Lead Add Form  \\\n",
       "6676                                    1                          0   \n",
       "6138                                    1                          0   \n",
       "8650                                    1                          0   \n",
       "3423                                    0                          0   \n",
       "6552                                    0                          0   \n",
       "\n",
       "      Lead_Origin_Lead Import  What_is_your_current_occupation_Housewife  \\\n",
       "6676                        0                                          0   \n",
       "6138                        0                                          0   \n",
       "8650                        0                                          0   \n",
       "3423                        0                                          0   \n",
       "6552                        0                                          0   \n",
       "\n",
       "      What_is_your_current_occupation_Other  ...  Tags_Lost to EINS  \\\n",
       "6676                                      0  ...                  0   \n",
       "6138                                      0  ...                  0   \n",
       "8650                                      0  ...                  0   \n",
       "3423                                      0  ...                  0   \n",
       "6552                                      0  ...                  0   \n",
       "\n",
       "      Tags_Other_Tags  Tags_Ringing  Tags_Will revert after reading the email  \\\n",
       "6676                0             0                                         1   \n",
       "6138                0             0                                         1   \n",
       "8650                0             0                                         1   \n",
       "3423                0             0                                         0   \n",
       "6552                0             0                                         0   \n",
       "\n",
       "      Last_Notable_Activity_Email Link Clicked  \\\n",
       "6676                                         0   \n",
       "6138                                         0   \n",
       "8650                                         0   \n",
       "3423                                         0   \n",
       "6552                                         0   \n",
       "\n",
       "      Last_Notable_Activity_Email Opened  Last_Notable_Activity_Modified  \\\n",
       "6676                                   1                               0   \n",
       "6138                                   0                               0   \n",
       "8650                                   1                               0   \n",
       "3423                                   0                               1   \n",
       "6552                                   1                               0   \n",
       "\n",
       "      Last_Notable_Activity_Olark Chat Conversation  \\\n",
       "6676                                              0   \n",
       "6138                                              0   \n",
       "8650                                              0   \n",
       "3423                                              0   \n",
       "6552                                              0   \n",
       "\n",
       "      Last_Notable_Activity_Page Visited on Website  \\\n",
       "6676                                              0   \n",
       "6138                                              0   \n",
       "8650                                              0   \n",
       "3423                                              0   \n",
       "6552                                              0   \n",
       "\n",
       "      Last_Notable_Activity_SMS Sent  \n",
       "6676                               0  \n",
       "6138                               1  \n",
       "8650                               0  \n",
       "3423                               0  \n",
       "6552                               0  \n",
       "\n",
       "[5 rows x 58 columns]"
      ]
     },
     "execution_count": 111,
     "metadata": {},
     "output_type": "execute_result"
    }
   ],
   "source": [
    "X_train.head()"
   ]
  },
  {
   "cell_type": "code",
   "execution_count": 112,
   "metadata": {},
   "outputs": [
    {
     "data": {
      "text/plain": [
       "(6246, 58)"
      ]
     },
     "execution_count": 112,
     "metadata": {},
     "output_type": "execute_result"
    }
   ],
   "source": [
    "X_train.shape"
   ]
  },
  {
   "cell_type": "code",
   "execution_count": 113,
   "metadata": {},
   "outputs": [
    {
     "data": {
      "text/plain": [
       "(2678, 58)"
      ]
     },
     "execution_count": 113,
     "metadata": {},
     "output_type": "execute_result"
    }
   ],
   "source": [
    "X_test.shape"
   ]
  },
  {
   "cell_type": "markdown",
   "metadata": {},
   "source": [
    "## Standardizing the Numerical Columns"
   ]
  },
  {
   "cell_type": "markdown",
   "metadata": {},
   "source": [
    "In order to further proceeding with the Modal Building we need to Standardize the Numerical Columns"
   ]
  },
  {
   "cell_type": "code",
   "execution_count": 114,
   "metadata": {},
   "outputs": [
    {
     "data": {
      "text/plain": [
       "Index(['Do_Not_Email', 'TotalVisits', 'Total_Time_Spent_on_Website',\n",
       "       'Page_Views_Per_Visit', 'A_free_copy_of_Mastering_The_Interview'],\n",
       "      dtype='object')"
      ]
     },
     "execution_count": 114,
     "metadata": {},
     "output_type": "execute_result"
    }
   ],
   "source": [
    "# Filtering the Numerical Columns\n",
    "num_columns = X_train.select_dtypes(include=[\"int64\",\"float64\"]).columns\n",
    "num_columns"
   ]
  },
  {
   "cell_type": "code",
   "execution_count": 115,
   "metadata": {},
   "outputs": [
    {
     "name": "stderr",
     "output_type": "stream",
     "text": [
      "C:\\Users\\SANTHOSH VENUGOPAL\\Anaconda3\\lib\\site-packages\\ipykernel_launcher.py:5: SettingWithCopyWarning: \n",
      "A value is trying to be set on a copy of a slice from a DataFrame.\n",
      "Try using .loc[row_indexer,col_indexer] = value instead\n",
      "\n",
      "See the caveats in the documentation: http://pandas.pydata.org/pandas-docs/stable/user_guide/indexing.html#returning-a-view-versus-a-copy\n",
      "  \"\"\"\n",
      "C:\\Users\\SANTHOSH VENUGOPAL\\Anaconda3\\lib\\site-packages\\pandas\\core\\indexing.py:494: SettingWithCopyWarning: \n",
      "A value is trying to be set on a copy of a slice from a DataFrame.\n",
      "Try using .loc[row_indexer,col_indexer] = value instead\n",
      "\n",
      "See the caveats in the documentation: http://pandas.pydata.org/pandas-docs/stable/user_guide/indexing.html#returning-a-view-versus-a-copy\n",
      "  self.obj[item] = s\n"
     ]
    },
    {
     "data": {
      "text/html": [
       "<div>\n",
       "<style scoped>\n",
       "    .dataframe tbody tr th:only-of-type {\n",
       "        vertical-align: middle;\n",
       "    }\n",
       "\n",
       "    .dataframe tbody tr th {\n",
       "        vertical-align: top;\n",
       "    }\n",
       "\n",
       "    .dataframe thead th {\n",
       "        text-align: right;\n",
       "    }\n",
       "</style>\n",
       "<table border=\"1\" class=\"dataframe\">\n",
       "  <thead>\n",
       "    <tr style=\"text-align: right;\">\n",
       "      <th></th>\n",
       "      <th>Do_Not_Email</th>\n",
       "      <th>TotalVisits</th>\n",
       "      <th>Total_Time_Spent_on_Website</th>\n",
       "      <th>Page_Views_Per_Visit</th>\n",
       "      <th>A_free_copy_of_Mastering_The_Interview</th>\n",
       "      <th>Lead_Origin_Landing Page Submission</th>\n",
       "      <th>Lead_Origin_Lead Add Form</th>\n",
       "      <th>Lead_Origin_Lead Import</th>\n",
       "      <th>What_is_your_current_occupation_Housewife</th>\n",
       "      <th>What_is_your_current_occupation_Other</th>\n",
       "      <th>...</th>\n",
       "      <th>Tags_Lost to EINS</th>\n",
       "      <th>Tags_Other_Tags</th>\n",
       "      <th>Tags_Ringing</th>\n",
       "      <th>Tags_Will revert after reading the email</th>\n",
       "      <th>Last_Notable_Activity_Email Link Clicked</th>\n",
       "      <th>Last_Notable_Activity_Email Opened</th>\n",
       "      <th>Last_Notable_Activity_Modified</th>\n",
       "      <th>Last_Notable_Activity_Olark Chat Conversation</th>\n",
       "      <th>Last_Notable_Activity_Page Visited on Website</th>\n",
       "      <th>Last_Notable_Activity_SMS Sent</th>\n",
       "    </tr>\n",
       "  </thead>\n",
       "  <tbody>\n",
       "    <tr>\n",
       "      <th>6676</th>\n",
       "      <td>-0.285584</td>\n",
       "      <td>-0.049636</td>\n",
       "      <td>1.395668</td>\n",
       "      <td>0.395289</td>\n",
       "      <td>-0.669212</td>\n",
       "      <td>1</td>\n",
       "      <td>0</td>\n",
       "      <td>0</td>\n",
       "      <td>0</td>\n",
       "      <td>0</td>\n",
       "      <td>...</td>\n",
       "      <td>0</td>\n",
       "      <td>0</td>\n",
       "      <td>0</td>\n",
       "      <td>1</td>\n",
       "      <td>0</td>\n",
       "      <td>1</td>\n",
       "      <td>0</td>\n",
       "      <td>0</td>\n",
       "      <td>0</td>\n",
       "      <td>0</td>\n",
       "    </tr>\n",
       "    <tr>\n",
       "      <th>6138</th>\n",
       "      <td>-0.285584</td>\n",
       "      <td>0.297929</td>\n",
       "      <td>0.609686</td>\n",
       "      <td>0.926758</td>\n",
       "      <td>-0.669212</td>\n",
       "      <td>1</td>\n",
       "      <td>0</td>\n",
       "      <td>0</td>\n",
       "      <td>0</td>\n",
       "      <td>0</td>\n",
       "      <td>...</td>\n",
       "      <td>0</td>\n",
       "      <td>0</td>\n",
       "      <td>0</td>\n",
       "      <td>1</td>\n",
       "      <td>0</td>\n",
       "      <td>0</td>\n",
       "      <td>0</td>\n",
       "      <td>0</td>\n",
       "      <td>0</td>\n",
       "      <td>1</td>\n",
       "    </tr>\n",
       "    <tr>\n",
       "      <th>8650</th>\n",
       "      <td>-0.285584</td>\n",
       "      <td>-0.049636</td>\n",
       "      <td>1.178657</td>\n",
       "      <td>0.395289</td>\n",
       "      <td>1.494296</td>\n",
       "      <td>1</td>\n",
       "      <td>0</td>\n",
       "      <td>0</td>\n",
       "      <td>0</td>\n",
       "      <td>0</td>\n",
       "      <td>...</td>\n",
       "      <td>0</td>\n",
       "      <td>0</td>\n",
       "      <td>0</td>\n",
       "      <td>1</td>\n",
       "      <td>0</td>\n",
       "      <td>1</td>\n",
       "      <td>0</td>\n",
       "      <td>0</td>\n",
       "      <td>0</td>\n",
       "      <td>0</td>\n",
       "    </tr>\n",
       "    <tr>\n",
       "      <th>3423</th>\n",
       "      <td>-0.285584</td>\n",
       "      <td>-1.092332</td>\n",
       "      <td>-0.878390</td>\n",
       "      <td>-1.199117</td>\n",
       "      <td>-0.669212</td>\n",
       "      <td>0</td>\n",
       "      <td>0</td>\n",
       "      <td>0</td>\n",
       "      <td>0</td>\n",
       "      <td>0</td>\n",
       "      <td>...</td>\n",
       "      <td>0</td>\n",
       "      <td>0</td>\n",
       "      <td>0</td>\n",
       "      <td>0</td>\n",
       "      <td>0</td>\n",
       "      <td>0</td>\n",
       "      <td>1</td>\n",
       "      <td>0</td>\n",
       "      <td>0</td>\n",
       "      <td>0</td>\n",
       "    </tr>\n",
       "    <tr>\n",
       "      <th>6552</th>\n",
       "      <td>-0.285584</td>\n",
       "      <td>-1.092332</td>\n",
       "      <td>-0.878390</td>\n",
       "      <td>-1.199117</td>\n",
       "      <td>-0.669212</td>\n",
       "      <td>0</td>\n",
       "      <td>0</td>\n",
       "      <td>0</td>\n",
       "      <td>0</td>\n",
       "      <td>0</td>\n",
       "      <td>...</td>\n",
       "      <td>0</td>\n",
       "      <td>0</td>\n",
       "      <td>0</td>\n",
       "      <td>0</td>\n",
       "      <td>0</td>\n",
       "      <td>1</td>\n",
       "      <td>0</td>\n",
       "      <td>0</td>\n",
       "      <td>0</td>\n",
       "      <td>0</td>\n",
       "    </tr>\n",
       "  </tbody>\n",
       "</table>\n",
       "<p>5 rows × 58 columns</p>\n",
       "</div>"
      ],
      "text/plain": [
       "      Do_Not_Email  TotalVisits  Total_Time_Spent_on_Website  \\\n",
       "6676     -0.285584    -0.049636                     1.395668   \n",
       "6138     -0.285584     0.297929                     0.609686   \n",
       "8650     -0.285584    -0.049636                     1.178657   \n",
       "3423     -0.285584    -1.092332                    -0.878390   \n",
       "6552     -0.285584    -1.092332                    -0.878390   \n",
       "\n",
       "      Page_Views_Per_Visit  A_free_copy_of_Mastering_The_Interview  \\\n",
       "6676              0.395289                               -0.669212   \n",
       "6138              0.926758                               -0.669212   \n",
       "8650              0.395289                                1.494296   \n",
       "3423             -1.199117                               -0.669212   \n",
       "6552             -1.199117                               -0.669212   \n",
       "\n",
       "      Lead_Origin_Landing Page Submission  Lead_Origin_Lead Add Form  \\\n",
       "6676                                    1                          0   \n",
       "6138                                    1                          0   \n",
       "8650                                    1                          0   \n",
       "3423                                    0                          0   \n",
       "6552                                    0                          0   \n",
       "\n",
       "      Lead_Origin_Lead Import  What_is_your_current_occupation_Housewife  \\\n",
       "6676                        0                                          0   \n",
       "6138                        0                                          0   \n",
       "8650                        0                                          0   \n",
       "3423                        0                                          0   \n",
       "6552                        0                                          0   \n",
       "\n",
       "      What_is_your_current_occupation_Other  ...  Tags_Lost to EINS  \\\n",
       "6676                                      0  ...                  0   \n",
       "6138                                      0  ...                  0   \n",
       "8650                                      0  ...                  0   \n",
       "3423                                      0  ...                  0   \n",
       "6552                                      0  ...                  0   \n",
       "\n",
       "      Tags_Other_Tags  Tags_Ringing  Tags_Will revert after reading the email  \\\n",
       "6676                0             0                                         1   \n",
       "6138                0             0                                         1   \n",
       "8650                0             0                                         1   \n",
       "3423                0             0                                         0   \n",
       "6552                0             0                                         0   \n",
       "\n",
       "      Last_Notable_Activity_Email Link Clicked  \\\n",
       "6676                                         0   \n",
       "6138                                         0   \n",
       "8650                                         0   \n",
       "3423                                         0   \n",
       "6552                                         0   \n",
       "\n",
       "      Last_Notable_Activity_Email Opened  Last_Notable_Activity_Modified  \\\n",
       "6676                                   1                               0   \n",
       "6138                                   0                               0   \n",
       "8650                                   1                               0   \n",
       "3423                                   0                               1   \n",
       "6552                                   1                               0   \n",
       "\n",
       "      Last_Notable_Activity_Olark Chat Conversation  \\\n",
       "6676                                              0   \n",
       "6138                                              0   \n",
       "8650                                              0   \n",
       "3423                                              0   \n",
       "6552                                              0   \n",
       "\n",
       "      Last_Notable_Activity_Page Visited on Website  \\\n",
       "6676                                              0   \n",
       "6138                                              0   \n",
       "8650                                              0   \n",
       "3423                                              0   \n",
       "6552                                              0   \n",
       "\n",
       "      Last_Notable_Activity_SMS Sent  \n",
       "6676                               0  \n",
       "6138                               1  \n",
       "8650                               0  \n",
       "3423                               0  \n",
       "6552                               0  \n",
       "\n",
       "[5 rows x 58 columns]"
      ]
     },
     "execution_count": 115,
     "metadata": {},
     "output_type": "execute_result"
    }
   ],
   "source": [
    "from sklearn.preprocessing import StandardScaler\n",
    "\n",
    "scalar = StandardScaler()\n",
    "\n",
    "X_train[num_columns]  = scalar.fit_transform(X_train[num_columns])\n",
    "\n",
    "X_train.head()"
   ]
  },
  {
   "cell_type": "markdown",
   "metadata": {},
   "source": [
    "# Modal Building"
   ]
  },
  {
   "cell_type": "code",
   "execution_count": 116,
   "metadata": {},
   "outputs": [],
   "source": [
    "#Importing StatsModal\n",
    "import statsmodels.api as sm"
   ]
  },
  {
   "cell_type": "code",
   "execution_count": 117,
   "metadata": {},
   "outputs": [],
   "source": [
    "#Importing Logistic Regression\n",
    "\n",
    "from sklearn.linear_model import LogisticRegression\n",
    "logreg = LogisticRegression()\n",
    "\n",
    "#Importing RFE module for Feature Selection\n",
    "# We will select the TOp 15 features out of 58\n",
    "from sklearn.feature_selection import RFE\n",
    "rfe = RFE(logreg,15)\n",
    "rfe = rfe.fit(X_train,y_train)\n"
   ]
  },
  {
   "cell_type": "code",
   "execution_count": 118,
   "metadata": {},
   "outputs": [
    {
     "data": {
      "text/plain": [
       "[('Do_Not_Email', False, 29),\n",
       " ('TotalVisits', False, 22),\n",
       " ('Total_Time_Spent_on_Website', True, 1),\n",
       " ('Page_Views_Per_Visit', False, 21),\n",
       " ('A_free_copy_of_Mastering_The_Interview', False, 41),\n",
       " ('Lead_Origin_Landing Page Submission', False, 6),\n",
       " ('Lead_Origin_Lead Add Form', True, 1),\n",
       " ('Lead_Origin_Lead Import', False, 15),\n",
       " ('What_is_your_current_occupation_Housewife', False, 34),\n",
       " ('What_is_your_current_occupation_Other', False, 33),\n",
       " ('What_is_your_current_occupation_Student', False, 18),\n",
       " ('What_is_your_current_occupation_Unemployed', False, 13),\n",
       " ('What_is_your_current_occupation_Working Professional', False, 2),\n",
       " ('City_Other Cities', False, 39),\n",
       " ('City_Other Cities of Maharashtra', False, 44),\n",
       " ('City_Other Metro Cities', False, 12),\n",
       " ('City_Thane & Outskirts', False, 42),\n",
       " ('City_Tier II Cities', False, 17),\n",
       " ('Specialization_Banking, Investment And Insurance', False, 36),\n",
       " ('Specialization_Business Administration', False, 28),\n",
       " ('Specialization_E-Business', False, 16),\n",
       " ('Specialization_E-COMMERCE', False, 35),\n",
       " ('Specialization_International Business', False, 14),\n",
       " ('Specialization_Management_Specializations', False, 37),\n",
       " ('Specialization_Media and Advertising', False, 20),\n",
       " ('Specialization_Rural and Agribusiness', False, 11),\n",
       " ('Specialization_Services Excellence', False, 19),\n",
       " ('Specialization_Travel and Tourism', False, 9),\n",
       " ('Lead_Source_Direct Traffic', False, 25),\n",
       " ('Lead_Source_Google', False, 27),\n",
       " ('Lead_Source_Live Chat', False, 43),\n",
       " ('Lead_Source_Olark Chat', True, 1),\n",
       " ('Lead_Source_Organic Search', False, 26),\n",
       " ('Lead_Source_Reference', False, 24),\n",
       " ('Lead_Source_Referral Sites', False, 10),\n",
       " ('Lead_Source_Social Media', False, 23),\n",
       " ('Lead_Source_Welingak Website', True, 1),\n",
       " ('Last_Activity_Converted to Lead', False, 7),\n",
       " ('Last_Activity_Email Bounced', True, 1),\n",
       " ('Last_Activity_Email Link Clicked', False, 32),\n",
       " ('Last_Activity_Email Opened', False, 38),\n",
       " ('Last_Activity_Form Submitted on Website', False, 40),\n",
       " ('Last_Activity_Olark Chat Conversation', False, 4),\n",
       " ('Last_Activity_Page Visited on Website', False, 8),\n",
       " ('Last_Activity_SMS Sent', True, 1),\n",
       " ('Tags_Busy', False, 5),\n",
       " ('Tags_Closed by Horizzon', True, 1),\n",
       " ('Tags_Interested in other courses', True, 1),\n",
       " ('Tags_Lost to EINS', True, 1),\n",
       " ('Tags_Other_Tags', True, 1),\n",
       " ('Tags_Ringing', True, 1),\n",
       " ('Tags_Will revert after reading the email', True, 1),\n",
       " ('Last_Notable_Activity_Email Link Clicked', False, 3),\n",
       " ('Last_Notable_Activity_Email Opened', False, 31),\n",
       " ('Last_Notable_Activity_Modified', True, 1),\n",
       " ('Last_Notable_Activity_Olark Chat Conversation', True, 1),\n",
       " ('Last_Notable_Activity_Page Visited on Website', False, 30),\n",
       " ('Last_Notable_Activity_SMS Sent', True, 1)]"
      ]
     },
     "execution_count": 118,
     "metadata": {},
     "output_type": "execute_result"
    }
   ],
   "source": [
    "# Ranking \"1\" denotes the Top Features ,True for Selected COlumns\n",
    "list(zip(X_train.columns, rfe.support_, rfe.ranking_))"
   ]
  },
  {
   "cell_type": "code",
   "execution_count": 119,
   "metadata": {},
   "outputs": [
    {
     "data": {
      "text/plain": [
       "Index(['Total_Time_Spent_on_Website', 'Lead_Origin_Lead Add Form',\n",
       "       'Lead_Source_Olark Chat', 'Lead_Source_Welingak Website',\n",
       "       'Last_Activity_Email Bounced', 'Last_Activity_SMS Sent',\n",
       "       'Tags_Closed by Horizzon', 'Tags_Interested in other courses',\n",
       "       'Tags_Lost to EINS', 'Tags_Other_Tags', 'Tags_Ringing',\n",
       "       'Tags_Will revert after reading the email',\n",
       "       'Last_Notable_Activity_Modified',\n",
       "       'Last_Notable_Activity_Olark Chat Conversation',\n",
       "       'Last_Notable_Activity_SMS Sent'],\n",
       "      dtype='object')"
      ]
     },
     "execution_count": 119,
     "metadata": {},
     "output_type": "execute_result"
    }
   ],
   "source": [
    "filtered_cols  = X_train.columns[rfe.support_]\n",
    "filtered_cols"
   ]
  },
  {
   "cell_type": "markdown",
   "metadata": {},
   "source": [
    "> Above Columns will be used for our Modal Building"
   ]
  },
  {
   "cell_type": "markdown",
   "metadata": {},
   "source": [
    "## MODAL #1"
   ]
  },
  {
   "cell_type": "code",
   "execution_count": 120,
   "metadata": {},
   "outputs": [
    {
     "data": {
      "text/html": [
       "<table class=\"simpletable\">\n",
       "<caption>Generalized Linear Model Regression Results</caption>\n",
       "<tr>\n",
       "  <th>Dep. Variable:</th>       <td>Converted</td>    <th>  No. Observations:  </th>  <td>  6246</td> \n",
       "</tr>\n",
       "<tr>\n",
       "  <th>Model:</th>                  <td>GLM</td>       <th>  Df Residuals:      </th>  <td>  6230</td> \n",
       "</tr>\n",
       "<tr>\n",
       "  <th>Model Family:</th>        <td>Binomial</td>     <th>  Df Model:          </th>  <td>    15</td> \n",
       "</tr>\n",
       "<tr>\n",
       "  <th>Link Function:</th>         <td>logit</td>      <th>  Scale:             </th> <td>  1.0000</td>\n",
       "</tr>\n",
       "<tr>\n",
       "  <th>Method:</th>                <td>IRLS</td>       <th>  Log-Likelihood:    </th> <td> -1240.1</td>\n",
       "</tr>\n",
       "<tr>\n",
       "  <th>Date:</th>            <td>Mon, 02 Mar 2020</td> <th>  Deviance:          </th> <td>  2480.3</td>\n",
       "</tr>\n",
       "<tr>\n",
       "  <th>Time:</th>                <td>21:00:57</td>     <th>  Pearson chi2:      </th> <td>8.90e+03</td>\n",
       "</tr>\n",
       "<tr>\n",
       "  <th>No. Iterations:</th>          <td>8</td>        <th>                     </th>     <td> </td>   \n",
       "</tr>\n",
       "<tr>\n",
       "  <th>Covariance Type:</th>     <td>nonrobust</td>    <th>                     </th>     <td> </td>   \n",
       "</tr>\n",
       "</table>\n",
       "<table class=\"simpletable\">\n",
       "<tr>\n",
       "                        <td></td>                           <th>coef</th>     <th>std err</th>      <th>z</th>      <th>P>|z|</th>  <th>[0.025</th>    <th>0.975]</th>  \n",
       "</tr>\n",
       "<tr>\n",
       "  <th>const</th>                                         <td>   -1.5859</td> <td>    0.096</td> <td>  -16.496</td> <td> 0.000</td> <td>   -1.774</td> <td>   -1.398</td>\n",
       "</tr>\n",
       "<tr>\n",
       "  <th>Total_Time_Spent_on_Website</th>                   <td>    1.0830</td> <td>    0.061</td> <td>   17.798</td> <td> 0.000</td> <td>    0.964</td> <td>    1.202</td>\n",
       "</tr>\n",
       "<tr>\n",
       "  <th>Lead_Origin_Lead Add Form</th>                     <td>    1.7763</td> <td>    0.425</td> <td>    4.177</td> <td> 0.000</td> <td>    0.943</td> <td>    2.610</td>\n",
       "</tr>\n",
       "<tr>\n",
       "  <th>Lead_Source_Olark Chat</th>                        <td>    1.2092</td> <td>    0.144</td> <td>    8.406</td> <td> 0.000</td> <td>    0.927</td> <td>    1.491</td>\n",
       "</tr>\n",
       "<tr>\n",
       "  <th>Lead_Source_Welingak Website</th>                  <td>    3.4826</td> <td>    0.848</td> <td>    4.107</td> <td> 0.000</td> <td>    1.821</td> <td>    5.145</td>\n",
       "</tr>\n",
       "<tr>\n",
       "  <th>Last_Activity_Email Bounced</th>                   <td>   -1.4939</td> <td>    0.541</td> <td>   -2.760</td> <td> 0.006</td> <td>   -2.555</td> <td>   -0.433</td>\n",
       "</tr>\n",
       "<tr>\n",
       "  <th>Last_Activity_SMS Sent</th>                        <td>    1.3820</td> <td>    0.231</td> <td>    5.994</td> <td> 0.000</td> <td>    0.930</td> <td>    1.834</td>\n",
       "</tr>\n",
       "<tr>\n",
       "  <th>Tags_Closed by Horizzon</th>                       <td>    6.4254</td> <td>    0.738</td> <td>    8.705</td> <td> 0.000</td> <td>    4.979</td> <td>    7.872</td>\n",
       "</tr>\n",
       "<tr>\n",
       "  <th>Tags_Interested in other courses</th>              <td>   -2.0275</td> <td>    0.394</td> <td>   -5.143</td> <td> 0.000</td> <td>   -2.800</td> <td>   -1.255</td>\n",
       "</tr>\n",
       "<tr>\n",
       "  <th>Tags_Lost to EINS</th>                             <td>    5.3589</td> <td>    0.533</td> <td>   10.063</td> <td> 0.000</td> <td>    4.315</td> <td>    6.403</td>\n",
       "</tr>\n",
       "<tr>\n",
       "  <th>Tags_Other_Tags</th>                               <td>   -2.6413</td> <td>    0.228</td> <td>  -11.605</td> <td> 0.000</td> <td>   -3.087</td> <td>   -2.195</td>\n",
       "</tr>\n",
       "<tr>\n",
       "  <th>Tags_Ringing</th>                                  <td>   -3.6868</td> <td>    0.255</td> <td>  -14.470</td> <td> 0.000</td> <td>   -4.186</td> <td>   -3.187</td>\n",
       "</tr>\n",
       "<tr>\n",
       "  <th>Tags_Will revert after reading the email</th>      <td>    4.4231</td> <td>    0.190</td> <td>   23.339</td> <td> 0.000</td> <td>    4.052</td> <td>    4.794</td>\n",
       "</tr>\n",
       "<tr>\n",
       "  <th>Last_Notable_Activity_Modified</th>                <td>   -1.4460</td> <td>    0.155</td> <td>   -9.352</td> <td> 0.000</td> <td>   -1.749</td> <td>   -1.143</td>\n",
       "</tr>\n",
       "<tr>\n",
       "  <th>Last_Notable_Activity_Olark Chat Conversation</th> <td>   -1.7724</td> <td>    0.420</td> <td>   -4.216</td> <td> 0.000</td> <td>   -2.597</td> <td>   -0.948</td>\n",
       "</tr>\n",
       "<tr>\n",
       "  <th>Last_Notable_Activity_SMS Sent</th>                <td>    0.7924</td> <td>    0.263</td> <td>    3.009</td> <td> 0.003</td> <td>    0.276</td> <td>    1.309</td>\n",
       "</tr>\n",
       "</table>"
      ],
      "text/plain": [
       "<class 'statsmodels.iolib.summary.Summary'>\n",
       "\"\"\"\n",
       "                 Generalized Linear Model Regression Results                  \n",
       "==============================================================================\n",
       "Dep. Variable:              Converted   No. Observations:                 6246\n",
       "Model:                            GLM   Df Residuals:                     6230\n",
       "Model Family:                Binomial   Df Model:                           15\n",
       "Link Function:                  logit   Scale:                          1.0000\n",
       "Method:                          IRLS   Log-Likelihood:                -1240.1\n",
       "Date:                Mon, 02 Mar 2020   Deviance:                       2480.3\n",
       "Time:                        21:00:57   Pearson chi2:                 8.90e+03\n",
       "No. Iterations:                     8                                         \n",
       "Covariance Type:            nonrobust                                         \n",
       "=================================================================================================================\n",
       "                                                    coef    std err          z      P>|z|      [0.025      0.975]\n",
       "-----------------------------------------------------------------------------------------------------------------\n",
       "const                                            -1.5859      0.096    -16.496      0.000      -1.774      -1.398\n",
       "Total_Time_Spent_on_Website                       1.0830      0.061     17.798      0.000       0.964       1.202\n",
       "Lead_Origin_Lead Add Form                         1.7763      0.425      4.177      0.000       0.943       2.610\n",
       "Lead_Source_Olark Chat                            1.2092      0.144      8.406      0.000       0.927       1.491\n",
       "Lead_Source_Welingak Website                      3.4826      0.848      4.107      0.000       1.821       5.145\n",
       "Last_Activity_Email Bounced                      -1.4939      0.541     -2.760      0.006      -2.555      -0.433\n",
       "Last_Activity_SMS Sent                            1.3820      0.231      5.994      0.000       0.930       1.834\n",
       "Tags_Closed by Horizzon                           6.4254      0.738      8.705      0.000       4.979       7.872\n",
       "Tags_Interested in other courses                 -2.0275      0.394     -5.143      0.000      -2.800      -1.255\n",
       "Tags_Lost to EINS                                 5.3589      0.533     10.063      0.000       4.315       6.403\n",
       "Tags_Other_Tags                                  -2.6413      0.228    -11.605      0.000      -3.087      -2.195\n",
       "Tags_Ringing                                     -3.6868      0.255    -14.470      0.000      -4.186      -3.187\n",
       "Tags_Will revert after reading the email          4.4231      0.190     23.339      0.000       4.052       4.794\n",
       "Last_Notable_Activity_Modified                   -1.4460      0.155     -9.352      0.000      -1.749      -1.143\n",
       "Last_Notable_Activity_Olark Chat Conversation    -1.7724      0.420     -4.216      0.000      -2.597      -0.948\n",
       "Last_Notable_Activity_SMS Sent                    0.7924      0.263      3.009      0.003       0.276       1.309\n",
       "=================================================================================================================\n",
       "\"\"\""
      ]
     },
     "execution_count": 120,
     "metadata": {},
     "output_type": "execute_result"
    }
   ],
   "source": [
    "X_train_sm = sm.add_constant(X_train[filtered_cols])\n",
    "log_mod1 = sm.GLM(y_train,X_train_sm,family=sm.families.Binomial())\n",
    "res = log_mod1.fit()\n",
    "res.summary()"
   ]
  },
  {
   "cell_type": "markdown",
   "metadata": {},
   "source": [
    "> There is no Higher P-values, infering no correlation exist   \n",
    "We can further analyse using the Variance Inflation Factor(VIF)"
   ]
  },
  {
   "cell_type": "markdown",
   "metadata": {},
   "source": [
    "### VIF"
   ]
  },
  {
   "cell_type": "code",
   "execution_count": 121,
   "metadata": {},
   "outputs": [],
   "source": [
    "from statsmodels.stats.outliers_influence import variance_inflation_factor"
   ]
  },
  {
   "cell_type": "code",
   "execution_count": 122,
   "metadata": {},
   "outputs": [
    {
     "data": {
      "text/html": [
       "<div>\n",
       "<style scoped>\n",
       "    .dataframe tbody tr th:only-of-type {\n",
       "        vertical-align: middle;\n",
       "    }\n",
       "\n",
       "    .dataframe tbody tr th {\n",
       "        vertical-align: top;\n",
       "    }\n",
       "\n",
       "    .dataframe thead th {\n",
       "        text-align: right;\n",
       "    }\n",
       "</style>\n",
       "<table border=\"1\" class=\"dataframe\">\n",
       "  <thead>\n",
       "    <tr style=\"text-align: right;\">\n",
       "      <th></th>\n",
       "      <th>Features</th>\n",
       "      <th>VIF</th>\n",
       "    </tr>\n",
       "  </thead>\n",
       "  <tbody>\n",
       "    <tr>\n",
       "      <th>14</th>\n",
       "      <td>Last_Notable_Activity_SMS Sent</td>\n",
       "      <td>6.52</td>\n",
       "    </tr>\n",
       "    <tr>\n",
       "      <th>5</th>\n",
       "      <td>Last_Activity_SMS Sent</td>\n",
       "      <td>6.36</td>\n",
       "    </tr>\n",
       "    <tr>\n",
       "      <th>12</th>\n",
       "      <td>Last_Notable_Activity_Modified</td>\n",
       "      <td>1.92</td>\n",
       "    </tr>\n",
       "    <tr>\n",
       "      <th>1</th>\n",
       "      <td>Lead_Origin_Lead Add Form</td>\n",
       "      <td>1.77</td>\n",
       "    </tr>\n",
       "    <tr>\n",
       "      <th>11</th>\n",
       "      <td>Tags_Will revert after reading the email</td>\n",
       "      <td>1.60</td>\n",
       "    </tr>\n",
       "    <tr>\n",
       "      <th>2</th>\n",
       "      <td>Lead_Source_Olark Chat</td>\n",
       "      <td>1.46</td>\n",
       "    </tr>\n",
       "    <tr>\n",
       "      <th>0</th>\n",
       "      <td>Total_Time_Spent_on_Website</td>\n",
       "      <td>1.44</td>\n",
       "    </tr>\n",
       "    <tr>\n",
       "      <th>3</th>\n",
       "      <td>Lead_Source_Welingak Website</td>\n",
       "      <td>1.31</td>\n",
       "    </tr>\n",
       "    <tr>\n",
       "      <th>6</th>\n",
       "      <td>Tags_Closed by Horizzon</td>\n",
       "      <td>1.20</td>\n",
       "    </tr>\n",
       "    <tr>\n",
       "      <th>9</th>\n",
       "      <td>Tags_Other_Tags</td>\n",
       "      <td>1.18</td>\n",
       "    </tr>\n",
       "    <tr>\n",
       "      <th>7</th>\n",
       "      <td>Tags_Interested in other courses</td>\n",
       "      <td>1.13</td>\n",
       "    </tr>\n",
       "    <tr>\n",
       "      <th>10</th>\n",
       "      <td>Tags_Ringing</td>\n",
       "      <td>1.11</td>\n",
       "    </tr>\n",
       "    <tr>\n",
       "      <th>4</th>\n",
       "      <td>Last_Activity_Email Bounced</td>\n",
       "      <td>1.10</td>\n",
       "    </tr>\n",
       "    <tr>\n",
       "      <th>8</th>\n",
       "      <td>Tags_Lost to EINS</td>\n",
       "      <td>1.06</td>\n",
       "    </tr>\n",
       "    <tr>\n",
       "      <th>13</th>\n",
       "      <td>Last_Notable_Activity_Olark Chat Conversation</td>\n",
       "      <td>1.06</td>\n",
       "    </tr>\n",
       "  </tbody>\n",
       "</table>\n",
       "</div>"
      ],
      "text/plain": [
       "                                         Features   VIF\n",
       "14                 Last_Notable_Activity_SMS Sent  6.52\n",
       "5                          Last_Activity_SMS Sent  6.36\n",
       "12                 Last_Notable_Activity_Modified  1.92\n",
       "1                       Lead_Origin_Lead Add Form  1.77\n",
       "11       Tags_Will revert after reading the email  1.60\n",
       "2                          Lead_Source_Olark Chat  1.46\n",
       "0                     Total_Time_Spent_on_Website  1.44\n",
       "3                    Lead_Source_Welingak Website  1.31\n",
       "6                         Tags_Closed by Horizzon  1.20\n",
       "9                                 Tags_Other_Tags  1.18\n",
       "7                Tags_Interested in other courses  1.13\n",
       "10                                   Tags_Ringing  1.11\n",
       "4                     Last_Activity_Email Bounced  1.10\n",
       "8                               Tags_Lost to EINS  1.06\n",
       "13  Last_Notable_Activity_Olark Chat Conversation  1.06"
      ]
     },
     "execution_count": 122,
     "metadata": {},
     "output_type": "execute_result"
    }
   ],
   "source": [
    "# Create a dataframe that will contain the names of all the feature variables and their respective VIFs\n",
    "\n",
    "vif = pd.DataFrame()\n",
    "vif[\"Features\"] = X_train[filtered_cols].columns\n",
    "vif[\"VIF\"] = [variance_inflation_factor(X_train[filtered_cols].values,i) for i in range(X_train[filtered_cols].shape[1])]\n",
    "vif['VIF'] = round(vif['VIF'], 2)\n",
    "vif = vif.sort_values(by = \"VIF\", ascending = False)\n",
    "vif"
   ]
  },
  {
   "cell_type": "markdown",
   "metadata": {},
   "source": [
    "> There is a High correction exist in **\"Last_Notable_Activity_SMS Sent\"**. and **Last_Activity_SMS Sent**.   \n",
    "We will first drop the first one and see the VIF's change"
   ]
  },
  {
   "cell_type": "code",
   "execution_count": 123,
   "metadata": {},
   "outputs": [
    {
     "data": {
      "text/plain": [
       "14"
      ]
     },
     "execution_count": 123,
     "metadata": {},
     "output_type": "execute_result"
    }
   ],
   "source": [
    "filtered_cols = filtered_cols.drop(\"Last_Notable_Activity_SMS Sent\",1)\n",
    "len(filtered_cols)"
   ]
  },
  {
   "cell_type": "markdown",
   "metadata": {},
   "source": [
    "## Modal #2"
   ]
  },
  {
   "cell_type": "code",
   "execution_count": 124,
   "metadata": {},
   "outputs": [
    {
     "data": {
      "text/html": [
       "<table class=\"simpletable\">\n",
       "<caption>Generalized Linear Model Regression Results</caption>\n",
       "<tr>\n",
       "  <th>Dep. Variable:</th>       <td>Converted</td>    <th>  No. Observations:  </th>  <td>  6246</td> \n",
       "</tr>\n",
       "<tr>\n",
       "  <th>Model:</th>                  <td>GLM</td>       <th>  Df Residuals:      </th>  <td>  6231</td> \n",
       "</tr>\n",
       "<tr>\n",
       "  <th>Model Family:</th>        <td>Binomial</td>     <th>  Df Model:          </th>  <td>    14</td> \n",
       "</tr>\n",
       "<tr>\n",
       "  <th>Link Function:</th>         <td>logit</td>      <th>  Scale:             </th> <td>  1.0000</td>\n",
       "</tr>\n",
       "<tr>\n",
       "  <th>Method:</th>                <td>IRLS</td>       <th>  Log-Likelihood:    </th> <td> -1244.7</td>\n",
       "</tr>\n",
       "<tr>\n",
       "  <th>Date:</th>            <td>Mon, 02 Mar 2020</td> <th>  Deviance:          </th> <td>  2489.4</td>\n",
       "</tr>\n",
       "<tr>\n",
       "  <th>Time:</th>                <td>21:00:57</td>     <th>  Pearson chi2:      </th> <td>8.84e+03</td>\n",
       "</tr>\n",
       "<tr>\n",
       "  <th>No. Iterations:</th>          <td>8</td>        <th>                     </th>     <td> </td>   \n",
       "</tr>\n",
       "<tr>\n",
       "  <th>Covariance Type:</th>     <td>nonrobust</td>    <th>                     </th>     <td> </td>   \n",
       "</tr>\n",
       "</table>\n",
       "<table class=\"simpletable\">\n",
       "<tr>\n",
       "                        <td></td>                           <th>coef</th>     <th>std err</th>      <th>z</th>      <th>P>|z|</th>  <th>[0.025</th>    <th>0.975]</th>  \n",
       "</tr>\n",
       "<tr>\n",
       "  <th>const</th>                                         <td>   -1.5349</td> <td>    0.094</td> <td>  -16.374</td> <td> 0.000</td> <td>   -1.719</td> <td>   -1.351</td>\n",
       "</tr>\n",
       "<tr>\n",
       "  <th>Total_Time_Spent_on_Website</th>                   <td>    1.0773</td> <td>    0.061</td> <td>   17.788</td> <td> 0.000</td> <td>    0.959</td> <td>    1.196</td>\n",
       "</tr>\n",
       "<tr>\n",
       "  <th>Lead_Origin_Lead Add Form</th>                     <td>    1.7481</td> <td>    0.430</td> <td>    4.064</td> <td> 0.000</td> <td>    0.905</td> <td>    2.591</td>\n",
       "</tr>\n",
       "<tr>\n",
       "  <th>Lead_Source_Olark Chat</th>                        <td>    1.2349</td> <td>    0.143</td> <td>    8.653</td> <td> 0.000</td> <td>    0.955</td> <td>    1.515</td>\n",
       "</tr>\n",
       "<tr>\n",
       "  <th>Lead_Source_Welingak Website</th>                  <td>    3.4706</td> <td>    0.853</td> <td>    4.068</td> <td> 0.000</td> <td>    1.799</td> <td>    5.143</td>\n",
       "</tr>\n",
       "<tr>\n",
       "  <th>Last_Activity_Email Bounced</th>                   <td>   -1.3974</td> <td>    0.545</td> <td>   -2.566</td> <td> 0.010</td> <td>   -2.465</td> <td>   -0.330</td>\n",
       "</tr>\n",
       "<tr>\n",
       "  <th>Last_Activity_SMS Sent</th>                        <td>    1.9819</td> <td>    0.116</td> <td>   17.108</td> <td> 0.000</td> <td>    1.755</td> <td>    2.209</td>\n",
       "</tr>\n",
       "<tr>\n",
       "  <th>Tags_Closed by Horizzon</th>                       <td>    6.5893</td> <td>    0.739</td> <td>    8.917</td> <td> 0.000</td> <td>    5.141</td> <td>    8.038</td>\n",
       "</tr>\n",
       "<tr>\n",
       "  <th>Tags_Interested in other courses</th>              <td>   -1.9646</td> <td>    0.392</td> <td>   -5.005</td> <td> 0.000</td> <td>   -2.734</td> <td>   -1.195</td>\n",
       "</tr>\n",
       "<tr>\n",
       "  <th>Tags_Lost to EINS</th>                             <td>    5.4909</td> <td>    0.535</td> <td>   10.265</td> <td> 0.000</td> <td>    4.443</td> <td>    6.539</td>\n",
       "</tr>\n",
       "<tr>\n",
       "  <th>Tags_Other_Tags</th>                               <td>   -2.5965</td> <td>    0.225</td> <td>  -11.519</td> <td> 0.000</td> <td>   -3.038</td> <td>   -2.155</td>\n",
       "</tr>\n",
       "<tr>\n",
       "  <th>Tags_Ringing</th>                                  <td>   -3.5930</td> <td>    0.250</td> <td>  -14.349</td> <td> 0.000</td> <td>   -4.084</td> <td>   -3.102</td>\n",
       "</tr>\n",
       "<tr>\n",
       "  <th>Tags_Will revert after reading the email</th>      <td>    4.4970</td> <td>    0.191</td> <td>   23.484</td> <td> 0.000</td> <td>    4.122</td> <td>    4.872</td>\n",
       "</tr>\n",
       "<tr>\n",
       "  <th>Last_Notable_Activity_Modified</th>                <td>   -1.7329</td> <td>    0.128</td> <td>  -13.577</td> <td> 0.000</td> <td>   -1.983</td> <td>   -1.483</td>\n",
       "</tr>\n",
       "<tr>\n",
       "  <th>Last_Notable_Activity_Olark Chat Conversation</th> <td>   -1.8521</td> <td>    0.421</td> <td>   -4.397</td> <td> 0.000</td> <td>   -2.678</td> <td>   -1.027</td>\n",
       "</tr>\n",
       "</table>"
      ],
      "text/plain": [
       "<class 'statsmodels.iolib.summary.Summary'>\n",
       "\"\"\"\n",
       "                 Generalized Linear Model Regression Results                  \n",
       "==============================================================================\n",
       "Dep. Variable:              Converted   No. Observations:                 6246\n",
       "Model:                            GLM   Df Residuals:                     6231\n",
       "Model Family:                Binomial   Df Model:                           14\n",
       "Link Function:                  logit   Scale:                          1.0000\n",
       "Method:                          IRLS   Log-Likelihood:                -1244.7\n",
       "Date:                Mon, 02 Mar 2020   Deviance:                       2489.4\n",
       "Time:                        21:00:57   Pearson chi2:                 8.84e+03\n",
       "No. Iterations:                     8                                         \n",
       "Covariance Type:            nonrobust                                         \n",
       "=================================================================================================================\n",
       "                                                    coef    std err          z      P>|z|      [0.025      0.975]\n",
       "-----------------------------------------------------------------------------------------------------------------\n",
       "const                                            -1.5349      0.094    -16.374      0.000      -1.719      -1.351\n",
       "Total_Time_Spent_on_Website                       1.0773      0.061     17.788      0.000       0.959       1.196\n",
       "Lead_Origin_Lead Add Form                         1.7481      0.430      4.064      0.000       0.905       2.591\n",
       "Lead_Source_Olark Chat                            1.2349      0.143      8.653      0.000       0.955       1.515\n",
       "Lead_Source_Welingak Website                      3.4706      0.853      4.068      0.000       1.799       5.143\n",
       "Last_Activity_Email Bounced                      -1.3974      0.545     -2.566      0.010      -2.465      -0.330\n",
       "Last_Activity_SMS Sent                            1.9819      0.116     17.108      0.000       1.755       2.209\n",
       "Tags_Closed by Horizzon                           6.5893      0.739      8.917      0.000       5.141       8.038\n",
       "Tags_Interested in other courses                 -1.9646      0.392     -5.005      0.000      -2.734      -1.195\n",
       "Tags_Lost to EINS                                 5.4909      0.535     10.265      0.000       4.443       6.539\n",
       "Tags_Other_Tags                                  -2.5965      0.225    -11.519      0.000      -3.038      -2.155\n",
       "Tags_Ringing                                     -3.5930      0.250    -14.349      0.000      -4.084      -3.102\n",
       "Tags_Will revert after reading the email          4.4970      0.191     23.484      0.000       4.122       4.872\n",
       "Last_Notable_Activity_Modified                   -1.7329      0.128    -13.577      0.000      -1.983      -1.483\n",
       "Last_Notable_Activity_Olark Chat Conversation    -1.8521      0.421     -4.397      0.000      -2.678      -1.027\n",
       "=================================================================================================================\n",
       "\"\"\""
      ]
     },
     "execution_count": 124,
     "metadata": {},
     "output_type": "execute_result"
    }
   ],
   "source": [
    "X_train_sm = sm.add_constant(X_train[filtered_cols])\n",
    "log_mod2  = sm.GLM(y_train,X_train_sm,family=sm.families.Binomial())\n",
    "res = log_mod2.fit()\n",
    "res.summary()"
   ]
  },
  {
   "cell_type": "markdown",
   "metadata": {},
   "source": [
    "> There is no Notable Correlation existing between the Variables.   \n",
    "We can check VIF also"
   ]
  },
  {
   "cell_type": "code",
   "execution_count": 125,
   "metadata": {
    "scrolled": true
   },
   "outputs": [
    {
     "data": {
      "text/html": [
       "<div>\n",
       "<style scoped>\n",
       "    .dataframe tbody tr th:only-of-type {\n",
       "        vertical-align: middle;\n",
       "    }\n",
       "\n",
       "    .dataframe tbody tr th {\n",
       "        vertical-align: top;\n",
       "    }\n",
       "\n",
       "    .dataframe thead th {\n",
       "        text-align: right;\n",
       "    }\n",
       "</style>\n",
       "<table border=\"1\" class=\"dataframe\">\n",
       "  <thead>\n",
       "    <tr style=\"text-align: right;\">\n",
       "      <th></th>\n",
       "      <th>Features</th>\n",
       "      <th>VIF</th>\n",
       "    </tr>\n",
       "  </thead>\n",
       "  <tbody>\n",
       "    <tr>\n",
       "      <th>1</th>\n",
       "      <td>Lead_Origin_Lead Add Form</td>\n",
       "      <td>1.77</td>\n",
       "    </tr>\n",
       "    <tr>\n",
       "      <th>11</th>\n",
       "      <td>Tags_Will revert after reading the email</td>\n",
       "      <td>1.55</td>\n",
       "    </tr>\n",
       "    <tr>\n",
       "      <th>12</th>\n",
       "      <td>Last_Notable_Activity_Modified</td>\n",
       "      <td>1.55</td>\n",
       "    </tr>\n",
       "    <tr>\n",
       "      <th>5</th>\n",
       "      <td>Last_Activity_SMS Sent</td>\n",
       "      <td>1.46</td>\n",
       "    </tr>\n",
       "    <tr>\n",
       "      <th>0</th>\n",
       "      <td>Total_Time_Spent_on_Website</td>\n",
       "      <td>1.44</td>\n",
       "    </tr>\n",
       "    <tr>\n",
       "      <th>2</th>\n",
       "      <td>Lead_Source_Olark Chat</td>\n",
       "      <td>1.43</td>\n",
       "    </tr>\n",
       "    <tr>\n",
       "      <th>3</th>\n",
       "      <td>Lead_Source_Welingak Website</td>\n",
       "      <td>1.31</td>\n",
       "    </tr>\n",
       "    <tr>\n",
       "      <th>6</th>\n",
       "      <td>Tags_Closed by Horizzon</td>\n",
       "      <td>1.20</td>\n",
       "    </tr>\n",
       "    <tr>\n",
       "      <th>9</th>\n",
       "      <td>Tags_Other_Tags</td>\n",
       "      <td>1.16</td>\n",
       "    </tr>\n",
       "    <tr>\n",
       "      <th>7</th>\n",
       "      <td>Tags_Interested in other courses</td>\n",
       "      <td>1.11</td>\n",
       "    </tr>\n",
       "    <tr>\n",
       "      <th>10</th>\n",
       "      <td>Tags_Ringing</td>\n",
       "      <td>1.10</td>\n",
       "    </tr>\n",
       "    <tr>\n",
       "      <th>4</th>\n",
       "      <td>Last_Activity_Email Bounced</td>\n",
       "      <td>1.09</td>\n",
       "    </tr>\n",
       "    <tr>\n",
       "      <th>8</th>\n",
       "      <td>Tags_Lost to EINS</td>\n",
       "      <td>1.06</td>\n",
       "    </tr>\n",
       "    <tr>\n",
       "      <th>13</th>\n",
       "      <td>Last_Notable_Activity_Olark Chat Conversation</td>\n",
       "      <td>1.06</td>\n",
       "    </tr>\n",
       "  </tbody>\n",
       "</table>\n",
       "</div>"
      ],
      "text/plain": [
       "                                         Features   VIF\n",
       "1                       Lead_Origin_Lead Add Form  1.77\n",
       "11       Tags_Will revert after reading the email  1.55\n",
       "12                 Last_Notable_Activity_Modified  1.55\n",
       "5                          Last_Activity_SMS Sent  1.46\n",
       "0                     Total_Time_Spent_on_Website  1.44\n",
       "2                          Lead_Source_Olark Chat  1.43\n",
       "3                    Lead_Source_Welingak Website  1.31\n",
       "6                         Tags_Closed by Horizzon  1.20\n",
       "9                                 Tags_Other_Tags  1.16\n",
       "7                Tags_Interested in other courses  1.11\n",
       "10                                   Tags_Ringing  1.10\n",
       "4                     Last_Activity_Email Bounced  1.09\n",
       "8                               Tags_Lost to EINS  1.06\n",
       "13  Last_Notable_Activity_Olark Chat Conversation  1.06"
      ]
     },
     "execution_count": 125,
     "metadata": {},
     "output_type": "execute_result"
    }
   ],
   "source": [
    "# Create a dataframe that will contain the names of all the feature variables and their respective VIFs\n",
    "\n",
    "vif = pd.DataFrame()\n",
    "vif[\"Features\"] = X_train[filtered_cols].columns\n",
    "vif[\"VIF\"] = [variance_inflation_factor(X_train[filtered_cols].values,i) for i in range(X_train[filtered_cols].shape[1])]\n",
    "vif['VIF'] = round(vif['VIF'], 2)\n",
    "vif = vif.sort_values(by = \"VIF\", ascending = False)\n",
    "vif"
   ]
  },
  {
   "cell_type": "markdown",
   "metadata": {},
   "source": [
    "> Thats it..! We removed all the multi-colliearity between the variables"
   ]
  },
  {
   "cell_type": "markdown",
   "metadata": {},
   "source": [
    "## Prediction"
   ]
  },
  {
   "cell_type": "code",
   "execution_count": 126,
   "metadata": {},
   "outputs": [
    {
     "data": {
      "text/plain": [
       "6676    0.988634\n",
       "6138    0.996319\n",
       "8650    0.985684\n",
       "3423    0.048376\n",
       "6552    0.223347\n",
       "1696    0.288316\n",
       "2110    0.985899\n",
       "6830    0.411423\n",
       "2581    0.005935\n",
       "5927    0.086326\n",
       "dtype: float64"
      ]
     },
     "execution_count": 126,
     "metadata": {},
     "output_type": "execute_result"
    }
   ],
   "source": [
    "y_train_pred = res.predict(X_train_sm)\n",
    "y_train_pred[:10]"
   ]
  },
  {
   "cell_type": "code",
   "execution_count": 127,
   "metadata": {},
   "outputs": [
    {
     "data": {
      "text/plain": [
       "array([0.9886342 , 0.99631908, 0.9856836 , 0.04837596, 0.22334711,\n",
       "       0.28831561, 0.98589894, 0.41142326, 0.00593468, 0.08632629])"
      ]
     },
     "execution_count": 127,
     "metadata": {},
     "output_type": "execute_result"
    }
   ],
   "source": [
    "y_train_pred = y_train_pred.values.reshape(-1)\n",
    "y_train_pred[:10]\n"
   ]
  },
  {
   "cell_type": "code",
   "execution_count": 128,
   "metadata": {},
   "outputs": [
    {
     "data": {
      "text/html": [
       "<div>\n",
       "<style scoped>\n",
       "    .dataframe tbody tr th:only-of-type {\n",
       "        vertical-align: middle;\n",
       "    }\n",
       "\n",
       "    .dataframe tbody tr th {\n",
       "        vertical-align: top;\n",
       "    }\n",
       "\n",
       "    .dataframe thead th {\n",
       "        text-align: right;\n",
       "    }\n",
       "</style>\n",
       "<table border=\"1\" class=\"dataframe\">\n",
       "  <thead>\n",
       "    <tr style=\"text-align: right;\">\n",
       "      <th></th>\n",
       "      <th>Converted</th>\n",
       "      <th>Converted_pred</th>\n",
       "      <th>Prospect ID</th>\n",
       "    </tr>\n",
       "  </thead>\n",
       "  <tbody>\n",
       "    <tr>\n",
       "      <th>0</th>\n",
       "      <td>1</td>\n",
       "      <td>0.988634</td>\n",
       "      <td>6676</td>\n",
       "    </tr>\n",
       "    <tr>\n",
       "      <th>1</th>\n",
       "      <td>1</td>\n",
       "      <td>0.996319</td>\n",
       "      <td>6138</td>\n",
       "    </tr>\n",
       "    <tr>\n",
       "      <th>2</th>\n",
       "      <td>1</td>\n",
       "      <td>0.985684</td>\n",
       "      <td>8650</td>\n",
       "    </tr>\n",
       "    <tr>\n",
       "      <th>3</th>\n",
       "      <td>0</td>\n",
       "      <td>0.048376</td>\n",
       "      <td>3423</td>\n",
       "    </tr>\n",
       "    <tr>\n",
       "      <th>4</th>\n",
       "      <td>0</td>\n",
       "      <td>0.223347</td>\n",
       "      <td>6552</td>\n",
       "    </tr>\n",
       "  </tbody>\n",
       "</table>\n",
       "</div>"
      ],
      "text/plain": [
       "   Converted  Converted_pred  Prospect ID\n",
       "0          1        0.988634         6676\n",
       "1          1        0.996319         6138\n",
       "2          1        0.985684         8650\n",
       "3          0        0.048376         3423\n",
       "4          0        0.223347         6552"
      ]
     },
     "execution_count": 128,
     "metadata": {},
     "output_type": "execute_result"
    }
   ],
   "source": [
    "#Creating a dataframe with actual and predicted values\n",
    "y_train_pred_final = pd.DataFrame({'Converted':y_train.values, 'Converted_pred':y_train_pred})\n",
    "y_train_pred_final['Prospect ID'] = y_train.index\n",
    "y_train_pred_final.head()"
   ]
  },
  {
   "cell_type": "code",
   "execution_count": 129,
   "metadata": {},
   "outputs": [
    {
     "data": {
      "text/html": [
       "<div>\n",
       "<style scoped>\n",
       "    .dataframe tbody tr th:only-of-type {\n",
       "        vertical-align: middle;\n",
       "    }\n",
       "\n",
       "    .dataframe tbody tr th {\n",
       "        vertical-align: top;\n",
       "    }\n",
       "\n",
       "    .dataframe thead th {\n",
       "        text-align: right;\n",
       "    }\n",
       "</style>\n",
       "<table border=\"1\" class=\"dataframe\">\n",
       "  <thead>\n",
       "    <tr style=\"text-align: right;\">\n",
       "      <th></th>\n",
       "      <th>Converted</th>\n",
       "      <th>Converted_pred</th>\n",
       "      <th>Prospect ID</th>\n",
       "      <th>predicted</th>\n",
       "    </tr>\n",
       "  </thead>\n",
       "  <tbody>\n",
       "    <tr>\n",
       "      <th>0</th>\n",
       "      <td>1</td>\n",
       "      <td>0.988634</td>\n",
       "      <td>6676</td>\n",
       "      <td>1</td>\n",
       "    </tr>\n",
       "    <tr>\n",
       "      <th>1</th>\n",
       "      <td>1</td>\n",
       "      <td>0.996319</td>\n",
       "      <td>6138</td>\n",
       "      <td>1</td>\n",
       "    </tr>\n",
       "    <tr>\n",
       "      <th>2</th>\n",
       "      <td>1</td>\n",
       "      <td>0.985684</td>\n",
       "      <td>8650</td>\n",
       "      <td>1</td>\n",
       "    </tr>\n",
       "    <tr>\n",
       "      <th>3</th>\n",
       "      <td>0</td>\n",
       "      <td>0.048376</td>\n",
       "      <td>3423</td>\n",
       "      <td>0</td>\n",
       "    </tr>\n",
       "    <tr>\n",
       "      <th>4</th>\n",
       "      <td>0</td>\n",
       "      <td>0.223347</td>\n",
       "      <td>6552</td>\n",
       "      <td>0</td>\n",
       "    </tr>\n",
       "  </tbody>\n",
       "</table>\n",
       "</div>"
      ],
      "text/plain": [
       "   Converted  Converted_pred  Prospect ID  predicted\n",
       "0          1        0.988634         6676          1\n",
       "1          1        0.996319         6138          1\n",
       "2          1        0.985684         8650          1\n",
       "3          0        0.048376         3423          0\n",
       "4          0        0.223347         6552          0"
      ]
     },
     "execution_count": 129,
     "metadata": {},
     "output_type": "execute_result"
    }
   ],
   "source": [
    "#creating a new column 'predicted' if the predicted value is >0.5 else 0\n",
    "y_train_pred_final['predicted'] = y_train_pred_final.Converted_pred.map(lambda x: 1 if x > 0.5 else 0)\n",
    "\n",
    "y_train_pred_final.head()"
   ]
  },
  {
   "cell_type": "markdown",
   "metadata": {},
   "source": [
    "### Confusion Matrix"
   ]
  },
  {
   "cell_type": "code",
   "execution_count": 130,
   "metadata": {},
   "outputs": [
    {
     "name": "stdout",
     "output_type": "stream",
     "text": [
      "[[3701  170]\n",
      " [ 290 2085]]\n"
     ]
    }
   ],
   "source": [
    "from sklearn import metrics\n",
    "\n",
    "# Confusion matrix \n",
    "confusion = metrics.confusion_matrix(y_train_pred_final.Converted, y_train_pred_final.predicted )\n",
    "print(confusion)"
   ]
  },
  {
   "cell_type": "code",
   "execution_count": 131,
   "metadata": {},
   "outputs": [
    {
     "name": "stdout",
     "output_type": "stream",
     "text": [
      "0.9263528658341339\n"
     ]
    }
   ],
   "source": [
    "#Accuracy\n",
    "print(metrics.accuracy_score(y_train_pred_final.Converted, y_train_pred_final.predicted))"
   ]
  },
  {
   "cell_type": "code",
   "execution_count": 132,
   "metadata": {},
   "outputs": [],
   "source": [
    "TP = confusion[1,1] # true positive \n",
    "TN = confusion[0,0] # true negatives\n",
    "FP = confusion[0,1] # false positives\n",
    "FN = confusion[1,0] # false negatives"
   ]
  },
  {
   "cell_type": "code",
   "execution_count": 133,
   "metadata": {},
   "outputs": [
    {
     "data": {
      "text/plain": [
       "0.8778947368421053"
      ]
     },
     "execution_count": 133,
     "metadata": {},
     "output_type": "execute_result"
    }
   ],
   "source": [
    "#Sensitivity\n",
    "TP / float(TP+FN)"
   ]
  },
  {
   "cell_type": "code",
   "execution_count": 134,
   "metadata": {},
   "outputs": [
    {
     "data": {
      "text/plain": [
       "0.9560836993025058"
      ]
     },
     "execution_count": 134,
     "metadata": {},
     "output_type": "execute_result"
    }
   ],
   "source": [
    "#Specificity\n",
    "TN / float(TN+FP)"
   ]
  },
  {
   "cell_type": "markdown",
   "metadata": {},
   "source": [
    "### ROC Curve"
   ]
  },
  {
   "cell_type": "markdown",
   "metadata": {},
   "source": [
    "- It shows the tradeoff between sensitivity and specificity (any increase in sensitivity will be accompanied by a decrease in specificity).\n",
    "- The closer the curve follows the left-hand border and then the top border of the ROC space, the more accurate the test.\n",
    "- mThe closer the curve comes to the 45-degree diagonal of the ROC space, the less accurate the test."
   ]
  },
  {
   "cell_type": "code",
   "execution_count": 135,
   "metadata": {},
   "outputs": [],
   "source": [
    "def draw_roc( actual, probs ):\n",
    "    fpr, tpr, thresholds = metrics.roc_curve( actual, probs,\n",
    "                                              drop_intermediate = False )\n",
    "    auc_score = metrics.roc_auc_score( actual, probs )\n",
    "    plt.figure(figsize=(5, 5))\n",
    "    plt.plot( fpr, tpr, label='ROC curve (area = %0.2f)' % auc_score )\n",
    "    plt.plot([0, 1], [0, 1], 'k--')\n",
    "    plt.xlim([0.0, 1.0])\n",
    "    plt.ylim([0.0, 1.05])\n",
    "    plt.xlabel('False Positive Rate')\n",
    "    plt.ylabel('True Positive Rate')\n",
    "    plt.title('Receiver operating characteristic Plot')\n",
    "    plt.legend(loc=\"lower right\")\n",
    "    plt.show()\n",
    "\n",
    "    return None"
   ]
  },
  {
   "cell_type": "code",
   "execution_count": 136,
   "metadata": {},
   "outputs": [],
   "source": [
    "fpr, tpr, thresholds = metrics.roc_curve( y_train_pred_final.Converted, y_train_pred_final.Converted_pred, drop_intermediate = False )"
   ]
  },
  {
   "cell_type": "code",
   "execution_count": 137,
   "metadata": {},
   "outputs": [
    {
     "data": {
      "image/png": "[encoded data removed]",
      "text/plain": [
       "<Figure size 360x360 with 1 Axes>"
      ]
     },
     "metadata": {
      "needs_background": "light"
     },
     "output_type": "display_data"
    }
   ],
   "source": [
    "draw_roc(y_train_pred_final.Converted, y_train_pred_final.Converted_pred)"
   ]
  },
  {
   "cell_type": "markdown",
   "metadata": {},
   "source": [
    "### Optimal Cutoff Probability"
   ]
  },
  {
   "cell_type": "markdown",
   "metadata": {},
   "source": [
    "Logistic regression model is a probability, in order to use it as a classifier, we'll have to choose a cutoff value,\n",
    "or you can say its a threshold value. Where scores above this value will classified as positive, those below as negative."
   ]
  },
  {
   "cell_type": "code",
   "execution_count": 138,
   "metadata": {},
   "outputs": [
    {
     "data": {
      "text/html": [
       "<div>\n",
       "<style scoped>\n",
       "    .dataframe tbody tr th:only-of-type {\n",
       "        vertical-align: middle;\n",
       "    }\n",
       "\n",
       "    .dataframe tbody tr th {\n",
       "        vertical-align: top;\n",
       "    }\n",
       "\n",
       "    .dataframe thead th {\n",
       "        text-align: right;\n",
       "    }\n",
       "</style>\n",
       "<table border=\"1\" class=\"dataframe\">\n",
       "  <thead>\n",
       "    <tr style=\"text-align: right;\">\n",
       "      <th></th>\n",
       "      <th>Converted</th>\n",
       "      <th>Converted_pred</th>\n",
       "      <th>Prospect ID</th>\n",
       "      <th>predicted</th>\n",
       "      <th>0.0</th>\n",
       "      <th>0.1</th>\n",
       "      <th>0.2</th>\n",
       "      <th>0.3</th>\n",
       "      <th>0.4</th>\n",
       "      <th>0.5</th>\n",
       "      <th>0.6</th>\n",
       "      <th>0.7</th>\n",
       "      <th>0.8</th>\n",
       "      <th>0.9</th>\n",
       "    </tr>\n",
       "  </thead>\n",
       "  <tbody>\n",
       "    <tr>\n",
       "      <th>0</th>\n",
       "      <td>1</td>\n",
       "      <td>0.988634</td>\n",
       "      <td>6676</td>\n",
       "      <td>1</td>\n",
       "      <td>1</td>\n",
       "      <td>1</td>\n",
       "      <td>1</td>\n",
       "      <td>1</td>\n",
       "      <td>1</td>\n",
       "      <td>1</td>\n",
       "      <td>1</td>\n",
       "      <td>1</td>\n",
       "      <td>1</td>\n",
       "      <td>1</td>\n",
       "    </tr>\n",
       "    <tr>\n",
       "      <th>1</th>\n",
       "      <td>1</td>\n",
       "      <td>0.996319</td>\n",
       "      <td>6138</td>\n",
       "      <td>1</td>\n",
       "      <td>1</td>\n",
       "      <td>1</td>\n",
       "      <td>1</td>\n",
       "      <td>1</td>\n",
       "      <td>1</td>\n",
       "      <td>1</td>\n",
       "      <td>1</td>\n",
       "      <td>1</td>\n",
       "      <td>1</td>\n",
       "      <td>1</td>\n",
       "    </tr>\n",
       "    <tr>\n",
       "      <th>2</th>\n",
       "      <td>1</td>\n",
       "      <td>0.985684</td>\n",
       "      <td>8650</td>\n",
       "      <td>1</td>\n",
       "      <td>1</td>\n",
       "      <td>1</td>\n",
       "      <td>1</td>\n",
       "      <td>1</td>\n",
       "      <td>1</td>\n",
       "      <td>1</td>\n",
       "      <td>1</td>\n",
       "      <td>1</td>\n",
       "      <td>1</td>\n",
       "      <td>1</td>\n",
       "    </tr>\n",
       "    <tr>\n",
       "      <th>3</th>\n",
       "      <td>0</td>\n",
       "      <td>0.048376</td>\n",
       "      <td>3423</td>\n",
       "      <td>0</td>\n",
       "      <td>1</td>\n",
       "      <td>0</td>\n",
       "      <td>0</td>\n",
       "      <td>0</td>\n",
       "      <td>0</td>\n",
       "      <td>0</td>\n",
       "      <td>0</td>\n",
       "      <td>0</td>\n",
       "      <td>0</td>\n",
       "      <td>0</td>\n",
       "    </tr>\n",
       "    <tr>\n",
       "      <th>4</th>\n",
       "      <td>0</td>\n",
       "      <td>0.223347</td>\n",
       "      <td>6552</td>\n",
       "      <td>0</td>\n",
       "      <td>1</td>\n",
       "      <td>1</td>\n",
       "      <td>1</td>\n",
       "      <td>0</td>\n",
       "      <td>0</td>\n",
       "      <td>0</td>\n",
       "      <td>0</td>\n",
       "      <td>0</td>\n",
       "      <td>0</td>\n",
       "      <td>0</td>\n",
       "    </tr>\n",
       "  </tbody>\n",
       "</table>\n",
       "</div>"
      ],
      "text/plain": [
       "   Converted  Converted_pred  Prospect ID  predicted  0.0  0.1  0.2  0.3  0.4  \\\n",
       "0          1        0.988634         6676          1    1    1    1    1    1   \n",
       "1          1        0.996319         6138          1    1    1    1    1    1   \n",
       "2          1        0.985684         8650          1    1    1    1    1    1   \n",
       "3          0        0.048376         3423          0    1    0    0    0    0   \n",
       "4          0        0.223347         6552          0    1    1    1    0    0   \n",
       "\n",
       "   0.5  0.6  0.7  0.8  0.9  \n",
       "0    1    1    1    1    1  \n",
       "1    1    1    1    1    1  \n",
       "2    1    1    1    1    1  \n",
       "3    0    0    0    0    0  \n",
       "4    0    0    0    0    0  "
      ]
     },
     "execution_count": 138,
     "metadata": {},
     "output_type": "execute_result"
    }
   ],
   "source": [
    "# Let's create columns with different probability cutoffs between 0 to 1\n",
    "numbers = [float(x)/10 for x in range(10)]\n",
    "for i in numbers:\n",
    "    y_train_pred_final[i]= y_train_pred_final.Converted_pred.map(lambda x: 1 if x > i else 0)\n",
    "y_train_pred_final.head()"
   ]
  },
  {
   "cell_type": "code",
   "execution_count": 139,
   "metadata": {},
   "outputs": [
    {
     "name": "stdout",
     "output_type": "stream",
     "text": [
      "     Probability  Accuracy  Sensitivity  Specificity\n",
      "0.0          0.0  0.380243     1.000000     0.000000\n",
      "0.1          0.1  0.832533     0.971368     0.747352\n",
      "0.2          0.2  0.896574     0.952000     0.862568\n",
      "0.3          0.3  0.922030     0.914105     0.926892\n",
      "0.4          0.4  0.923791     0.899368     0.938776\n",
      "0.5          0.5  0.926353     0.877895     0.956084\n",
      "0.6          0.6  0.927153     0.856842     0.970292\n",
      "0.7          0.7  0.912424     0.802947     0.979592\n",
      "0.8          0.8  0.901857     0.768000     0.983983\n",
      "0.9          0.9  0.883926     0.711158     0.989925\n"
     ]
    }
   ],
   "source": [
    "#We need to now find the accuracy, sensitivity and specificity of various probability cutoffs\n",
    "\n",
    "cutoff_df = pd.DataFrame( columns = ['Probability','Accuracy','Sensitivity','Specificity'])\n",
    "from sklearn.metrics import confusion_matrix\n",
    "\n",
    "num = [0.0,0.1,0.2,0.3,0.4,0.5,0.6,0.7,0.8,0.9] #various cutoff probabilities\n",
    "\n",
    "# TP = confusion[1,1] \n",
    "# TN = confusion[0,0] \n",
    "# FP = confusion[0,1] \n",
    "# FN = confusion[1,0] \n",
    "\n",
    "for i in num:\n",
    "    cm1 = metrics.confusion_matrix(y_train_pred_final.Converted, y_train_pred_final[i] )\n",
    "    total1=sum(sum(cm1))\n",
    "    accuracy = (cm1[0,0]+cm1[1,1])/total1\n",
    "    \n",
    "    specificity = cm1[0,0]/(cm1[0,0]+cm1[0,1])\n",
    "    sensitivity = cm1[1,1]/(cm1[1,0]+cm1[1,1])\n",
    "    cutoff_df.loc[i] =[ i ,accuracy,sensitivity,specificity]\n",
    "print(cutoff_df)"
   ]
  },
  {
   "cell_type": "code",
   "execution_count": 140,
   "metadata": {
    "scrolled": true
   },
   "outputs": [
    {
     "data": {
      "image/png": "[encoded data removed]",
      "text/plain": [
       "<Figure size 432x288 with 1 Axes>"
      ]
     },
     "metadata": {
      "needs_background": "light"
     },
     "output_type": "display_data"
    }
   ],
   "source": [
    "#Now let's go ahead and plot these values\n",
    "cutoff_df.plot.line(x='Probability', y=['Accuracy','Sensitivity','Specificity'])\n",
    "plt.show()"
   ]
  },
  {
   "cell_type": "markdown",
   "metadata": {},
   "source": [
    "From above plot we can say the 0.3 is an optimum point to be taken as cutoff"
   ]
  },
  {
   "cell_type": "code",
   "execution_count": 141,
   "metadata": {},
   "outputs": [
    {
     "data": {
      "text/html": [
       "<div>\n",
       "<style scoped>\n",
       "    .dataframe tbody tr th:only-of-type {\n",
       "        vertical-align: middle;\n",
       "    }\n",
       "\n",
       "    .dataframe tbody tr th {\n",
       "        vertical-align: top;\n",
       "    }\n",
       "\n",
       "    .dataframe thead th {\n",
       "        text-align: right;\n",
       "    }\n",
       "</style>\n",
       "<table border=\"1\" class=\"dataframe\">\n",
       "  <thead>\n",
       "    <tr style=\"text-align: right;\">\n",
       "      <th></th>\n",
       "      <th>Converted</th>\n",
       "      <th>Converted_pred</th>\n",
       "      <th>Prospect ID</th>\n",
       "      <th>predicted</th>\n",
       "      <th>0.0</th>\n",
       "      <th>0.1</th>\n",
       "      <th>0.2</th>\n",
       "      <th>0.3</th>\n",
       "      <th>0.4</th>\n",
       "      <th>0.5</th>\n",
       "      <th>0.6</th>\n",
       "      <th>0.7</th>\n",
       "      <th>0.8</th>\n",
       "      <th>0.9</th>\n",
       "      <th>final_predicted</th>\n",
       "    </tr>\n",
       "  </thead>\n",
       "  <tbody>\n",
       "    <tr>\n",
       "      <th>0</th>\n",
       "      <td>1</td>\n",
       "      <td>0.988634</td>\n",
       "      <td>6676</td>\n",
       "      <td>1</td>\n",
       "      <td>1</td>\n",
       "      <td>1</td>\n",
       "      <td>1</td>\n",
       "      <td>1</td>\n",
       "      <td>1</td>\n",
       "      <td>1</td>\n",
       "      <td>1</td>\n",
       "      <td>1</td>\n",
       "      <td>1</td>\n",
       "      <td>1</td>\n",
       "      <td>1</td>\n",
       "    </tr>\n",
       "    <tr>\n",
       "      <th>1</th>\n",
       "      <td>1</td>\n",
       "      <td>0.996319</td>\n",
       "      <td>6138</td>\n",
       "      <td>1</td>\n",
       "      <td>1</td>\n",
       "      <td>1</td>\n",
       "      <td>1</td>\n",
       "      <td>1</td>\n",
       "      <td>1</td>\n",
       "      <td>1</td>\n",
       "      <td>1</td>\n",
       "      <td>1</td>\n",
       "      <td>1</td>\n",
       "      <td>1</td>\n",
       "      <td>1</td>\n",
       "    </tr>\n",
       "    <tr>\n",
       "      <th>2</th>\n",
       "      <td>1</td>\n",
       "      <td>0.985684</td>\n",
       "      <td>8650</td>\n",
       "      <td>1</td>\n",
       "      <td>1</td>\n",
       "      <td>1</td>\n",
       "      <td>1</td>\n",
       "      <td>1</td>\n",
       "      <td>1</td>\n",
       "      <td>1</td>\n",
       "      <td>1</td>\n",
       "      <td>1</td>\n",
       "      <td>1</td>\n",
       "      <td>1</td>\n",
       "      <td>1</td>\n",
       "    </tr>\n",
       "    <tr>\n",
       "      <th>3</th>\n",
       "      <td>0</td>\n",
       "      <td>0.048376</td>\n",
       "      <td>3423</td>\n",
       "      <td>0</td>\n",
       "      <td>1</td>\n",
       "      <td>0</td>\n",
       "      <td>0</td>\n",
       "      <td>0</td>\n",
       "      <td>0</td>\n",
       "      <td>0</td>\n",
       "      <td>0</td>\n",
       "      <td>0</td>\n",
       "      <td>0</td>\n",
       "      <td>0</td>\n",
       "      <td>0</td>\n",
       "    </tr>\n",
       "    <tr>\n",
       "      <th>4</th>\n",
       "      <td>0</td>\n",
       "      <td>0.223347</td>\n",
       "      <td>6552</td>\n",
       "      <td>0</td>\n",
       "      <td>1</td>\n",
       "      <td>1</td>\n",
       "      <td>1</td>\n",
       "      <td>0</td>\n",
       "      <td>0</td>\n",
       "      <td>0</td>\n",
       "      <td>0</td>\n",
       "      <td>0</td>\n",
       "      <td>0</td>\n",
       "      <td>0</td>\n",
       "      <td>0</td>\n",
       "    </tr>\n",
       "  </tbody>\n",
       "</table>\n",
       "</div>"
      ],
      "text/plain": [
       "   Converted  Converted_pred  Prospect ID  predicted  0.0  0.1  0.2  0.3  0.4  \\\n",
       "0          1        0.988634         6676          1    1    1    1    1    1   \n",
       "1          1        0.996319         6138          1    1    1    1    1    1   \n",
       "2          1        0.985684         8650          1    1    1    1    1    1   \n",
       "3          0        0.048376         3423          0    1    0    0    0    0   \n",
       "4          0        0.223347         6552          0    1    1    1    0    0   \n",
       "\n",
       "   0.5  0.6  0.7  0.8  0.9  final_predicted  \n",
       "0    1    1    1    1    1                1  \n",
       "1    1    1    1    1    1                1  \n",
       "2    1    1    1    1    1                1  \n",
       "3    0    0    0    0    0                0  \n",
       "4    0    0    0    0    0                0  "
      ]
     },
     "execution_count": 141,
     "metadata": {},
     "output_type": "execute_result"
    }
   ],
   "source": [
    "y_train_pred_final['final_predicted'] = y_train_pred_final.Converted_pred.map( lambda x: 1 if x > 0.3 else 0)\n",
    "\n",
    "y_train_pred_final.head()"
   ]
  },
  {
   "cell_type": "markdown",
   "metadata": {},
   "source": [
    "### Assigning Lead Score"
   ]
  },
  {
   "cell_type": "code",
   "execution_count": 142,
   "metadata": {},
   "outputs": [
    {
     "data": {
      "text/html": [
       "<div>\n",
       "<style scoped>\n",
       "    .dataframe tbody tr th:only-of-type {\n",
       "        vertical-align: middle;\n",
       "    }\n",
       "\n",
       "    .dataframe tbody tr th {\n",
       "        vertical-align: top;\n",
       "    }\n",
       "\n",
       "    .dataframe thead th {\n",
       "        text-align: right;\n",
       "    }\n",
       "</style>\n",
       "<table border=\"1\" class=\"dataframe\">\n",
       "  <thead>\n",
       "    <tr style=\"text-align: right;\">\n",
       "      <th></th>\n",
       "      <th>Converted</th>\n",
       "      <th>Converted_pred</th>\n",
       "      <th>Prospect ID</th>\n",
       "      <th>predicted</th>\n",
       "      <th>0.0</th>\n",
       "      <th>0.1</th>\n",
       "      <th>0.2</th>\n",
       "      <th>0.3</th>\n",
       "      <th>0.4</th>\n",
       "      <th>0.5</th>\n",
       "      <th>0.6</th>\n",
       "      <th>0.7</th>\n",
       "      <th>0.8</th>\n",
       "      <th>0.9</th>\n",
       "      <th>final_predicted</th>\n",
       "      <th>Lead_Score</th>\n",
       "    </tr>\n",
       "  </thead>\n",
       "  <tbody>\n",
       "    <tr>\n",
       "      <th>0</th>\n",
       "      <td>1</td>\n",
       "      <td>0.988634</td>\n",
       "      <td>6676</td>\n",
       "      <td>1</td>\n",
       "      <td>1</td>\n",
       "      <td>1</td>\n",
       "      <td>1</td>\n",
       "      <td>1</td>\n",
       "      <td>1</td>\n",
       "      <td>1</td>\n",
       "      <td>1</td>\n",
       "      <td>1</td>\n",
       "      <td>1</td>\n",
       "      <td>1</td>\n",
       "      <td>1</td>\n",
       "      <td>99</td>\n",
       "    </tr>\n",
       "    <tr>\n",
       "      <th>1</th>\n",
       "      <td>1</td>\n",
       "      <td>0.996319</td>\n",
       "      <td>6138</td>\n",
       "      <td>1</td>\n",
       "      <td>1</td>\n",
       "      <td>1</td>\n",
       "      <td>1</td>\n",
       "      <td>1</td>\n",
       "      <td>1</td>\n",
       "      <td>1</td>\n",
       "      <td>1</td>\n",
       "      <td>1</td>\n",
       "      <td>1</td>\n",
       "      <td>1</td>\n",
       "      <td>1</td>\n",
       "      <td>100</td>\n",
       "    </tr>\n",
       "    <tr>\n",
       "      <th>2</th>\n",
       "      <td>1</td>\n",
       "      <td>0.985684</td>\n",
       "      <td>8650</td>\n",
       "      <td>1</td>\n",
       "      <td>1</td>\n",
       "      <td>1</td>\n",
       "      <td>1</td>\n",
       "      <td>1</td>\n",
       "      <td>1</td>\n",
       "      <td>1</td>\n",
       "      <td>1</td>\n",
       "      <td>1</td>\n",
       "      <td>1</td>\n",
       "      <td>1</td>\n",
       "      <td>1</td>\n",
       "      <td>99</td>\n",
       "    </tr>\n",
       "    <tr>\n",
       "      <th>3</th>\n",
       "      <td>0</td>\n",
       "      <td>0.048376</td>\n",
       "      <td>3423</td>\n",
       "      <td>0</td>\n",
       "      <td>1</td>\n",
       "      <td>0</td>\n",
       "      <td>0</td>\n",
       "      <td>0</td>\n",
       "      <td>0</td>\n",
       "      <td>0</td>\n",
       "      <td>0</td>\n",
       "      <td>0</td>\n",
       "      <td>0</td>\n",
       "      <td>0</td>\n",
       "      <td>0</td>\n",
       "      <td>5</td>\n",
       "    </tr>\n",
       "    <tr>\n",
       "      <th>4</th>\n",
       "      <td>0</td>\n",
       "      <td>0.223347</td>\n",
       "      <td>6552</td>\n",
       "      <td>0</td>\n",
       "      <td>1</td>\n",
       "      <td>1</td>\n",
       "      <td>1</td>\n",
       "      <td>0</td>\n",
       "      <td>0</td>\n",
       "      <td>0</td>\n",
       "      <td>0</td>\n",
       "      <td>0</td>\n",
       "      <td>0</td>\n",
       "      <td>0</td>\n",
       "      <td>0</td>\n",
       "      <td>22</td>\n",
       "    </tr>\n",
       "  </tbody>\n",
       "</table>\n",
       "</div>"
      ],
      "text/plain": [
       "   Converted  Converted_pred  Prospect ID  predicted  0.0  0.1  0.2  0.3  0.4  \\\n",
       "0          1        0.988634         6676          1    1    1    1    1    1   \n",
       "1          1        0.996319         6138          1    1    1    1    1    1   \n",
       "2          1        0.985684         8650          1    1    1    1    1    1   \n",
       "3          0        0.048376         3423          0    1    0    0    0    0   \n",
       "4          0        0.223347         6552          0    1    1    1    0    0   \n",
       "\n",
       "   0.5  0.6  0.7  0.8  0.9  final_predicted  Lead_Score  \n",
       "0    1    1    1    1    1                1          99  \n",
       "1    1    1    1    1    1                1         100  \n",
       "2    1    1    1    1    1                1          99  \n",
       "3    0    0    0    0    0                0           5  \n",
       "4    0    0    0    0    0                0          22  "
      ]
     },
     "execution_count": 142,
     "metadata": {},
     "output_type": "execute_result"
    }
   ],
   "source": [
    "y_train_pred_final['Lead_Score'] = y_train_pred_final.Converted_pred.map( lambda x: round(x*100))\n",
    "\n",
    "y_train_pred_final.head()\n"
   ]
  },
  {
   "cell_type": "code",
   "execution_count": 143,
   "metadata": {},
   "outputs": [
    {
     "name": "stdout",
     "output_type": "stream",
     "text": [
      "Accuracy of the Training dataset is 92.2%\n"
     ]
    }
   ],
   "source": [
    "\n",
    "print(\"Accuracy of the Training dataset is {}%\".format(round(100*metrics.accuracy_score(y_train_pred_final.Converted, y_train_pred_final.final_predicted),2)))\n",
    "\n"
   ]
  },
  {
   "cell_type": "code",
   "execution_count": 144,
   "metadata": {},
   "outputs": [
    {
     "data": {
      "text/plain": [
       "array([[3588,  283],\n",
       "       [ 204, 2171]], dtype=int64)"
      ]
     },
     "execution_count": 144,
     "metadata": {},
     "output_type": "execute_result"
    }
   ],
   "source": [
    "#Let's check tha confusion matrix again after conidering the optimal cuttof\n",
    "confusion2 = metrics.confusion_matrix(y_train_pred_final.Converted, y_train_pred_final.final_predicted )\n",
    "confusion2"
   ]
  },
  {
   "cell_type": "code",
   "execution_count": 145,
   "metadata": {},
   "outputs": [],
   "source": [
    "TP = confusion2[1,1] # true positive \n",
    "TN = confusion2[0,0] # true negatives\n",
    "FP = confusion2[0,1] # false positives\n",
    "FN = confusion2[1,0] # false negatives"
   ]
  },
  {
   "cell_type": "code",
   "execution_count": 146,
   "metadata": {},
   "outputs": [
    {
     "name": "stdout",
     "output_type": "stream",
     "text": [
      "Sensitivity of Train Dataset is 91.41%\n"
     ]
    }
   ],
   "source": [
    "#Sensitivity\n",
    "print(\"Sensitivity of Train Dataset is {}%\".format(round(100*TP / float(TP+FN),2)))"
   ]
  },
  {
   "cell_type": "code",
   "execution_count": 147,
   "metadata": {},
   "outputs": [
    {
     "name": "stdout",
     "output_type": "stream",
     "text": [
      "Specificity of Train Dataset is 92.69%\n"
     ]
    }
   ],
   "source": [
    "#Specificity\n",
    "print(\"Specificity of Train Dataset is {}%\".format(round(100*TN / float(TN+FP),2)))"
   ]
  },
  {
   "cell_type": "markdown",
   "metadata": {},
   "source": []
  },
  {
   "cell_type": "markdown",
   "metadata": {},
   "source": [
    "### Precision and Recall"
   ]
  },
  {
   "cell_type": "code",
   "execution_count": 148,
   "metadata": {},
   "outputs": [
    {
     "data": {
      "text/plain": [
       "array([[3701,  170],\n",
       "       [ 290, 2085]], dtype=int64)"
      ]
     },
     "execution_count": 148,
     "metadata": {},
     "output_type": "execute_result"
    }
   ],
   "source": [
    "confusion = metrics.confusion_matrix(y_train_pred_final.Converted, y_train_pred_final.predicted )\n",
    "confusion"
   ]
  },
  {
   "cell_type": "code",
   "execution_count": 149,
   "metadata": {},
   "outputs": [
    {
     "name": "stdout",
     "output_type": "stream",
     "text": [
      "Precison of Train Dataset is 92.46%\n"
     ]
    }
   ],
   "source": [
    "#Precision\n",
    "#TP / TP + FP\n",
    "print(\"Precison of Train Dataset is {}%\".format(round(100*confusion[1,1]/(confusion[0,1]+confusion[1,1]),2)))"
   ]
  },
  {
   "cell_type": "code",
   "execution_count": 150,
   "metadata": {},
   "outputs": [
    {
     "name": "stdout",
     "output_type": "stream",
     "text": [
      "Recall of Train Dataset is 88.0%\n"
     ]
    }
   ],
   "source": [
    "#Recall\n",
    "#TP / TP + FN\n",
    "print(\"Recall of Train Dataset is {}%\".format(round(100*confusion[1,1]/(confusion[1,0]+confusion[1,1])),2))"
   ]
  },
  {
   "cell_type": "code",
   "execution_count": 151,
   "metadata": {},
   "outputs": [],
   "source": [
    "from sklearn.metrics import precision_score, recall_score"
   ]
  },
  {
   "cell_type": "code",
   "execution_count": 152,
   "metadata": {},
   "outputs": [
    {
     "name": "stdout",
     "output_type": "stream",
     "text": [
      "Precison Score of Train Dataset is 92.46%\n"
     ]
    }
   ],
   "source": [
    "print(\"Precison Score of Train Dataset is {}%\".\n",
    "      format(round(100*precision_score(y_train_pred_final.Converted , y_train_pred_final.predicted),2)))"
   ]
  },
  {
   "cell_type": "code",
   "execution_count": 153,
   "metadata": {},
   "outputs": [
    {
     "name": "stdout",
     "output_type": "stream",
     "text": [
      "Recall Score of Train Dataset is 87.79%\n"
     ]
    }
   ],
   "source": [
    "print(\"Recall Score of Train Dataset is {}%\".\n",
    "      format(round(100*recall_score(y_train_pred_final.Converted, y_train_pred_final.predicted),2)))\n"
   ]
  },
  {
   "cell_type": "markdown",
   "metadata": {},
   "source": [
    "## Train Dataset\n",
    "\n",
    "- Accuracy - 92.2 %\n",
    "- Sensitivity - 91.41 %\n",
    "- Specificity - 92.69 %\n",
    "- Precison Score - 92.46 %\n",
    "- Recall Score - 87.79 %"
   ]
  },
  {
   "cell_type": "markdown",
   "metadata": {},
   "source": [
    "### Precision Recall curve"
   ]
  },
  {
   "cell_type": "code",
   "execution_count": 154,
   "metadata": {},
   "outputs": [],
   "source": [
    "from sklearn.metrics import precision_recall_curve\n",
    "p, r, thresholds = precision_recall_curve(y_train_pred_final.Converted, y_train_pred_final.Converted_pred)"
   ]
  },
  {
   "cell_type": "code",
   "execution_count": 155,
   "metadata": {},
   "outputs": [
    {
     "data": {
      "image/png": "[encoded data removed]",
      "text/plain": [
       "<Figure size 432x288 with 1 Axes>"
      ]
     },
     "metadata": {
      "needs_background": "light"
     },
     "output_type": "display_data"
    }
   ],
   "source": [
    "plt.plot(thresholds, p[:-1], \"g-\")\n",
    "plt.plot(thresholds, r[:-1], \"r-\")\n",
    "plt.show()"
   ]
  },
  {
   "cell_type": "markdown",
   "metadata": {},
   "source": [
    "Here, the cutoff is almost equal to 0.3. So, we can keep this model."
   ]
  },
  {
   "cell_type": "markdown",
   "metadata": {},
   "source": [
    "### Predictions on test set"
   ]
  },
  {
   "cell_type": "code",
   "execution_count": 156,
   "metadata": {},
   "outputs": [
    {
     "data": {
      "text/plain": [
       "Index(['Do_Not_Email', 'TotalVisits', 'Total_Time_Spent_on_Website',\n",
       "       'Page_Views_Per_Visit', 'A_free_copy_of_Mastering_The_Interview',\n",
       "       'Lead_Origin_Landing Page Submission', 'Lead_Origin_Lead Add Form',\n",
       "       'Lead_Origin_Lead Import', 'What_is_your_current_occupation_Housewife',\n",
       "       'What_is_your_current_occupation_Other',\n",
       "       'What_is_your_current_occupation_Student',\n",
       "       'What_is_your_current_occupation_Unemployed',\n",
       "       'What_is_your_current_occupation_Working Professional',\n",
       "       'City_Other Cities', 'City_Other Cities of Maharashtra',\n",
       "       'City_Other Metro Cities', 'City_Thane & Outskirts',\n",
       "       'City_Tier II Cities',\n",
       "       'Specialization_Banking, Investment And Insurance',\n",
       "       'Specialization_Business Administration', 'Specialization_E-Business',\n",
       "       'Specialization_E-COMMERCE', 'Specialization_International Business',\n",
       "       'Specialization_Management_Specializations',\n",
       "       'Specialization_Media and Advertising',\n",
       "       'Specialization_Rural and Agribusiness',\n",
       "       'Specialization_Services Excellence',\n",
       "       'Specialization_Travel and Tourism', 'Lead_Source_Direct Traffic',\n",
       "       'Lead_Source_Google', 'Lead_Source_Live Chat', 'Lead_Source_Olark Chat',\n",
       "       'Lead_Source_Organic Search', 'Lead_Source_Reference',\n",
       "       'Lead_Source_Referral Sites', 'Lead_Source_Social Media',\n",
       "       'Lead_Source_Welingak Website', 'Last_Activity_Converted to Lead',\n",
       "       'Last_Activity_Email Bounced', 'Last_Activity_Email Link Clicked',\n",
       "       'Last_Activity_Email Opened', 'Last_Activity_Form Submitted on Website',\n",
       "       'Last_Activity_Olark Chat Conversation',\n",
       "       'Last_Activity_Page Visited on Website', 'Last_Activity_SMS Sent',\n",
       "       'Tags_Busy', 'Tags_Closed by Horizzon',\n",
       "       'Tags_Interested in other courses', 'Tags_Lost to EINS',\n",
       "       'Tags_Other_Tags', 'Tags_Ringing',\n",
       "       'Tags_Will revert after reading the email',\n",
       "       'Last_Notable_Activity_Email Link Clicked',\n",
       "       'Last_Notable_Activity_Email Opened', 'Last_Notable_Activity_Modified',\n",
       "       'Last_Notable_Activity_Olark Chat Conversation',\n",
       "       'Last_Notable_Activity_Page Visited on Website',\n",
       "       'Last_Notable_Activity_SMS Sent'],\n",
       "      dtype='object')"
      ]
     },
     "execution_count": 156,
     "metadata": {},
     "output_type": "execute_result"
    }
   ],
   "source": [
    "X_train.columns"
   ]
  },
  {
   "cell_type": "code",
   "execution_count": 157,
   "metadata": {},
   "outputs": [
    {
     "name": "stderr",
     "output_type": "stream",
     "text": [
      "C:\\Users\\SANTHOSH VENUGOPAL\\Anaconda3\\lib\\site-packages\\ipykernel_launcher.py:3: SettingWithCopyWarning: \n",
      "A value is trying to be set on a copy of a slice from a DataFrame.\n",
      "Try using .loc[row_indexer,col_indexer] = value instead\n",
      "\n",
      "See the caveats in the documentation: http://pandas.pydata.org/pandas-docs/stable/user_guide/indexing.html#returning-a-view-versus-a-copy\n",
      "  This is separate from the ipykernel package so we can avoid doing imports until\n",
      "C:\\Users\\SANTHOSH VENUGOPAL\\Anaconda3\\lib\\site-packages\\pandas\\core\\indexing.py:494: SettingWithCopyWarning: \n",
      "A value is trying to be set on a copy of a slice from a DataFrame.\n",
      "Try using .loc[row_indexer,col_indexer] = value instead\n",
      "\n",
      "See the caveats in the documentation: http://pandas.pydata.org/pandas-docs/stable/user_guide/indexing.html#returning-a-view-versus-a-copy\n",
      "  self.obj[item] = s\n"
     ]
    },
    {
     "data": {
      "text/html": [
       "<div>\n",
       "<style scoped>\n",
       "    .dataframe tbody tr th:only-of-type {\n",
       "        vertical-align: middle;\n",
       "    }\n",
       "\n",
       "    .dataframe tbody tr th {\n",
       "        vertical-align: top;\n",
       "    }\n",
       "\n",
       "    .dataframe thead th {\n",
       "        text-align: right;\n",
       "    }\n",
       "</style>\n",
       "<table border=\"1\" class=\"dataframe\">\n",
       "  <thead>\n",
       "    <tr style=\"text-align: right;\">\n",
       "      <th></th>\n",
       "      <th>Do_Not_Email</th>\n",
       "      <th>TotalVisits</th>\n",
       "      <th>Total_Time_Spent_on_Website</th>\n",
       "      <th>Page_Views_Per_Visit</th>\n",
       "      <th>A_free_copy_of_Mastering_The_Interview</th>\n",
       "      <th>Lead_Origin_Landing Page Submission</th>\n",
       "      <th>Lead_Origin_Lead Add Form</th>\n",
       "      <th>Lead_Origin_Lead Import</th>\n",
       "      <th>What_is_your_current_occupation_Housewife</th>\n",
       "      <th>What_is_your_current_occupation_Other</th>\n",
       "      <th>...</th>\n",
       "      <th>Tags_Lost to EINS</th>\n",
       "      <th>Tags_Other_Tags</th>\n",
       "      <th>Tags_Ringing</th>\n",
       "      <th>Tags_Will revert after reading the email</th>\n",
       "      <th>Last_Notable_Activity_Email Link Clicked</th>\n",
       "      <th>Last_Notable_Activity_Email Opened</th>\n",
       "      <th>Last_Notable_Activity_Modified</th>\n",
       "      <th>Last_Notable_Activity_Olark Chat Conversation</th>\n",
       "      <th>Last_Notable_Activity_Page Visited on Website</th>\n",
       "      <th>Last_Notable_Activity_SMS Sent</th>\n",
       "    </tr>\n",
       "  </thead>\n",
       "  <tbody>\n",
       "    <tr>\n",
       "      <th>6676</th>\n",
       "      <td>-0.285584</td>\n",
       "      <td>-0.049636</td>\n",
       "      <td>1.395668</td>\n",
       "      <td>0.395289</td>\n",
       "      <td>-0.669212</td>\n",
       "      <td>1</td>\n",
       "      <td>0</td>\n",
       "      <td>0</td>\n",
       "      <td>0</td>\n",
       "      <td>0</td>\n",
       "      <td>...</td>\n",
       "      <td>0</td>\n",
       "      <td>0</td>\n",
       "      <td>0</td>\n",
       "      <td>1</td>\n",
       "      <td>0</td>\n",
       "      <td>1</td>\n",
       "      <td>0</td>\n",
       "      <td>0</td>\n",
       "      <td>0</td>\n",
       "      <td>0</td>\n",
       "    </tr>\n",
       "    <tr>\n",
       "      <th>6138</th>\n",
       "      <td>-0.285584</td>\n",
       "      <td>0.297929</td>\n",
       "      <td>0.609686</td>\n",
       "      <td>0.926758</td>\n",
       "      <td>-0.669212</td>\n",
       "      <td>1</td>\n",
       "      <td>0</td>\n",
       "      <td>0</td>\n",
       "      <td>0</td>\n",
       "      <td>0</td>\n",
       "      <td>...</td>\n",
       "      <td>0</td>\n",
       "      <td>0</td>\n",
       "      <td>0</td>\n",
       "      <td>1</td>\n",
       "      <td>0</td>\n",
       "      <td>0</td>\n",
       "      <td>0</td>\n",
       "      <td>0</td>\n",
       "      <td>0</td>\n",
       "      <td>1</td>\n",
       "    </tr>\n",
       "    <tr>\n",
       "      <th>8650</th>\n",
       "      <td>-0.285584</td>\n",
       "      <td>-0.049636</td>\n",
       "      <td>1.178657</td>\n",
       "      <td>0.395289</td>\n",
       "      <td>1.494296</td>\n",
       "      <td>1</td>\n",
       "      <td>0</td>\n",
       "      <td>0</td>\n",
       "      <td>0</td>\n",
       "      <td>0</td>\n",
       "      <td>...</td>\n",
       "      <td>0</td>\n",
       "      <td>0</td>\n",
       "      <td>0</td>\n",
       "      <td>1</td>\n",
       "      <td>0</td>\n",
       "      <td>1</td>\n",
       "      <td>0</td>\n",
       "      <td>0</td>\n",
       "      <td>0</td>\n",
       "      <td>0</td>\n",
       "    </tr>\n",
       "    <tr>\n",
       "      <th>3423</th>\n",
       "      <td>-0.285584</td>\n",
       "      <td>-1.092332</td>\n",
       "      <td>-0.878390</td>\n",
       "      <td>-1.199117</td>\n",
       "      <td>-0.669212</td>\n",
       "      <td>0</td>\n",
       "      <td>0</td>\n",
       "      <td>0</td>\n",
       "      <td>0</td>\n",
       "      <td>0</td>\n",
       "      <td>...</td>\n",
       "      <td>0</td>\n",
       "      <td>0</td>\n",
       "      <td>0</td>\n",
       "      <td>0</td>\n",
       "      <td>0</td>\n",
       "      <td>0</td>\n",
       "      <td>1</td>\n",
       "      <td>0</td>\n",
       "      <td>0</td>\n",
       "      <td>0</td>\n",
       "    </tr>\n",
       "    <tr>\n",
       "      <th>6552</th>\n",
       "      <td>-0.285584</td>\n",
       "      <td>-1.092332</td>\n",
       "      <td>-0.878390</td>\n",
       "      <td>-1.199117</td>\n",
       "      <td>-0.669212</td>\n",
       "      <td>0</td>\n",
       "      <td>0</td>\n",
       "      <td>0</td>\n",
       "      <td>0</td>\n",
       "      <td>0</td>\n",
       "      <td>...</td>\n",
       "      <td>0</td>\n",
       "      <td>0</td>\n",
       "      <td>0</td>\n",
       "      <td>0</td>\n",
       "      <td>0</td>\n",
       "      <td>1</td>\n",
       "      <td>0</td>\n",
       "      <td>0</td>\n",
       "      <td>0</td>\n",
       "      <td>0</td>\n",
       "    </tr>\n",
       "  </tbody>\n",
       "</table>\n",
       "<p>5 rows × 58 columns</p>\n",
       "</div>"
      ],
      "text/plain": [
       "      Do_Not_Email  TotalVisits  Total_Time_Spent_on_Website  \\\n",
       "6676     -0.285584    -0.049636                     1.395668   \n",
       "6138     -0.285584     0.297929                     0.609686   \n",
       "8650     -0.285584    -0.049636                     1.178657   \n",
       "3423     -0.285584    -1.092332                    -0.878390   \n",
       "6552     -0.285584    -1.092332                    -0.878390   \n",
       "\n",
       "      Page_Views_Per_Visit  A_free_copy_of_Mastering_The_Interview  \\\n",
       "6676              0.395289                               -0.669212   \n",
       "6138              0.926758                               -0.669212   \n",
       "8650              0.395289                                1.494296   \n",
       "3423             -1.199117                               -0.669212   \n",
       "6552             -1.199117                               -0.669212   \n",
       "\n",
       "      Lead_Origin_Landing Page Submission  Lead_Origin_Lead Add Form  \\\n",
       "6676                                    1                          0   \n",
       "6138                                    1                          0   \n",
       "8650                                    1                          0   \n",
       "3423                                    0                          0   \n",
       "6552                                    0                          0   \n",
       "\n",
       "      Lead_Origin_Lead Import  What_is_your_current_occupation_Housewife  \\\n",
       "6676                        0                                          0   \n",
       "6138                        0                                          0   \n",
       "8650                        0                                          0   \n",
       "3423                        0                                          0   \n",
       "6552                        0                                          0   \n",
       "\n",
       "      What_is_your_current_occupation_Other  ...  Tags_Lost to EINS  \\\n",
       "6676                                      0  ...                  0   \n",
       "6138                                      0  ...                  0   \n",
       "8650                                      0  ...                  0   \n",
       "3423                                      0  ...                  0   \n",
       "6552                                      0  ...                  0   \n",
       "\n",
       "      Tags_Other_Tags  Tags_Ringing  Tags_Will revert after reading the email  \\\n",
       "6676                0             0                                         1   \n",
       "6138                0             0                                         1   \n",
       "8650                0             0                                         1   \n",
       "3423                0             0                                         0   \n",
       "6552                0             0                                         0   \n",
       "\n",
       "      Last_Notable_Activity_Email Link Clicked  \\\n",
       "6676                                         0   \n",
       "6138                                         0   \n",
       "8650                                         0   \n",
       "3423                                         0   \n",
       "6552                                         0   \n",
       "\n",
       "      Last_Notable_Activity_Email Opened  Last_Notable_Activity_Modified  \\\n",
       "6676                                   1                               0   \n",
       "6138                                   0                               0   \n",
       "8650                                   1                               0   \n",
       "3423                                   0                               1   \n",
       "6552                                   1                               0   \n",
       "\n",
       "      Last_Notable_Activity_Olark Chat Conversation  \\\n",
       "6676                                              0   \n",
       "6138                                              0   \n",
       "8650                                              0   \n",
       "3423                                              0   \n",
       "6552                                              0   \n",
       "\n",
       "      Last_Notable_Activity_Page Visited on Website  \\\n",
       "6676                                              0   \n",
       "6138                                              0   \n",
       "8650                                              0   \n",
       "3423                                              0   \n",
       "6552                                              0   \n",
       "\n",
       "      Last_Notable_Activity_SMS Sent  \n",
       "6676                               0  \n",
       "6138                               1  \n",
       "8650                               0  \n",
       "3423                               0  \n",
       "6552                               0  \n",
       "\n",
       "[5 rows x 58 columns]"
      ]
     },
     "execution_count": 157,
     "metadata": {},
     "output_type": "execute_result"
    }
   ],
   "source": [
    "from sklearn.preprocessing import StandardScaler\n",
    "scaler = StandardScaler()\n",
    "X_test[['TotalVisits','Total_Time_Spent_on_Website','Page_Views_Per_Visit']] = scaler.fit_transform(X_test[['TotalVisits','Total_Time_Spent_on_Website','Page_Views_Per_Visit']])\n",
    "\n",
    "X_train.head()"
   ]
  },
  {
   "cell_type": "code",
   "execution_count": 158,
   "metadata": {},
   "outputs": [
    {
     "data": {
      "text/html": [
       "<div>\n",
       "<style scoped>\n",
       "    .dataframe tbody tr th:only-of-type {\n",
       "        vertical-align: middle;\n",
       "    }\n",
       "\n",
       "    .dataframe tbody tr th {\n",
       "        vertical-align: top;\n",
       "    }\n",
       "\n",
       "    .dataframe thead th {\n",
       "        text-align: right;\n",
       "    }\n",
       "</style>\n",
       "<table border=\"1\" class=\"dataframe\">\n",
       "  <thead>\n",
       "    <tr style=\"text-align: right;\">\n",
       "      <th></th>\n",
       "      <th>Total_Time_Spent_on_Website</th>\n",
       "      <th>Lead_Origin_Lead Add Form</th>\n",
       "      <th>Lead_Source_Olark Chat</th>\n",
       "      <th>Lead_Source_Welingak Website</th>\n",
       "      <th>Last_Activity_Email Bounced</th>\n",
       "      <th>Last_Activity_SMS Sent</th>\n",
       "      <th>Tags_Closed by Horizzon</th>\n",
       "      <th>Tags_Interested in other courses</th>\n",
       "      <th>Tags_Lost to EINS</th>\n",
       "      <th>Tags_Other_Tags</th>\n",
       "      <th>Tags_Ringing</th>\n",
       "      <th>Tags_Will revert after reading the email</th>\n",
       "      <th>Last_Notable_Activity_Modified</th>\n",
       "      <th>Last_Notable_Activity_Olark Chat Conversation</th>\n",
       "    </tr>\n",
       "  </thead>\n",
       "  <tbody>\n",
       "    <tr>\n",
       "      <th>7625</th>\n",
       "      <td>2.145058</td>\n",
       "      <td>0</td>\n",
       "      <td>0</td>\n",
       "      <td>0</td>\n",
       "      <td>0</td>\n",
       "      <td>0</td>\n",
       "      <td>0</td>\n",
       "      <td>0</td>\n",
       "      <td>0</td>\n",
       "      <td>1</td>\n",
       "      <td>0</td>\n",
       "      <td>0</td>\n",
       "      <td>0</td>\n",
       "      <td>0</td>\n",
       "    </tr>\n",
       "    <tr>\n",
       "      <th>5207</th>\n",
       "      <td>0.772700</td>\n",
       "      <td>0</td>\n",
       "      <td>0</td>\n",
       "      <td>0</td>\n",
       "      <td>0</td>\n",
       "      <td>0</td>\n",
       "      <td>0</td>\n",
       "      <td>0</td>\n",
       "      <td>0</td>\n",
       "      <td>0</td>\n",
       "      <td>0</td>\n",
       "      <td>1</td>\n",
       "      <td>0</td>\n",
       "      <td>0</td>\n",
       "    </tr>\n",
       "    <tr>\n",
       "      <th>2390</th>\n",
       "      <td>-0.885722</td>\n",
       "      <td>1</td>\n",
       "      <td>0</td>\n",
       "      <td>0</td>\n",
       "      <td>0</td>\n",
       "      <td>1</td>\n",
       "      <td>0</td>\n",
       "      <td>0</td>\n",
       "      <td>0</td>\n",
       "      <td>0</td>\n",
       "      <td>0</td>\n",
       "      <td>1</td>\n",
       "      <td>0</td>\n",
       "      <td>0</td>\n",
       "    </tr>\n",
       "    <tr>\n",
       "      <th>4362</th>\n",
       "      <td>-0.451952</td>\n",
       "      <td>0</td>\n",
       "      <td>0</td>\n",
       "      <td>0</td>\n",
       "      <td>0</td>\n",
       "      <td>1</td>\n",
       "      <td>0</td>\n",
       "      <td>0</td>\n",
       "      <td>0</td>\n",
       "      <td>0</td>\n",
       "      <td>1</td>\n",
       "      <td>0</td>\n",
       "      <td>0</td>\n",
       "      <td>0</td>\n",
       "    </tr>\n",
       "    <tr>\n",
       "      <th>1023</th>\n",
       "      <td>-0.293028</td>\n",
       "      <td>0</td>\n",
       "      <td>0</td>\n",
       "      <td>0</td>\n",
       "      <td>0</td>\n",
       "      <td>0</td>\n",
       "      <td>0</td>\n",
       "      <td>1</td>\n",
       "      <td>0</td>\n",
       "      <td>0</td>\n",
       "      <td>0</td>\n",
       "      <td>0</td>\n",
       "      <td>0</td>\n",
       "      <td>0</td>\n",
       "    </tr>\n",
       "  </tbody>\n",
       "</table>\n",
       "</div>"
      ],
      "text/plain": [
       "      Total_Time_Spent_on_Website  Lead_Origin_Lead Add Form  \\\n",
       "7625                     2.145058                          0   \n",
       "5207                     0.772700                          0   \n",
       "2390                    -0.885722                          1   \n",
       "4362                    -0.451952                          0   \n",
       "1023                    -0.293028                          0   \n",
       "\n",
       "      Lead_Source_Olark Chat  Lead_Source_Welingak Website  \\\n",
       "7625                       0                             0   \n",
       "5207                       0                             0   \n",
       "2390                       0                             0   \n",
       "4362                       0                             0   \n",
       "1023                       0                             0   \n",
       "\n",
       "      Last_Activity_Email Bounced  Last_Activity_SMS Sent  \\\n",
       "7625                            0                       0   \n",
       "5207                            0                       0   \n",
       "2390                            0                       1   \n",
       "4362                            0                       1   \n",
       "1023                            0                       0   \n",
       "\n",
       "      Tags_Closed by Horizzon  Tags_Interested in other courses  \\\n",
       "7625                        0                                 0   \n",
       "5207                        0                                 0   \n",
       "2390                        0                                 0   \n",
       "4362                        0                                 0   \n",
       "1023                        0                                 1   \n",
       "\n",
       "      Tags_Lost to EINS  Tags_Other_Tags  Tags_Ringing  \\\n",
       "7625                  0                1             0   \n",
       "5207                  0                0             0   \n",
       "2390                  0                0             0   \n",
       "4362                  0                0             1   \n",
       "1023                  0                0             0   \n",
       "\n",
       "      Tags_Will revert after reading the email  \\\n",
       "7625                                         0   \n",
       "5207                                         1   \n",
       "2390                                         1   \n",
       "4362                                         0   \n",
       "1023                                         0   \n",
       "\n",
       "      Last_Notable_Activity_Modified  \\\n",
       "7625                               0   \n",
       "5207                               0   \n",
       "2390                               0   \n",
       "4362                               0   \n",
       "1023                               0   \n",
       "\n",
       "      Last_Notable_Activity_Olark Chat Conversation  \n",
       "7625                                              0  \n",
       "5207                                              0  \n",
       "2390                                              0  \n",
       "4362                                              0  \n",
       "1023                                              0  "
      ]
     },
     "execution_count": 158,
     "metadata": {},
     "output_type": "execute_result"
    }
   ],
   "source": [
    "X_test = X_test[filtered_cols]\n",
    "X_test.head()"
   ]
  },
  {
   "cell_type": "code",
   "execution_count": 159,
   "metadata": {},
   "outputs": [],
   "source": [
    "X_test_sm = sm.add_constant(X_test)"
   ]
  },
  {
   "cell_type": "code",
   "execution_count": 160,
   "metadata": {},
   "outputs": [],
   "source": [
    "#Predictions\n",
    "y_test_pred = res.predict(X_test_sm)"
   ]
  },
  {
   "cell_type": "code",
   "execution_count": 161,
   "metadata": {},
   "outputs": [
    {
     "data": {
      "text/plain": [
       "7625    0.139377\n",
       "5207    0.978003\n",
       "2390    0.996789\n",
       "4362    0.025761\n",
       "1023    0.021559\n",
       "8226    0.990071\n",
       "3079    0.143802\n",
       "530     0.012537\n",
       "7873    0.048014\n",
       "5146    0.997941\n",
       "dtype: float64"
      ]
     },
     "execution_count": 161,
     "metadata": {},
     "output_type": "execute_result"
    }
   ],
   "source": [
    "y_test_pred[:10]"
   ]
  },
  {
   "cell_type": "code",
   "execution_count": 162,
   "metadata": {},
   "outputs": [],
   "source": [
    "y_pred_1 = pd.DataFrame(y_test_pred)"
   ]
  },
  {
   "cell_type": "code",
   "execution_count": 163,
   "metadata": {},
   "outputs": [
    {
     "data": {
      "text/html": [
       "<div>\n",
       "<style scoped>\n",
       "    .dataframe tbody tr th:only-of-type {\n",
       "        vertical-align: middle;\n",
       "    }\n",
       "\n",
       "    .dataframe tbody tr th {\n",
       "        vertical-align: top;\n",
       "    }\n",
       "\n",
       "    .dataframe thead th {\n",
       "        text-align: right;\n",
       "    }\n",
       "</style>\n",
       "<table border=\"1\" class=\"dataframe\">\n",
       "  <thead>\n",
       "    <tr style=\"text-align: right;\">\n",
       "      <th></th>\n",
       "      <th>0</th>\n",
       "    </tr>\n",
       "  </thead>\n",
       "  <tbody>\n",
       "    <tr>\n",
       "      <th>7625</th>\n",
       "      <td>0.139377</td>\n",
       "    </tr>\n",
       "    <tr>\n",
       "      <th>5207</th>\n",
       "      <td>0.978003</td>\n",
       "    </tr>\n",
       "    <tr>\n",
       "      <th>2390</th>\n",
       "      <td>0.996789</td>\n",
       "    </tr>\n",
       "    <tr>\n",
       "      <th>4362</th>\n",
       "      <td>0.025761</td>\n",
       "    </tr>\n",
       "    <tr>\n",
       "      <th>1023</th>\n",
       "      <td>0.021559</td>\n",
       "    </tr>\n",
       "  </tbody>\n",
       "</table>\n",
       "</div>"
      ],
      "text/plain": [
       "             0\n",
       "7625  0.139377\n",
       "5207  0.978003\n",
       "2390  0.996789\n",
       "4362  0.025761\n",
       "1023  0.021559"
      ]
     },
     "execution_count": 163,
     "metadata": {},
     "output_type": "execute_result"
    }
   ],
   "source": [
    "y_pred_1.head()"
   ]
  },
  {
   "cell_type": "code",
   "execution_count": 164,
   "metadata": {},
   "outputs": [],
   "source": [
    "y_test_df = pd.DataFrame(y_test)"
   ]
  },
  {
   "cell_type": "code",
   "execution_count": 165,
   "metadata": {},
   "outputs": [],
   "source": [
    "# Putting CustID to index\n",
    "y_test_df['Prospect ID'] = y_test_df.index"
   ]
  },
  {
   "cell_type": "code",
   "execution_count": 166,
   "metadata": {},
   "outputs": [],
   "source": [
    "# Removing index for both dataframes \n",
    "y_pred_1.reset_index(drop=True, inplace=True)\n",
    "y_test_df.reset_index(drop=True, inplace=True)"
   ]
  },
  {
   "cell_type": "code",
   "execution_count": 167,
   "metadata": {},
   "outputs": [],
   "source": [
    "# Appending y_test_df and y_pred_1\n",
    "y_pred_final = pd.concat([y_test_df, y_pred_1],axis=1)\n"
   ]
  },
  {
   "cell_type": "code",
   "execution_count": 168,
   "metadata": {},
   "outputs": [
    {
     "data": {
      "text/html": [
       "<div>\n",
       "<style scoped>\n",
       "    .dataframe tbody tr th:only-of-type {\n",
       "        vertical-align: middle;\n",
       "    }\n",
       "\n",
       "    .dataframe tbody tr th {\n",
       "        vertical-align: top;\n",
       "    }\n",
       "\n",
       "    .dataframe thead th {\n",
       "        text-align: right;\n",
       "    }\n",
       "</style>\n",
       "<table border=\"1\" class=\"dataframe\">\n",
       "  <thead>\n",
       "    <tr style=\"text-align: right;\">\n",
       "      <th></th>\n",
       "      <th>Converted</th>\n",
       "      <th>Prospect ID</th>\n",
       "      <th>0</th>\n",
       "    </tr>\n",
       "  </thead>\n",
       "  <tbody>\n",
       "    <tr>\n",
       "      <th>0</th>\n",
       "      <td>0</td>\n",
       "      <td>7625</td>\n",
       "      <td>0.139377</td>\n",
       "    </tr>\n",
       "    <tr>\n",
       "      <th>1</th>\n",
       "      <td>1</td>\n",
       "      <td>5207</td>\n",
       "      <td>0.978003</td>\n",
       "    </tr>\n",
       "    <tr>\n",
       "      <th>2</th>\n",
       "      <td>1</td>\n",
       "      <td>2390</td>\n",
       "      <td>0.996789</td>\n",
       "    </tr>\n",
       "    <tr>\n",
       "      <th>3</th>\n",
       "      <td>0</td>\n",
       "      <td>4362</td>\n",
       "      <td>0.025761</td>\n",
       "    </tr>\n",
       "    <tr>\n",
       "      <th>4</th>\n",
       "      <td>0</td>\n",
       "      <td>1023</td>\n",
       "      <td>0.021559</td>\n",
       "    </tr>\n",
       "  </tbody>\n",
       "</table>\n",
       "</div>"
      ],
      "text/plain": [
       "   Converted  Prospect ID         0\n",
       "0          0         7625  0.139377\n",
       "1          1         5207  0.978003\n",
       "2          1         2390  0.996789\n",
       "3          0         4362  0.025761\n",
       "4          0         1023  0.021559"
      ]
     },
     "execution_count": 168,
     "metadata": {},
     "output_type": "execute_result"
    }
   ],
   "source": [
    "y_pred_final.head()"
   ]
  },
  {
   "cell_type": "code",
   "execution_count": 169,
   "metadata": {},
   "outputs": [],
   "source": [
    "# Renaming the column \n",
    "y_pred_final= y_pred_final.rename(columns={ 0 : 'Converted_pred'})"
   ]
  },
  {
   "cell_type": "code",
   "execution_count": 170,
   "metadata": {},
   "outputs": [
    {
     "data": {
      "text/html": [
       "<div>\n",
       "<style scoped>\n",
       "    .dataframe tbody tr th:only-of-type {\n",
       "        vertical-align: middle;\n",
       "    }\n",
       "\n",
       "    .dataframe tbody tr th {\n",
       "        vertical-align: top;\n",
       "    }\n",
       "\n",
       "    .dataframe thead th {\n",
       "        text-align: right;\n",
       "    }\n",
       "</style>\n",
       "<table border=\"1\" class=\"dataframe\">\n",
       "  <thead>\n",
       "    <tr style=\"text-align: right;\">\n",
       "      <th></th>\n",
       "      <th>Converted</th>\n",
       "      <th>Prospect ID</th>\n",
       "      <th>Converted_pred</th>\n",
       "    </tr>\n",
       "  </thead>\n",
       "  <tbody>\n",
       "    <tr>\n",
       "      <th>0</th>\n",
       "      <td>0</td>\n",
       "      <td>7625</td>\n",
       "      <td>0.139377</td>\n",
       "    </tr>\n",
       "    <tr>\n",
       "      <th>1</th>\n",
       "      <td>1</td>\n",
       "      <td>5207</td>\n",
       "      <td>0.978003</td>\n",
       "    </tr>\n",
       "    <tr>\n",
       "      <th>2</th>\n",
       "      <td>1</td>\n",
       "      <td>2390</td>\n",
       "      <td>0.996789</td>\n",
       "    </tr>\n",
       "    <tr>\n",
       "      <th>3</th>\n",
       "      <td>0</td>\n",
       "      <td>4362</td>\n",
       "      <td>0.025761</td>\n",
       "    </tr>\n",
       "    <tr>\n",
       "      <th>4</th>\n",
       "      <td>0</td>\n",
       "      <td>1023</td>\n",
       "      <td>0.021559</td>\n",
       "    </tr>\n",
       "    <tr>\n",
       "      <th>...</th>\n",
       "      <td>...</td>\n",
       "      <td>...</td>\n",
       "      <td>...</td>\n",
       "    </tr>\n",
       "    <tr>\n",
       "      <th>2673</th>\n",
       "      <td>0</td>\n",
       "      <td>1555</td>\n",
       "      <td>0.048014</td>\n",
       "    </tr>\n",
       "    <tr>\n",
       "      <th>2674</th>\n",
       "      <td>0</td>\n",
       "      <td>566</td>\n",
       "      <td>0.119035</td>\n",
       "    </tr>\n",
       "    <tr>\n",
       "      <th>2675</th>\n",
       "      <td>0</td>\n",
       "      <td>6433</td>\n",
       "      <td>0.027242</td>\n",
       "    </tr>\n",
       "    <tr>\n",
       "      <th>2676</th>\n",
       "      <td>0</td>\n",
       "      <td>898</td>\n",
       "      <td>0.000561</td>\n",
       "    </tr>\n",
       "    <tr>\n",
       "      <th>2677</th>\n",
       "      <td>0</td>\n",
       "      <td>8705</td>\n",
       "      <td>0.013765</td>\n",
       "    </tr>\n",
       "  </tbody>\n",
       "</table>\n",
       "<p>2678 rows × 3 columns</p>\n",
       "</div>"
      ],
      "text/plain": [
       "      Converted  Prospect ID  Converted_pred\n",
       "0             0         7625        0.139377\n",
       "1             1         5207        0.978003\n",
       "2             1         2390        0.996789\n",
       "3             0         4362        0.025761\n",
       "4             0         1023        0.021559\n",
       "...         ...          ...             ...\n",
       "2673          0         1555        0.048014\n",
       "2674          0          566        0.119035\n",
       "2675          0         6433        0.027242\n",
       "2676          0          898        0.000561\n",
       "2677          0         8705        0.013765\n",
       "\n",
       "[2678 rows x 3 columns]"
      ]
     },
     "execution_count": 170,
     "metadata": {},
     "output_type": "execute_result"
    }
   ],
   "source": [
    "y_pred_final"
   ]
  },
  {
   "cell_type": "code",
   "execution_count": 171,
   "metadata": {},
   "outputs": [
    {
     "data": {
      "text/html": [
       "<div>\n",
       "<style scoped>\n",
       "    .dataframe tbody tr th:only-of-type {\n",
       "        vertical-align: middle;\n",
       "    }\n",
       "\n",
       "    .dataframe tbody tr th {\n",
       "        vertical-align: top;\n",
       "    }\n",
       "\n",
       "    .dataframe thead th {\n",
       "        text-align: right;\n",
       "    }\n",
       "</style>\n",
       "<table border=\"1\" class=\"dataframe\">\n",
       "  <thead>\n",
       "    <tr style=\"text-align: right;\">\n",
       "      <th></th>\n",
       "      <th>Prospect ID</th>\n",
       "      <th>Converted</th>\n",
       "      <th>Converted_pred</th>\n",
       "    </tr>\n",
       "  </thead>\n",
       "  <tbody>\n",
       "    <tr>\n",
       "      <th>0</th>\n",
       "      <td>7625</td>\n",
       "      <td>0</td>\n",
       "      <td>0.139377</td>\n",
       "    </tr>\n",
       "    <tr>\n",
       "      <th>1</th>\n",
       "      <td>5207</td>\n",
       "      <td>1</td>\n",
       "      <td>0.978003</td>\n",
       "    </tr>\n",
       "    <tr>\n",
       "      <th>2</th>\n",
       "      <td>2390</td>\n",
       "      <td>1</td>\n",
       "      <td>0.996789</td>\n",
       "    </tr>\n",
       "    <tr>\n",
       "      <th>3</th>\n",
       "      <td>4362</td>\n",
       "      <td>0</td>\n",
       "      <td>0.025761</td>\n",
       "    </tr>\n",
       "    <tr>\n",
       "      <th>4</th>\n",
       "      <td>1023</td>\n",
       "      <td>0</td>\n",
       "      <td>0.021559</td>\n",
       "    </tr>\n",
       "  </tbody>\n",
       "</table>\n",
       "</div>"
      ],
      "text/plain": [
       "   Prospect ID  Converted  Converted_pred\n",
       "0         7625          0        0.139377\n",
       "1         5207          1        0.978003\n",
       "2         2390          1        0.996789\n",
       "3         4362          0        0.025761\n",
       "4         1023          0        0.021559"
      ]
     },
     "execution_count": 171,
     "metadata": {},
     "output_type": "execute_result"
    }
   ],
   "source": [
    "y_pred_final = y_pred_final.reindex(['Prospect ID','Converted','Converted_pred'], axis=1)\n",
    "y_pred_final.head()"
   ]
  },
  {
   "cell_type": "code",
   "execution_count": 172,
   "metadata": {},
   "outputs": [],
   "source": [
    "#Again find 'finl predicted' value based on our cut off 0.3\n",
    "y_pred_final['final_predicted'] = y_pred_final.Converted_pred.map(lambda x: 1 if x > 0.3 else 0)"
   ]
  },
  {
   "cell_type": "code",
   "execution_count": 173,
   "metadata": {},
   "outputs": [
    {
     "data": {
      "text/html": [
       "<div>\n",
       "<style scoped>\n",
       "    .dataframe tbody tr th:only-of-type {\n",
       "        vertical-align: middle;\n",
       "    }\n",
       "\n",
       "    .dataframe tbody tr th {\n",
       "        vertical-align: top;\n",
       "    }\n",
       "\n",
       "    .dataframe thead th {\n",
       "        text-align: right;\n",
       "    }\n",
       "</style>\n",
       "<table border=\"1\" class=\"dataframe\">\n",
       "  <thead>\n",
       "    <tr style=\"text-align: right;\">\n",
       "      <th></th>\n",
       "      <th>Prospect ID</th>\n",
       "      <th>Converted</th>\n",
       "      <th>Converted_pred</th>\n",
       "      <th>final_predicted</th>\n",
       "    </tr>\n",
       "  </thead>\n",
       "  <tbody>\n",
       "    <tr>\n",
       "      <th>0</th>\n",
       "      <td>7625</td>\n",
       "      <td>0</td>\n",
       "      <td>0.139377</td>\n",
       "      <td>0</td>\n",
       "    </tr>\n",
       "    <tr>\n",
       "      <th>1</th>\n",
       "      <td>5207</td>\n",
       "      <td>1</td>\n",
       "      <td>0.978003</td>\n",
       "      <td>1</td>\n",
       "    </tr>\n",
       "    <tr>\n",
       "      <th>2</th>\n",
       "      <td>2390</td>\n",
       "      <td>1</td>\n",
       "      <td>0.996789</td>\n",
       "      <td>1</td>\n",
       "    </tr>\n",
       "    <tr>\n",
       "      <th>3</th>\n",
       "      <td>4362</td>\n",
       "      <td>0</td>\n",
       "      <td>0.025761</td>\n",
       "      <td>0</td>\n",
       "    </tr>\n",
       "    <tr>\n",
       "      <th>4</th>\n",
       "      <td>1023</td>\n",
       "      <td>0</td>\n",
       "      <td>0.021559</td>\n",
       "      <td>0</td>\n",
       "    </tr>\n",
       "  </tbody>\n",
       "</table>\n",
       "</div>"
      ],
      "text/plain": [
       "   Prospect ID  Converted  Converted_pred  final_predicted\n",
       "0         7625          0        0.139377                0\n",
       "1         5207          1        0.978003                1\n",
       "2         2390          1        0.996789                1\n",
       "3         4362          0        0.025761                0\n",
       "4         1023          0        0.021559                0"
      ]
     },
     "execution_count": 173,
     "metadata": {},
     "output_type": "execute_result"
    }
   ],
   "source": [
    "y_pred_final.head()"
   ]
  },
  {
   "cell_type": "code",
   "execution_count": 174,
   "metadata": {},
   "outputs": [
    {
     "name": "stdout",
     "output_type": "stream",
     "text": [
      "Accuracy Score of Test Dataset is 92.42%\n"
     ]
    }
   ],
   "source": [
    "print(\"Accuracy Score of Test Dataset is {}%\".\n",
    "      format(round(100*metrics.accuracy_score(y_pred_final.Converted, y_pred_final.final_predicted),2)))\n"
   ]
  },
  {
   "cell_type": "code",
   "execution_count": 175,
   "metadata": {},
   "outputs": [
    {
     "data": {
      "text/plain": [
       "92.42"
      ]
     },
     "execution_count": 175,
     "metadata": {},
     "output_type": "execute_result"
    }
   ],
   "source": [
    "#accuracy score\n",
    "round(100*metrics.accuracy_score(y_pred_final.Converted, y_pred_final.final_predicted),2)"
   ]
  },
  {
   "cell_type": "code",
   "execution_count": 176,
   "metadata": {},
   "outputs": [
    {
     "data": {
      "text/plain": [
       "array([[1560,  124],\n",
       "       [  79,  915]], dtype=int64)"
      ]
     },
     "execution_count": 176,
     "metadata": {},
     "output_type": "execute_result"
    }
   ],
   "source": [
    "confusion2 = metrics.confusion_matrix(y_pred_final.Converted, y_pred_final.final_predicted )\n",
    "confusion2"
   ]
  },
  {
   "cell_type": "code",
   "execution_count": 177,
   "metadata": {},
   "outputs": [],
   "source": [
    "TP = confusion2[1,1] # true positive \n",
    "TN = confusion2[0,0] # true negatives\n",
    "FP = confusion2[0,1] # false positives\n",
    "FN = confusion2[1,0] # false negatives"
   ]
  },
  {
   "cell_type": "code",
   "execution_count": 178,
   "metadata": {},
   "outputs": [
    {
     "name": "stdout",
     "output_type": "stream",
     "text": [
      "Sensitivity of Test Dataset is 92.05%\n"
     ]
    }
   ],
   "source": [
    "#Sensitivity\n",
    "print(\"Sensitivity of Test Dataset is {}%\".\n",
    "      format(round(100*(TP / float(TP+FN)),2)))\n",
    "\n"
   ]
  },
  {
   "cell_type": "code",
   "execution_count": 179,
   "metadata": {},
   "outputs": [
    {
     "name": "stdout",
     "output_type": "stream",
     "text": [
      "Specificity of Test Dataset is 92.64%\n"
     ]
    }
   ],
   "source": [
    "#Specificity\n",
    "\n",
    "print(\"Specificity of Test Dataset is {}%\".\n",
    "      format(round(100*(TN / float(TN+FP)),2)))\n"
   ]
  },
  {
   "cell_type": "markdown",
   "metadata": {},
   "source": [
    "# Test Data\n",
    "\n",
    "- Accuracy = 92.42 %\n",
    "- Sensitivity = 92.05 %\n",
    "- Specificity = 92.64 %"
   ]
  },
  {
   "cell_type": "code",
   "execution_count": 180,
   "metadata": {},
   "outputs": [
    {
     "data": {
      "text/plain": [
       "Total_Time_Spent_on_Website                      1.077300\n",
       "Lead_Origin_Lead Add Form                        1.748098\n",
       "Lead_Source_Olark Chat                           1.234878\n",
       "Lead_Source_Welingak Website                     3.470638\n",
       "Last_Activity_Email Bounced                     -1.397424\n",
       "Last_Activity_SMS Sent                           1.981928\n",
       "Tags_Closed by Horizzon                          6.589339\n",
       "Tags_Interested in other courses                -1.964629\n",
       "Tags_Lost to EINS                                5.490901\n",
       "Tags_Other_Tags                                 -2.596492\n",
       "Tags_Ringing                                    -3.592996\n",
       "Tags_Will revert after reading the email         4.497017\n",
       "Last_Notable_Activity_Modified                  -1.732901\n",
       "Last_Notable_Activity_Olark Chat Conversation   -1.852099\n",
       "dtype: float64"
      ]
     },
     "execution_count": 180,
     "metadata": {},
     "output_type": "execute_result"
    }
   ],
   "source": [
    "new_params = res.params[1:]\n",
    "new_params"
   ]
  },
  {
   "cell_type": "code",
   "execution_count": 181,
   "metadata": {},
   "outputs": [
    {
     "data": {
      "text/plain": [
       "Total_Time_Spent_on_Website                       16.349138\n",
       "Lead_Origin_Lead Add Form                         26.529189\n",
       "Lead_Source_Olark Chat                            18.740538\n",
       "Lead_Source_Welingak Website                      52.670510\n",
       "Last_Activity_Email Bounced                      -21.207348\n",
       "Last_Activity_SMS Sent                            30.077800\n",
       "Tags_Closed by Horizzon                          100.000000\n",
       "Tags_Interested in other courses                 -29.815274\n",
       "Tags_Lost to EINS                                 83.330080\n",
       "Tags_Other_Tags                                  -39.404435\n",
       "Tags_Ringing                                     -54.527417\n",
       "Tags_Will revert after reading the email          68.246862\n",
       "Last_Notable_Activity_Modified                   -26.298551\n",
       "Last_Notable_Activity_Olark Chat Conversation    -28.107512\n",
       "dtype: float64"
      ]
     },
     "execution_count": 181,
     "metadata": {},
     "output_type": "execute_result"
    }
   ],
   "source": [
    "#feature_importance = abs(new_params)\n",
    "significant_features = new_params\n",
    "significant_features = 100.0 * (significant_features / significant_features.max())\n",
    "significant_features"
   ]
  },
  {
   "cell_type": "code",
   "execution_count": 182,
   "metadata": {},
   "outputs": [
    {
     "data": {
      "text/html": [
       "<div>\n",
       "<style scoped>\n",
       "    .dataframe tbody tr th:only-of-type {\n",
       "        vertical-align: middle;\n",
       "    }\n",
       "\n",
       "    .dataframe tbody tr th {\n",
       "        vertical-align: top;\n",
       "    }\n",
       "\n",
       "    .dataframe thead th {\n",
       "        text-align: right;\n",
       "    }\n",
       "</style>\n",
       "<table border=\"1\" class=\"dataframe\">\n",
       "  <thead>\n",
       "    <tr style=\"text-align: right;\">\n",
       "      <th></th>\n",
       "      <th>0</th>\n",
       "    </tr>\n",
       "  </thead>\n",
       "  <tbody>\n",
       "    <tr>\n",
       "      <th>Total_Time_Spent_on_Website</th>\n",
       "      <td>16.349138</td>\n",
       "    </tr>\n",
       "    <tr>\n",
       "      <th>Lead_Origin_Lead Add Form</th>\n",
       "      <td>26.529189</td>\n",
       "    </tr>\n",
       "    <tr>\n",
       "      <th>Lead_Source_Olark Chat</th>\n",
       "      <td>18.740538</td>\n",
       "    </tr>\n",
       "    <tr>\n",
       "      <th>Lead_Source_Welingak Website</th>\n",
       "      <td>52.670510</td>\n",
       "    </tr>\n",
       "    <tr>\n",
       "      <th>Last_Activity_Email Bounced</th>\n",
       "      <td>-21.207348</td>\n",
       "    </tr>\n",
       "    <tr>\n",
       "      <th>Last_Activity_SMS Sent</th>\n",
       "      <td>30.077800</td>\n",
       "    </tr>\n",
       "    <tr>\n",
       "      <th>Tags_Closed by Horizzon</th>\n",
       "      <td>100.000000</td>\n",
       "    </tr>\n",
       "    <tr>\n",
       "      <th>Tags_Interested in other courses</th>\n",
       "      <td>-29.815274</td>\n",
       "    </tr>\n",
       "    <tr>\n",
       "      <th>Tags_Lost to EINS</th>\n",
       "      <td>83.330080</td>\n",
       "    </tr>\n",
       "    <tr>\n",
       "      <th>Tags_Other_Tags</th>\n",
       "      <td>-39.404435</td>\n",
       "    </tr>\n",
       "    <tr>\n",
       "      <th>Tags_Ringing</th>\n",
       "      <td>-54.527417</td>\n",
       "    </tr>\n",
       "    <tr>\n",
       "      <th>Tags_Will revert after reading the email</th>\n",
       "      <td>68.246862</td>\n",
       "    </tr>\n",
       "    <tr>\n",
       "      <th>Last_Notable_Activity_Modified</th>\n",
       "      <td>-26.298551</td>\n",
       "    </tr>\n",
       "    <tr>\n",
       "      <th>Last_Notable_Activity_Olark Chat Conversation</th>\n",
       "      <td>-28.107512</td>\n",
       "    </tr>\n",
       "  </tbody>\n",
       "</table>\n",
       "</div>"
      ],
      "text/plain": [
       "                                                        0\n",
       "Total_Time_Spent_on_Website                     16.349138\n",
       "Lead_Origin_Lead Add Form                       26.529189\n",
       "Lead_Source_Olark Chat                          18.740538\n",
       "Lead_Source_Welingak Website                    52.670510\n",
       "Last_Activity_Email Bounced                    -21.207348\n",
       "Last_Activity_SMS Sent                          30.077800\n",
       "Tags_Closed by Horizzon                        100.000000\n",
       "Tags_Interested in other courses               -29.815274\n",
       "Tags_Lost to EINS                               83.330080\n",
       "Tags_Other_Tags                                -39.404435\n",
       "Tags_Ringing                                   -54.527417\n",
       "Tags_Will revert after reading the email        68.246862\n",
       "Last_Notable_Activity_Modified                 -26.298551\n",
       "Last_Notable_Activity_Olark Chat Conversation  -28.107512"
      ]
     },
     "execution_count": 182,
     "metadata": {},
     "output_type": "execute_result"
    }
   ],
   "source": [
    "significant_features = significant_features.to_frame()\n",
    "significant_features"
   ]
  },
  {
   "cell_type": "code",
   "execution_count": 183,
   "metadata": {},
   "outputs": [],
   "source": [
    "significant_features=significant_features.reset_index()"
   ]
  },
  {
   "cell_type": "code",
   "execution_count": 184,
   "metadata": {
    "scrolled": true
   },
   "outputs": [
    {
     "data": {
      "text/html": [
       "<div>\n",
       "<style scoped>\n",
       "    .dataframe tbody tr th:only-of-type {\n",
       "        vertical-align: middle;\n",
       "    }\n",
       "\n",
       "    .dataframe tbody tr th {\n",
       "        vertical-align: top;\n",
       "    }\n",
       "\n",
       "    .dataframe thead th {\n",
       "        text-align: right;\n",
       "    }\n",
       "</style>\n",
       "<table border=\"1\" class=\"dataframe\">\n",
       "  <thead>\n",
       "    <tr style=\"text-align: right;\">\n",
       "      <th></th>\n",
       "      <th>Significant_Columns</th>\n",
       "      <th>Coefficient</th>\n",
       "    </tr>\n",
       "  </thead>\n",
       "  <tbody>\n",
       "    <tr>\n",
       "      <th>6</th>\n",
       "      <td>Tags_Closed by Horizzon</td>\n",
       "      <td>100.000000</td>\n",
       "    </tr>\n",
       "    <tr>\n",
       "      <th>8</th>\n",
       "      <td>Tags_Lost to EINS</td>\n",
       "      <td>83.330080</td>\n",
       "    </tr>\n",
       "    <tr>\n",
       "      <th>11</th>\n",
       "      <td>Tags_Will revert after reading the email</td>\n",
       "      <td>68.246862</td>\n",
       "    </tr>\n",
       "    <tr>\n",
       "      <th>3</th>\n",
       "      <td>Lead_Source_Welingak Website</td>\n",
       "      <td>52.670510</td>\n",
       "    </tr>\n",
       "    <tr>\n",
       "      <th>5</th>\n",
       "      <td>Last_Activity_SMS Sent</td>\n",
       "      <td>30.077800</td>\n",
       "    </tr>\n",
       "    <tr>\n",
       "      <th>1</th>\n",
       "      <td>Lead_Origin_Lead Add Form</td>\n",
       "      <td>26.529189</td>\n",
       "    </tr>\n",
       "    <tr>\n",
       "      <th>2</th>\n",
       "      <td>Lead_Source_Olark Chat</td>\n",
       "      <td>18.740538</td>\n",
       "    </tr>\n",
       "    <tr>\n",
       "      <th>0</th>\n",
       "      <td>Total_Time_Spent_on_Website</td>\n",
       "      <td>16.349138</td>\n",
       "    </tr>\n",
       "    <tr>\n",
       "      <th>4</th>\n",
       "      <td>Last_Activity_Email Bounced</td>\n",
       "      <td>-21.207348</td>\n",
       "    </tr>\n",
       "    <tr>\n",
       "      <th>12</th>\n",
       "      <td>Last_Notable_Activity_Modified</td>\n",
       "      <td>-26.298551</td>\n",
       "    </tr>\n",
       "    <tr>\n",
       "      <th>13</th>\n",
       "      <td>Last_Notable_Activity_Olark Chat Conversation</td>\n",
       "      <td>-28.107512</td>\n",
       "    </tr>\n",
       "    <tr>\n",
       "      <th>7</th>\n",
       "      <td>Tags_Interested in other courses</td>\n",
       "      <td>-29.815274</td>\n",
       "    </tr>\n",
       "    <tr>\n",
       "      <th>9</th>\n",
       "      <td>Tags_Other_Tags</td>\n",
       "      <td>-39.404435</td>\n",
       "    </tr>\n",
       "    <tr>\n",
       "      <th>10</th>\n",
       "      <td>Tags_Ringing</td>\n",
       "      <td>-54.527417</td>\n",
       "    </tr>\n",
       "  </tbody>\n",
       "</table>\n",
       "</div>"
      ],
      "text/plain": [
       "                              Significant_Columns  Coefficient\n",
       "6                         Tags_Closed by Horizzon   100.000000\n",
       "8                               Tags_Lost to EINS    83.330080\n",
       "11       Tags_Will revert after reading the email    68.246862\n",
       "3                    Lead_Source_Welingak Website    52.670510\n",
       "5                          Last_Activity_SMS Sent    30.077800\n",
       "1                       Lead_Origin_Lead Add Form    26.529189\n",
       "2                          Lead_Source_Olark Chat    18.740538\n",
       "0                     Total_Time_Spent_on_Website    16.349138\n",
       "4                     Last_Activity_Email Bounced   -21.207348\n",
       "12                 Last_Notable_Activity_Modified   -26.298551\n",
       "13  Last_Notable_Activity_Olark Chat Conversation   -28.107512\n",
       "7                Tags_Interested in other courses   -29.815274\n",
       "9                                 Tags_Other_Tags   -39.404435\n",
       "10                                   Tags_Ringing   -54.527417"
      ]
     },
     "execution_count": 184,
     "metadata": {},
     "output_type": "execute_result"
    }
   ],
   "source": [
    "significant_features.columns = [\"Significant_Columns\",\"Coefficient\"]\n",
    "significant_features.sort_values(by=\"Coefficient\",ascending=False,inplace=True)\n",
    "significant_features"
   ]
  },
  {
   "cell_type": "code",
   "execution_count": 185,
   "metadata": {},
   "outputs": [
    {
     "data": {
      "image/png": "[encoded data removed]",
      "text/plain": [
       "<Figure size 360x360 with 1 Axes>"
      ]
     },
     "metadata": {
      "needs_background": "light"
     },
     "output_type": "display_data"
    }
   ],
   "source": [
    "plt.figure(figsize=(5,5))\n",
    "sns.barplot(\"Coefficient\",\"Significant_Columns\",data=significant_features)\n",
    "plt.show()"
   ]
  },
  {
   "cell_type": "markdown",
   "metadata": {},
   "source": [
    "### High and Low significant features that significantly affects the prediction of our Modal\n",
    "\n",
    "#### Top 3 Significant Features:\n",
    "- Tags_Closed by Horizzon\n",
    "- Tags_Lost to EINS\n",
    "- Tags_Will revert after reading the email\n",
    "\n",
    "#### Bottom 3 Significant Features:\n",
    "- Tags_Ringing\n",
    "- Tags_Other_Tags\n",
    "- Tags_Interested in other courses\t\n",
    "\n",
    ">Need to Concentrate more on the above features, to increase the prediction capability"
   ]
  },
  {
   "cell_type": "markdown",
   "metadata": {},
   "source": [
    "# OBSERVATIONS:\n",
    "\n",
    "## Train Dataset\n",
    "\n",
    "- Accuracy - 92.2 %\n",
    "- Sensitivity - 91.41 %\n",
    "- Specificity - 92.69 %\n",
    "\n",
    "\n",
    "## Test Data\n",
    "\n",
    "- Accuracy = 92.42 %\n",
    "- Sensitivity = 92.05 %\n",
    "- Specificity = 92.64 %"
   ]
  }
 ],
 "metadata": {
  "kernelspec": {
   "display_name": "Python 3",
   "language": "python",
   "name": "python3"
  },
  "language_info": {
   "codemirror_mode": {
    "name": "ipython",
    "version": 3
   },
   "file_extension": ".py",
   "mimetype": "text/x-python",
   "name": "python",
   "nbconvert_exporter": "python",
   "pygments_lexer": "ipython3",
   "version": "3.7.3"
  }
 },
 "nbformat": 4,
 "nbformat_minor": 2
}
